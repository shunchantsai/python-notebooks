{
 "cells": [
  {
   "cell_type": "code",
   "execution_count": 1,
   "id": "a675fecb-282f-4d82-ae1c-af8780c90862",
   "metadata": {},
   "outputs": [
    {
     "name": "stdout",
     "output_type": "stream",
     "text": [
      "Hello there!\n",
      "How are you?\n",
      "I'm doing fine.\n"
     ]
    }
   ],
   "source": [
    "print(\"Hello there!\\nHow are you?\\nI\\'m doing fine.\")"
   ]
  },
  {
   "cell_type": "code",
   "execution_count": 2,
   "id": "e0ad2378-fa2a-473e-a2a2-7dde43364545",
   "metadata": {},
   "outputs": [
    {
     "name": "stdout",
     "output_type": "stream",
     "text": [
      "The file is in C:\\Users\\Alice\\Desktop\n"
     ]
    }
   ],
   "source": [
    "print(r'The file is in C:\\Users\\Alice\\Desktop')"
   ]
  },
  {
   "cell_type": "code",
   "execution_count": 3,
   "id": "eaefe8be-3114-40c8-9c41-06725da14f0f",
   "metadata": {},
   "outputs": [
    {
     "name": "stdout",
     "output_type": "stream",
     "text": [
      "Hello...\n",
      "\n",
      "...world!\n"
     ]
    }
   ],
   "source": [
    "# Without a raw string\n",
    "print('Hello...\\n\\n...world!')"
   ]
  },
  {
   "cell_type": "code",
   "execution_count": 4,
   "id": "77a42947-ae4b-4fd2-be11-72526138f8e3",
   "metadata": {},
   "outputs": [
    {
     "name": "stdout",
     "output_type": "stream",
     "text": [
      "Hello...\\n\\n...world!\n"
     ]
    }
   ],
   "source": [
    "# With a raw string\n",
    "print(r'Hello...\\n\\n...world!') "
   ]
  },
  {
   "cell_type": "code",
   "execution_count": 5,
   "id": "a290cc63-1cf3-4842-9d1b-d9e120e08f72",
   "metadata": {},
   "outputs": [
    {
     "name": "stdout",
     "output_type": "stream",
     "text": [
      "Dear Alice,\n",
      "\n",
      "Can you feed Eve's cat this weekend?\n",
      "\n",
      "Sincerely,\n",
      "Bob\n"
     ]
    }
   ],
   "source": [
    "print(\"Dear Alice,\\n\\nCan you feed Eve's cat this weekend?\\n\\nSincerely,\\nBob\")"
   ]
  },
  {
   "cell_type": "code",
   "execution_count": 6,
   "id": "21e854cb-bdac-49f0-a280-df99aa249d01",
   "metadata": {},
   "outputs": [],
   "source": [
    "\"\"\"This is a test Python program.\n",
    "Written by Al Sweigart al@inventwithpython.com\n",
    "\n",
    "This program was designed for Python 3, not Python 2.\n",
    "\"\"\"\n",
    "\n",
    "def say_hello():\n",
    "    \"\"\"This function prints hello.\n",
    "    It does not return anything.\"\"\"\n",
    "    print('Hello!')"
   ]
  },
  {
   "cell_type": "code",
   "execution_count": 7,
   "id": "85102c13-cebe-4093-915f-2566d9cc59fa",
   "metadata": {},
   "outputs": [
    {
     "name": "stdout",
     "output_type": "stream",
     "text": [
      "!\n",
      "world\n",
      "world!\n"
     ]
    }
   ],
   "source": [
    "greeting = 'Hello, world!'\n",
    "print(greeting[-1])\n",
    "print(greeting[7:-1])\n",
    "print(greeting[7:])"
   ]
  },
  {
   "cell_type": "code",
   "execution_count": 8,
   "id": "63c540f9-91c7-42e7-b0d2-32f1aeab9793",
   "metadata": {},
   "outputs": [
    {
     "data": {
      "text/plain": [
       "True"
      ]
     },
     "execution_count": 8,
     "metadata": {},
     "output_type": "execute_result"
    }
   ],
   "source": [
    "'Hello' in 'Hello, World'"
   ]
  },
  {
   "cell_type": "code",
   "execution_count": 9,
   "id": "d55ad1da-ecc8-4361-8064-0f77b1946d36",
   "metadata": {},
   "outputs": [
    {
     "data": {
      "text/plain": [
       "False"
      ]
     },
     "execution_count": 9,
     "metadata": {},
     "output_type": "execute_result"
    }
   ],
   "source": [
    "'cats' not in 'cats and dogs'"
   ]
  },
  {
   "cell_type": "code",
   "execution_count": 11,
   "id": "e2045be4-f37d-4aac-ab33-45a2c8395b00",
   "metadata": {},
   "outputs": [
    {
     "name": "stdout",
     "output_type": "stream",
     "text": [
      "Hello, my name is Al. I am 4000 years old.\n"
     ]
    },
    {
     "data": {
      "text/plain": [
       "'In ten years I will be 4010'"
      ]
     },
     "execution_count": 11,
     "metadata": {},
     "output_type": "execute_result"
    }
   ],
   "source": [
    "name = 'Al'\n",
    "age = 4000\n",
    "print('Hello, my name is ' + name + '. I am ' + str(age) + ' years old.')\n",
    "'In ten years I will be ' + str(age + 10)"
   ]
  },
  {
   "cell_type": "code",
   "execution_count": 15,
   "id": "d80c1e9f-f444-4155-8145-49d65962ff44",
   "metadata": {},
   "outputs": [
    {
     "name": "stdout",
     "output_type": "stream",
     "text": [
      "My name is Al. I am 4000 years old.\n",
      "In ten years I will be 4010\n"
     ]
    }
   ],
   "source": [
    "name = 'Al'\n",
    "age = 4000\n",
    "print(f'My name is {name}. I am {age} years old.')\n",
    "print(f'In ten years I will be {age + 10}')"
   ]
  },
  {
   "cell_type": "code",
   "execution_count": 14,
   "id": "8b2cf3e4-3038-4b44-8841-120535485171",
   "metadata": {},
   "outputs": [
    {
     "name": "stdout",
     "output_type": "stream",
     "text": [
      "Zophie\n",
      "{name}\n"
     ]
    }
   ],
   "source": [
    "name = 'Zophie'\n",
    "print(f'{name}')\n",
    "print(f'{{name}}')"
   ]
  },
  {
   "cell_type": "code",
   "execution_count": 17,
   "id": "ad03892a-244d-40df-81d8-5403344e141f",
   "metadata": {},
   "outputs": [
    {
     "name": "stdout",
     "output_type": "stream",
     "text": [
      "My name is Al. I am 4000 years old.\n",
      "In ten years I will be 4010\n"
     ]
    }
   ],
   "source": [
    "name = 'Al'\n",
    "age = 4000\n",
    "print('My name is %s. I am %s years old.' % (name, age))\n",
    "print('In ten years I will be %s' % (age + 10))"
   ]
  },
  {
   "cell_type": "code",
   "execution_count": 18,
   "id": "51e1bf54-6c4f-4cc8-8428-1d8272e2ed64",
   "metadata": {},
   "outputs": [
    {
     "data": {
      "text/plain": [
       "'4000 years ago, Al was born and named Al.'"
      ]
     },
     "execution_count": 18,
     "metadata": {},
     "output_type": "execute_result"
    }
   ],
   "source": [
    "name = 'Al'\n",
    "age = 4000\n",
    "'{1} years ago, {0} was born and named {0}.'.format(name, age)"
   ]
  },
  {
   "cell_type": "code",
   "execution_count": 19,
   "id": "89b4c079-0c47-4238-a56c-006db6dc601e",
   "metadata": {},
   "outputs": [
    {
     "name": "stdout",
     "output_type": "stream",
     "text": [
      "How are you?\n"
     ]
    },
    {
     "name": "stdin",
     "output_type": "stream",
     "text": [
      " shit\n"
     ]
    },
    {
     "name": "stdout",
     "output_type": "stream",
     "text": [
      "I hope the rest of your day is good.\n"
     ]
    }
   ],
   "source": [
    "print('How are you?')\n",
    "feeling = input()\n",
    "if feeling.lower() == 'great':\n",
    "    print('I feel great too.')\n",
    "else:\n",
    "    print('I hope the rest of your day is good.')"
   ]
  },
  {
   "cell_type": "code",
   "execution_count": 20,
   "id": "0d182b8c-fb54-484f-ae16-3901331f71b1",
   "metadata": {},
   "outputs": [
    {
     "name": "stdout",
     "output_type": "stream",
     "text": [
      "True\n",
      "False\n"
     ]
    }
   ],
   "source": [
    "print('hello'.isalpha())\n",
    "print('hello123'.isalpha())"
   ]
  },
  {
   "cell_type": "code",
   "execution_count": 22,
   "id": "8dfc62ef-8e1d-49b4-9ef1-7cd7a1bb44ac",
   "metadata": {},
   "outputs": [
    {
     "name": "stdout",
     "output_type": "stream",
     "text": [
      "True\n",
      "True\n"
     ]
    }
   ],
   "source": [
    "print('hello123'.isalnum())\n",
    "print('hello'.isalnum())"
   ]
  },
  {
   "cell_type": "code",
   "execution_count": 24,
   "id": "d4648439-db07-45af-8293-955efa12d169",
   "metadata": {},
   "outputs": [
    {
     "name": "stdout",
     "output_type": "stream",
     "text": [
      "True\n",
      "True\n",
      "True\n"
     ]
    }
   ],
   "source": [
    "print('123'.isdecimal())\n",
    "print('    '.isspace())\n",
    "print('This Is Title Case'.istitle())"
   ]
  },
  {
   "cell_type": "code",
   "execution_count": 25,
   "id": "6f3d6ca7-64b5-411b-82ca-5cef46343150",
   "metadata": {},
   "outputs": [
    {
     "name": "stdout",
     "output_type": "stream",
     "text": [
      "Enter your age:\n"
     ]
    },
    {
     "name": "stdin",
     "output_type": "stream",
     "text": [
      " 29\n"
     ]
    },
    {
     "name": "stdout",
     "output_type": "stream",
     "text": [
      "Select a new password (letters and numbers only):\n"
     ]
    },
    {
     "name": "stdin",
     "output_type": "stream",
     "text": [
      " 123abc\n"
     ]
    }
   ],
   "source": [
    "while True:\n",
    "    print('Enter your age:')\n",
    "    age = input()\n",
    "    if age.isdecimal():\n",
    "        break\n",
    "    print('Please enter a number for your age.')\n",
    "\n",
    "while True:\n",
    "    print('Select a new password (letters and numbers only):')\n",
    "    password = input()\n",
    "    if password.isalnum():\n",
    "        break\n",
    "    print('Passwords can only have letters and numbers.')"
   ]
  },
  {
   "cell_type": "code",
   "execution_count": 26,
   "id": "8479723d-6aa0-4dfd-8e33-b35fbf128233",
   "metadata": {},
   "outputs": [
    {
     "data": {
      "text/plain": [
       "'cats, rats, bats'"
      ]
     },
     "execution_count": 26,
     "metadata": {},
     "output_type": "execute_result"
    }
   ],
   "source": [
    "', '.join(['cats', 'rats', 'bats'])"
   ]
  },
  {
   "cell_type": "code",
   "execution_count": 27,
   "id": "7a7faabd-41e7-48d7-a6b7-4ea96df93253",
   "metadata": {},
   "outputs": [
    {
     "data": {
      "text/plain": [
       "'My name is Simon'"
      ]
     },
     "execution_count": 27,
     "metadata": {},
     "output_type": "execute_result"
    }
   ],
   "source": [
    "' '.join(['My', 'name', 'is', 'Simon'])"
   ]
  },
  {
   "cell_type": "code",
   "execution_count": 28,
   "id": "686b8559-d399-4b6a-b936-20692570d771",
   "metadata": {},
   "outputs": [
    {
     "data": {
      "text/plain": [
       "'MyABCnameABCisABCSimon'"
      ]
     },
     "execution_count": 28,
     "metadata": {},
     "output_type": "execute_result"
    }
   ],
   "source": [
    "'ABC'.join(['My', 'name', 'is', 'Simon'])"
   ]
  },
  {
   "cell_type": "code",
   "execution_count": 29,
   "id": "de0888ee-eec7-45a2-8891-29a58a77ebfe",
   "metadata": {},
   "outputs": [
    {
     "data": {
      "text/plain": [
       "['My', 'name', 'is', 'Simon']"
      ]
     },
     "execution_count": 29,
     "metadata": {},
     "output_type": "execute_result"
    }
   ],
   "source": [
    "'My name is Simon'.split()"
   ]
  },
  {
   "cell_type": "code",
   "execution_count": 30,
   "id": "189b9611-37fe-41d1-b25c-6d684fa3e492",
   "metadata": {},
   "outputs": [
    {
     "data": {
      "text/plain": [
       "['My', 'name', 'is', 'Simon']"
      ]
     },
     "execution_count": 30,
     "metadata": {},
     "output_type": "execute_result"
    }
   ],
   "source": [
    "'MyABCnameABCisABCSimon'.split('ABC')"
   ]
  },
  {
   "cell_type": "code",
   "execution_count": 31,
   "id": "394b2bdc-9919-4cf5-864e-9228a9fa32a0",
   "metadata": {},
   "outputs": [
    {
     "data": {
      "text/plain": [
       "['My na', 'e is Si', 'on']"
      ]
     },
     "execution_count": 31,
     "metadata": {},
     "output_type": "execute_result"
    }
   ],
   "source": [
    "'My name is Simon'.split('m')"
   ]
  },
  {
   "cell_type": "code",
   "execution_count": 32,
   "id": "16c3b79a-4f5d-4bd9-80ee-ea2088cebffd",
   "metadata": {},
   "outputs": [
    {
     "data": {
      "text/plain": [
       "['Dear Alice,',\n",
       " 'There is a milk bottle in the fridge',\n",
       " 'that is labeled \"Milk Experiment.\"',\n",
       " 'Please do not drink it.',\n",
       " 'Sincerely,',\n",
       " 'Bob']"
      ]
     },
     "execution_count": 32,
     "metadata": {},
     "output_type": "execute_result"
    }
   ],
   "source": [
    "spam = '''Dear Alice,\n",
    "There is a milk bottle in the fridge\n",
    "that is labeled \"Milk Experiment.\"\n",
    "Please do not drink it.\n",
    "Sincerely,\n",
    "Bob'''\n",
    "spam.split('\\n')"
   ]
  },
  {
   "cell_type": "code",
   "execution_count": 34,
   "id": "b27e213c-d525-49ce-9149-961b3e092553",
   "metadata": {},
   "outputs": [
    {
     "name": "stdout",
     "output_type": "stream",
     "text": [
      "     Hello\n",
      "               Hello\n",
      "        Hello, World\n",
      "Hello     \n"
     ]
    }
   ],
   "source": [
    "print('Hello'.rjust(10))\n",
    "print('Hello'.rjust(20))\n",
    "print('Hello, World'.rjust(20))\n",
    "print('Hello'.ljust(10))"
   ]
  },
  {
   "cell_type": "code",
   "execution_count": 35,
   "id": "f12d9ece-7781-4705-b8b3-22c4f4436196",
   "metadata": {},
   "outputs": [
    {
     "name": "stdout",
     "output_type": "stream",
     "text": [
      "***************Hello\n",
      "Hello---------------\n"
     ]
    }
   ],
   "source": [
    "print('Hello'.rjust(20, '*'))\n",
    "print('Hello'.ljust(20, '-'))"
   ]
  },
  {
   "cell_type": "code",
   "execution_count": 36,
   "id": "2e7d7129-a8e6-49ca-aecd-dcad374de62d",
   "metadata": {},
   "outputs": [
    {
     "name": "stdout",
     "output_type": "stream",
     "text": [
      "       Hello        \n",
      "=======Hello========\n"
     ]
    }
   ],
   "source": [
    "print('Hello'.center(20))\n",
    "print('Hello'.center(20, '='))"
   ]
  },
  {
   "cell_type": "code",
   "execution_count": 38,
   "id": "9b163b77-66a8-4622-908d-d0d03ecee042",
   "metadata": {},
   "outputs": [
    {
     "name": "stdout",
     "output_type": "stream",
     "text": [
      "Hello, World\n",
      "Hello, World    \n",
      "    Hello, World\n"
     ]
    }
   ],
   "source": [
    "spam = '    Hello, World    '\n",
    "print(spam.strip())\n",
    "print(spam.lstrip())\n",
    "print(spam.rstrip())"
   ]
  },
  {
   "cell_type": "code",
   "execution_count": 40,
   "id": "09801751-da72-4738-8ff6-10de3b935124",
   "metadata": {},
   "outputs": [
    {
     "data": {
      "text/plain": [
       "'BaconSpamEggs'"
      ]
     },
     "execution_count": 40,
     "metadata": {},
     "output_type": "execute_result"
    }
   ],
   "source": [
    "spam = 'SpamSpamBaconSpamEggsSpamSpam'\n",
    "spam.strip('ampS')"
   ]
  },
  {
   "cell_type": "code",
   "execution_count": 41,
   "id": "4b51896d-8e77-4f3f-a55a-837a8f78c4b8",
   "metadata": {},
   "outputs": [
    {
     "name": "stdout",
     "output_type": "stream",
     "text": [
      "65\n",
      "52\n",
      "33\n",
      "A\n"
     ]
    }
   ],
   "source": [
    "print(ord('A'))\n",
    "print(ord('4'))\n",
    "print(ord('!'))\n",
    "print(chr(65))"
   ]
  },
  {
   "cell_type": "code",
   "execution_count": 42,
   "id": "1b5265dc-462b-4b6f-912f-99e007c6a73f",
   "metadata": {},
   "outputs": [
    {
     "name": "stdout",
     "output_type": "stream",
     "text": [
      "True\n",
      "A\n",
      "B\n"
     ]
    }
   ],
   "source": [
    "print(ord('A') < ord('B'))\n",
    "print(chr(ord('A')))\n",
    "print(chr(ord('A') + 1))"
   ]
  },
  {
   "cell_type": "code",
   "execution_count": 43,
   "id": "795d20fb-6879-41ee-b5a8-0b95d50d00c8",
   "metadata": {},
   "outputs": [
    {
     "data": {
      "text/plain": [
       "'Hello, world!'"
      ]
     },
     "execution_count": 43,
     "metadata": {},
     "output_type": "execute_result"
    }
   ],
   "source": [
    "import pyperclip\n",
    "pyperclip.copy('Hello, world!')\n",
    "pyperclip.paste()"
   ]
  },
  {
   "cell_type": "code",
   "execution_count": 44,
   "id": "82ae059e-d48f-40a1-a441-d861b32c18f0",
   "metadata": {},
   "outputs": [
    {
     "data": {
      "text/plain": [
       "'For example, if I copied this sentence to the clipboard and then called paste()'"
      ]
     },
     "execution_count": 44,
     "metadata": {},
     "output_type": "execute_result"
    }
   ],
   "source": [
    "pyperclip.paste()"
   ]
  },
  {
   "cell_type": "code",
   "execution_count": 45,
   "id": "906892ce-b96a-4748-9080-c223290987b9",
   "metadata": {},
   "outputs": [
    {
     "name": "stdout",
     "output_type": "stream",
     "text": [
      "iF YoU CoPy sOmE TeXt tO ThE ClIpBoArD (fOr iNsTaNcE, tHiS SeNtEnCe) AnD RuN ThIs pRoGrAm, ThE OuTpUt aNd cLiPbOaRd cOnTeNtS BeCoMe tHiS:\n"
     ]
    }
   ],
   "source": [
    "import pyperclip\n",
    "\n",
    "text = pyperclip.paste()  # Get the text off the clipboard.\n",
    "alt_text = ''  # This string holds the alternating case.\n",
    "make_uppercase = False\n",
    "for character in text:\n",
    "    # Go through each character and add it to alt_text:\n",
    "    if make_uppercase:\n",
    "        alt_text += character.upper()\n",
    "    else:\n",
    "        alt_text += character.lower()\n",
    "\n",
    "    # Set make_uppercase to its opposite value:\n",
    "    make_uppercase = not make_uppercase\n",
    "pyperclip.copy(alt_text)  # Put the result on the clipboard.\n",
    "print(alt_text)  # Print the result on the screen too."
   ]
  },
  {
   "cell_type": "code",
   "execution_count": 68,
   "id": "e4a4b053-a145-4f0d-82ff-a29782b1e3b3",
   "metadata": {},
   "outputs": [
    {
     "name": "stdout",
     "output_type": "stream",
     "text": [
      "'Lists of animals\\\\nLists of aquarium life\\\\nLists of biologists by author\\nabbreviation\\\\nLists of cultivars'\n"
     ]
    }
   ],
   "source": [
    "print(repr(pyperclip.paste()))"
   ]
  },
  {
   "cell_type": "code",
   "execution_count": 69,
   "id": "2ad59c14-c0b1-4751-a98c-3f919dd4e8b5",
   "metadata": {},
   "outputs": [
    {
     "name": "stdout",
     "output_type": "stream",
     "text": [
      "* Lists of animals\n",
      "* Lists of aquarium life\n",
      "* Lists of biologists by author\n",
      "* abbreviation\n",
      "* Lists of cultivars\n"
     ]
    }
   ],
   "source": [
    "import pyperclip\n",
    "\n",
    "text = pyperclip.paste()\n",
    "\n",
    "# Replace literal \"\\n\" characters with actual newlines\n",
    "text = text.replace('\\\\n', '\\n')\n",
    "\n",
    "# Normalize all newlines (\\r\\n, \\r) just in case\n",
    "text = text.replace('\\r\\n', '\\n').replace('\\r', '\\n')\n",
    "\n",
    "# Split into lines, strip, and add stars\n",
    "lines = [f'* {line.strip()}' for line in text.split('\\n') if line.strip()]\n",
    "\n",
    "# Join back\n",
    "result = '\\n'.join(lines)\n",
    "\n",
    "# Copy to clipboard and print\n",
    "pyperclip.copy(result)\n",
    "print(result)"
   ]
  },
  {
   "cell_type": "code",
   "execution_count": 70,
   "id": "52516bff-6b2e-4e0d-ac33-c2b79272c87f",
   "metadata": {},
   "outputs": [
    {
     "name": "stdout",
     "output_type": "stream",
     "text": [
      "Enter the English message to translate into pig latin:\n"
     ]
    },
    {
     "name": "stdin",
     "output_type": "stream",
     "text": [
      " My name is AL SWEIGART and I am 4,000 years old.\n"
     ]
    },
    {
     "name": "stdout",
     "output_type": "stream",
     "text": [
      "Ymay amenay isyay ALYAY EIGARTSWAY andyay Iyay amyay 4,000 yearsyay oldyay.\n"
     ]
    }
   ],
   "source": [
    "# English to pig latin\n",
    "print('Enter the English message to translate into pig latin:')\n",
    "message = input()\n",
    "\n",
    "VOWELS = ('a', 'e', 'i', 'o', 'u', 'y')\n",
    "\n",
    "pig_latin = [] # A list of the words in pig latin\n",
    "for word in message.split():\n",
    "    # Separate the non-letters at the start of this word:\n",
    "    prefix_non_letters = ''\n",
    "    while len(word) > 0 and not word[0].isalpha():\n",
    "        prefix_non_letters += word[0]\n",
    "        word = word[1:]\n",
    "    if len(word) == 0:\n",
    "        pig_latin.append(prefix_non_letters)\n",
    "        continue\n",
    "\n",
    "    # Separate the non-letters at the end of this word:\n",
    "    suffix_non_letters = ''\n",
    "    while not word[-1].isalpha():\n",
    "        suffix_non_letters = word[-1] + suffix_non_letters\n",
    "        word = word[:-1]\n",
    "\n",
    "    # Remember if the word was in uppercase or title case:\n",
    "    was_upper = word.isupper()\n",
    "    was_title = word.istitle()\n",
    "\n",
    "    word = word.lower() # Make the word lowercase for translation.\n",
    "\n",
    "    # Separate the consonants at the start of this word:\n",
    "    prefix_consonants = ''\n",
    "    while len(word) > 0 and not word[0] in VOWELS:\n",
    "        prefix_consonants += word[0]\n",
    "        word = word[1:]\n",
    "\n",
    "    # Add the pig latin ending to the word:\n",
    "    if prefix_consonants != '':\n",
    "        word += prefix_consonants + 'ay'\n",
    "    else:\n",
    "        word += 'yay'\n",
    "\n",
    "    # Set the word back to uppercase or title case:\n",
    "    if was_upper:\n",
    "        word = word.upper()\n",
    "    if was_title:\n",
    "        word = word.title()\n",
    "\n",
    "    # Add the non-letters back to the start or end of the word.\n",
    "    pig_latin.append(prefix_non_letters + word + suffix_non_letters)\n",
    "\n",
    "# Join all the words back together into a single string:\n",
    "print(' '.join(pig_latin))"
   ]
  },
  {
   "cell_type": "code",
   "execution_count": 71,
   "id": "ee08ba78-61d5-4717-8549-6919a69f4357",
   "metadata": {},
   "outputs": [
    {
     "name": "stdout",
     "output_type": "stream",
     "text": [
      "  apples Alice  dogs\n",
      " oranges   Bob  cats\n",
      "cherries Carol moose\n",
      "  banana David goose\n"
     ]
    }
   ],
   "source": [
    "tableData = [['apples', 'oranges', 'cherries', 'banana'],\n",
    "             ['Alice', 'Bob', 'Carol', 'David'],\n",
    "             ['dogs', 'cats', 'moose', 'goose']]\n",
    "\n",
    "def printTable(tableData):\n",
    "    # Step 1: Determine number of columns (i.e. how many inner lists)\n",
    "    numCols = len(tableData)\n",
    "    numRows = len(tableData[0])\n",
    "\n",
    "    # Step 2: Find the max width of each column\n",
    "    colWidths = [0] * numCols\n",
    "    for colIndex in range(numCols):\n",
    "        for item in tableData[colIndex]:\n",
    "            if len(item) > colWidths[colIndex]:\n",
    "                colWidths[colIndex] = len(item)\n",
    "\n",
    "    # Step 3: Print each row, right-justified\n",
    "    for rowIndex in range(numRows):\n",
    "        row = ''\n",
    "        for colIndex in range(numCols):\n",
    "            row += tableData[colIndex][rowIndex].rjust(colWidths[colIndex]) + ' '\n",
    "        print(row.rstrip())  # Remove extra space at end\n",
    "\n",
    "# Example usage\n",
    "tableData = [['apples', 'oranges', 'cherries', 'banana'],\n",
    "             ['Alice', 'Bob', 'Carol', 'David'],\n",
    "             ['dogs', 'cats', 'moose', 'goose']]\n",
    "\n",
    "printTable(tableData)"
   ]
  },
  {
   "cell_type": "code",
   "execution_count": 73,
   "id": "f021d978-7175-4a61-955d-934181f5f9cd",
   "metadata": {},
   "outputs": [
    {
     "name": "stdout",
     "output_type": "stream",
     "text": [
      "     apple : 5\n",
      "    banana : 6\n",
      "    cherry : 6\n",
      "       fig : 3\n",
      "grapefruit : 10\n"
     ]
    }
   ],
   "source": [
    "# Task 1\n",
    "# Write a function called printWordLengths() that takes a list of words and \n",
    "# prints each word alongside its character count, right-aligned for neatness.\n",
    "\n",
    "words = ['apple', 'banana', 'cherry', 'fig', 'grapefruit']\n",
    "\n",
    "def printWordLengths(words):\n",
    "    # Find the length of the longest word\n",
    "    max_width = max(len(word) for word in words)\n",
    "\n",
    "    # Print each word right-aligned with its length\n",
    "    for word in words:\n",
    "        print(word.rjust(max_width), ':', len(word))\n",
    "\n",
    "# Try it:\n",
    "printWordLengths(words)"
   ]
  },
  {
   "cell_type": "code",
   "execution_count": 74,
   "id": "e84ef736-52ba-4e09-8aa9-608abd0878cd",
   "metadata": {},
   "outputs": [
    {
     "name": "stdout",
     "output_type": "stream",
     "text": [
      "ADG\n",
      "BEH\n",
      "CFI\n"
     ]
    }
   ],
   "source": [
    "# Task 2\n",
    "# Transpose a Grid\n",
    "\n",
    "def transposeGrid(grid):\n",
    "    num_rows = len(grid)\n",
    "    num_cols = len(grid[0])\n",
    "\n",
    "    for col in range(num_cols):\n",
    "        line = ''\n",
    "        for row in range(num_rows):\n",
    "            line += grid[row][col]\n",
    "        print(line)\n",
    "\n",
    "# Try it:\n",
    "grid = ['ABC', 'DEF', 'GHI']\n",
    "transposeGrid(grid)"
   ]
  },
  {
   "cell_type": "code",
   "execution_count": null,
   "id": "3fc4c091-40de-4bcb-9aab-ca068a0723e4",
   "metadata": {},
   "outputs": [],
   "source": []
  }
 ],
 "metadata": {
  "kernelspec": {
   "display_name": "Python 3 (ipykernel)",
   "language": "python",
   "name": "python3"
  },
  "language_info": {
   "codemirror_mode": {
    "name": "ipython",
    "version": 3
   },
   "file_extension": ".py",
   "mimetype": "text/x-python",
   "name": "python",
   "nbconvert_exporter": "python",
   "pygments_lexer": "ipython3",
   "version": "3.12.7"
  }
 },
 "nbformat": 4,
 "nbformat_minor": 5
}

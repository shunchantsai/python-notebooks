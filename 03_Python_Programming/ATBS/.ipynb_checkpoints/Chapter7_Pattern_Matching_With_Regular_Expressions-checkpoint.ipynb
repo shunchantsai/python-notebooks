{
 "cells": [
  {
   "cell_type": "code",
   "execution_count": 2,
   "id": "50ae5792-8273-4f9d-bc12-a150a33805e1",
   "metadata": {},
   "outputs": [
    {
     "name": "stdout",
     "output_type": "stream",
     "text": [
      "Is 415-555-4242 a phone number?\n",
      "True\n",
      "Is Moshi moshi a phone number?\n",
      "False\n"
     ]
    }
   ],
   "source": [
    "def isPhoneNumber(text):\n",
    "    if len(text) != 12:\n",
    "        return False\n",
    "    for i in range(0, 3):\n",
    "        if not text[i].isdecimal():\n",
    "            return False\n",
    "    if text[3] != '-':\n",
    "        return False\n",
    "    for i in range(4,7):\n",
    "        if not text[i].isdecimal():\n",
    "            return False\n",
    "    if text[7] != '-':\n",
    "        return False\n",
    "    for i in range(8, 12):\n",
    "        if not text[i].isdecimal():\n",
    "            return False\n",
    "    return True\n",
    "\n",
    "print('Is 415-555-4242 a phone number?')\n",
    "print(isPhoneNumber('415-555-4242'))\n",
    "print('Is Moshi moshi a phone number?')\n",
    "print(isPhoneNumber('Moshi moshi'))"
   ]
  },
  {
   "cell_type": "code",
   "execution_count": 3,
   "id": "f42a7e89-2227-4529-87ad-96640c2015cc",
   "metadata": {},
   "outputs": [
    {
     "name": "stdout",
     "output_type": "stream",
     "text": [
      "Phone number found: 415-555-1011\n",
      "Phone number found: 415-555-9999\n",
      "Done\n"
     ]
    }
   ],
   "source": [
    "message = 'Call me at 415-555-1011 tomorrow. 415-555-9999 is my office.'\n",
    "for i in range(len(message)):\n",
    "    chunk = message[i:i+12]\n",
    "    if isPhoneNumber(chunk):\n",
    "        print('Phone number found: ' + chunk)\n",
    "print('Done')"
   ]
  },
  {
   "cell_type": "code",
   "execution_count": 4,
   "id": "7cfd23a3-09d1-45ef-a055-70d9e8b516fb",
   "metadata": {},
   "outputs": [],
   "source": [
    "import re\n",
    "phoneNumRegex = re.compile(r'\\d\\d\\d-\\d\\d\\d-d\\d\\d\\d')"
   ]
  },
  {
   "cell_type": "code",
   "execution_count": 7,
   "id": "4f0abd38-b2dd-4bbd-a00b-440980f880e3",
   "metadata": {},
   "outputs": [
    {
     "name": "stdout",
     "output_type": "stream",
     "text": [
      "Phone number found: 415-555-4242\n"
     ]
    }
   ],
   "source": [
    "import re\n",
    "\n",
    "phoneNumRegex = re.compile(r'\\d\\d\\d-\\d\\d\\d-\\d\\d\\d\\d') \n",
    "mo = phoneNumRegex.search('My number is 415-555-4242.')\n",
    "\n",
    "if mo:\n",
    "    print('Phone number found: ' + mo.group())\n",
    "else:\n",
    "    print('No phone number found.')\n"
   ]
  },
  {
   "cell_type": "code",
   "execution_count": 8,
   "id": "8ec742bd-c04b-4495-aa99-585c44872bf2",
   "metadata": {},
   "outputs": [
    {
     "name": "stdout",
     "output_type": "stream",
     "text": [
      "Phone number found: 212-999-1234\n"
     ]
    }
   ],
   "source": [
    "import re\n",
    "\n",
    "phoneNumRegex = re.compile(r'\\d\\d\\d-\\d\\d\\d-\\d\\d\\d\\d')\n",
    "mo = phoneNumRegex.search('Call me at 212-999-1234 tomorrow.')\n",
    "\n",
    "if mo:\n",
    "    print('Phone number found: ' + mo.group())\n",
    "else:\n",
    "    print('No phone number found.')\n"
   ]
  },
  {
   "cell_type": "code",
   "execution_count": 9,
   "id": "04b84d63-8bd3-42b1-8dbc-1333175c0942",
   "metadata": {},
   "outputs": [
    {
     "name": "stdout",
     "output_type": "stream",
     "text": [
      "No phone number found.\n"
     ]
    }
   ],
   "source": [
    "mo = phoneNumRegex.search('My number is (212) 999-1234.')\n",
    "\n",
    "if mo:\n",
    "    print('Phone number found: ' + mo.group())\n",
    "else:\n",
    "    print('No phone number found.')\n"
   ]
  },
  {
   "cell_type": "code",
   "execution_count": 10,
   "id": "ce8f6527-0456-48a5-b233-eb51cb8c0081",
   "metadata": {},
   "outputs": [
    {
     "name": "stdout",
     "output_type": "stream",
     "text": [
      "Phone number found: 415-555-1010\n"
     ]
    }
   ],
   "source": [
    "mo = phoneNumRegex.search('Numbers: 415-555-1010, 212-999-1234')\n",
    "\n",
    "if mo:\n",
    "    print('Phone number found: ' + mo.group())\n",
    "else:\n",
    "    print('No phone number found.')\n",
    "\n",
    "# .search() returns only the first match. Even though there are two valid phone numbers, \n",
    "# only the first (415-555-1010) is captured."
   ]
  },
  {
   "cell_type": "code",
   "execution_count": 14,
   "id": "d654e964-08a5-4089-a0e4-64015def052a",
   "metadata": {},
   "outputs": [
    {
     "name": "stdout",
     "output_type": "stream",
     "text": [
      "Phone numbers found:\n",
      "415-555-1010\n",
      "(212) 999-1234\n",
      "646 888-9999\n"
     ]
    }
   ],
   "source": [
    "import re\n",
    "\n",
    "# Updated regex to match both formats: 415-555-4242 and (415) 555-4242\n",
    "phoneNumRegex = re.compile(r'\\(?\\d{3}\\)?[-\\s]?\\d{3}-\\d{4}')\n",
    "\n",
    "text = '''Call me at 415-555-1010 or (212) 999-1234. Office: \n",
    "646 888-9999 is not valid for this pattern.'''\n",
    "\n",
    "matches = phoneNumRegex.findall(text)\n",
    "\n",
    "if matches:\n",
    "    print('Phone numbers found:')\n",
    "    for match in matches:\n",
    "        print(match)\n",
    "else:\n",
    "    print('None phone numbers found')"
   ]
  },
  {
   "cell_type": "code",
   "execution_count": 17,
   "id": "f1d15e3e-eae5-46ad-addb-4b360e864a72",
   "metadata": {},
   "outputs": [
    {
     "name": "stdout",
     "output_type": "stream",
     "text": [
      "Phone numbers found:\n",
      "415-555-4242\n",
      "(212) 555 1212\n",
      "+1-646-555-9999\n",
      "+14155551234\n",
      "123.456.7890\n"
     ]
    }
   ],
   "source": [
    "import re\n",
    "\n",
    "# Flexible regex to match various phone number formats\n",
    "phoneNumRegex = re.compile(\n",
    "    r'''(\n",
    "        (\\+?\\d{1,2}[-.\\s]?)?         # optional country code, e.g., +1-\n",
    "        (\\(?\\d{3}\\)?[-.\\s]?)         # area code with or without parentheses\n",
    "        \\d{3}[-.\\s]?                 # first 3 digits\n",
    "        \\d{4}                        # last 4 digits\n",
    "    )''', re.VERBOSE)\n",
    "\n",
    "text = '''\n",
    "Here are some numbers:\n",
    "415-555-4242\n",
    "(212) 555 1212\n",
    "+1-646-555-9999\n",
    "+14155551234\n",
    "123.456.7890\n",
    "Not a number: 555-abc-1234\n",
    "'''\n",
    "\n",
    "matches = phoneNumRegex.findall(text)\n",
    "\n",
    "if matches:\n",
    "    print('Phone numbers found:')\n",
    "    for match in matches:\n",
    "        print(match[0]) # match[0] is the full match string\n",
    "else:\n",
    "    print('No phone numbers found')"
   ]
  },
  {
   "cell_type": "code",
   "execution_count": 1,
   "id": "e703f980-d953-44ef-b139-eacf0aa60118",
   "metadata": {},
   "outputs": [
    {
     "name": "stdout",
     "output_type": "stream",
     "text": [
      "Phone numbers found\n",
      "415-555-4242 -> 4155554242\n",
      "(212) 555 1212 -> 2125551212\n",
      "+1-646-555-9999 -> 16465559999\n",
      "+14155551234 -> 14155551234\n",
      "123.456.7890 -> 1234567890\n"
     ]
    }
   ],
   "source": [
    "import re\n",
    "\n",
    "# Regex pattern to match different phone number formats\n",
    "phoneNumRegex = re.compile(\n",
    "    r'''(\n",
    "        (\\+?\\d{1,2}[-.\\s]?)?      # optional country code\n",
    "        (\\(?\\d{3}\\)?[-.\\s]?)      # area code\n",
    "        \\d{3}[-.\\s]?\n",
    "        \\d{4}\n",
    "    )''', re.VERBOSE)\n",
    "\n",
    "text = '''\n",
    "Here are some numbers:\n",
    "415-555-4242\n",
    "(212) 555 1212\n",
    "+1-646-555-9999\n",
    "+14155551234\n",
    "123.456.7890\n",
    "Not a number: 555-abc-1234\n",
    "'''\n",
    "\n",
    "matches = phoneNumRegex.findall(text)\n",
    "\n",
    "if matches:\n",
    "    print('Phone numbers found')\n",
    "    for match in matches:\n",
    "        raw_number = match[0] # full matched string\n",
    "        digits_only = re.sub(r'\\D', '', raw_number) # remove non-digits\n",
    "        print(f'{raw_number} -> {digits_only}')\n",
    "else:\n",
    "    print('No phone numbers found')\n",
    "    "
   ]
  },
  {
   "cell_type": "code",
   "execution_count": 4,
   "id": "532ee7f6-9c0f-46e0-a91a-13589d36d83c",
   "metadata": {},
   "outputs": [
    {
     "name": "stdout",
     "output_type": "stream",
     "text": [
      "4155554242\n",
      "2125551212\n",
      "16465559999\n",
      "14155551234\n"
     ]
    }
   ],
   "source": [
    "import re\n",
    "\n",
    "def extract_phone_numbers(text):\n",
    "    phoneNumRegex = re.compile(\n",
    "        r'''(\n",
    "            (\\+?\\d{1,2}[-.\\s]?)?          # Country code\n",
    "            (\\(?\\d{3}\\)?|\\b\\d{3})[-.\\s]?  # Area code with word boundary\n",
    "            \\d{3}[-.\\s]?\n",
    "            \\d{4}\n",
    "            \\b                            # Word boundary\n",
    "        )''', re.VERBOSE)\n",
    "    \n",
    "    matches = phoneNumRegex.findall(text)\n",
    "    return [re.sub(r'\\D', '', match[0]) for match in matches if match[0].strip()]\n",
    "    \n",
    "text = '''\n",
    "Call me at 415-555-4242 or (212) 555 1212.\n",
    "My backup is +1-646-555-9999 or +14155551234.\n",
    "'''\n",
    "\n",
    "numbers = extract_phone_numbers(text)\n",
    "\n",
    "for number in numbers:\n",
    "    print(number)"
   ]
  },
  {
   "cell_type": "code",
   "execution_count": 5,
   "id": "839aeb96-7c46-4c7d-a3ee-751d4733933f",
   "metadata": {},
   "outputs": [
    {
     "name": "stdout",
     "output_type": "stream",
     "text": [
      "4155554242\n",
      "2129998888\n",
      "2135556789\n",
      "5551234567\n"
     ]
    }
   ],
   "source": [
    "import re\n",
    "\n",
    "def extract_valid_phone_numbers(text):\n",
    "    phone_regex = re.compile(r'''\n",
    "        \\b  # Word boundary\n",
    "        (\n",
    "            (?:\\+?\\d{1,4}[-.\\s]?)?      # Optional country code\n",
    "            (?:\\(?\\d{2,5}\\)?[-.\\s]?)    # Area code\n",
    "            \\d{3}[-.\\s]?\\d{4}           # Standard 3+4 local number\n",
    "            |                           # OR\n",
    "            \\d{4}[-.\\s]?\\d{3}[-.\\s]?\\d{3}  # UK-style 4+3+3\n",
    "        )\n",
    "        \\b  # Word boundary\n",
    "    ''', re.VERBOSE)\n",
    "\n",
    "    matches = phone_regex.findall(text)\n",
    "    valid_numbers = []\n",
    "    \n",
    "    for number in matches:\n",
    "        digits = re.sub(r'\\D', '', number)\n",
    "        # Basic validation\n",
    "        if 10 <= len(digits) <= 15:  # Reasonable length check\n",
    "            valid_numbers.append(digits)\n",
    "    \n",
    "    return valid_numbers\n",
    "\n",
    "text = '''\n",
    "Call me at 415-555-4242 or (212) 999-8888.\n",
    "My UK number is +44 20 7946 0958.\n",
    "Office: 213.555.6789.\n",
    "Invalid: 123-456-789, 5551234567.\n",
    "'''\n",
    "\n",
    "valid_numbers = extract_valid_phone_numbers(text)\n",
    "for number in valid_numbers:\n",
    "    print(number)"
   ]
  },
  {
   "cell_type": "code",
   "execution_count": 34,
   "id": "6ea6deb7-bcdf-47c1-98c7-6db8b2c20a9d",
   "metadata": {},
   "outputs": [
    {
     "name": "stdout",
     "output_type": "stream",
     "text": [
      "Raw Matches:\n",
      "- 415-555-4242\n",
      "- (212) 999-8888\n",
      "- +44 20 7946 0958\n",
      "- 213.555.6789\n",
      "\n",
      "Digit-Only Matches:\n",
      "- 4155554242\n",
      "- 2129998888\n",
      "- 442079460958\n",
      "- 2135556789\n"
     ]
    }
   ],
   "source": [
    "import re\n",
    "\n",
    "# Sample text with different phone number formats\n",
    "text = '''\n",
    "Call me at 415-555-4242 tomorrow.\n",
    "Or at (212) 999-8888 on Friday.\n",
    "My UK number is +44 20 7946 0958.\n",
    "Office line: 213.555.6789.\n",
    "'''\n",
    "\n",
    "# Corrected Verbose regex pattern for flexible phone number formats\n",
    "phone_regex = re.compile(r'''\n",
    "    (\n",
    "        (\\+?\\d{1,4}[-.\\s]?)?      # Optional country code e.g. +44 or 1\n",
    "        (\\(?\\d{2,5}\\)?[-.\\s]?)    # Area code: 2 to 5 digits\n",
    "        \\d{3,4}[-.\\s]?\\d{3,4}     # Local number with 3 to 4 digits in both parts\n",
    "    )\n",
    "''', re.VERBOSE)\n",
    "\n",
    "# Find all matches\n",
    "matches = phone_regex.findall(text)\n",
    "\n",
    "# Extract just the full matched phone number string (first item in each tuple)\n",
    "raw_phone_numbers = [match[0] for match in matches]\n",
    "\n",
    "# Strip non-digit characters\n",
    "digit_only_numbers = [re.sub(r'\\D', '', number) for number in raw_phone_numbers]\n",
    "\n",
    "# Output results\n",
    "print(\"Raw Matches:\")\n",
    "for number in raw_phone_numbers:\n",
    "    print(f\"- {number}\")\n",
    "\n",
    "print(\"\\nDigit-Only Matches:\")\n",
    "for number in digit_only_numbers:\n",
    "    print(f\"- {number}\")\n"
   ]
  },
  {
   "cell_type": "code",
   "execution_count": 6,
   "id": "aaa956d7-dac7-478d-8b51-44529282a764",
   "metadata": {},
   "outputs": [
    {
     "name": "stdout",
     "output_type": "stream",
     "text": [
      "Raw Matches:\n",
      "- +49 30 901820 \n",
      "- +33 1 23 45 67 89\n",
      "\n",
      "Digit-Only Matches:\n",
      "- 4930901820\n",
      "- 33123456789\n"
     ]
    }
   ],
   "source": [
    "text1 = \"My German number is +49 30 901820 and my French number is +33 1 23 45 67 89\"\n",
    "\n",
    "# Corrected Verbose regex pattern for flexible phone number formats\n",
    "phone_regex = re.compile(r'''\n",
    "    (\n",
    "        (\\+?\\d{1,4}[-.\\s]?)?            # Optional country code\n",
    "        (\\(?\\d{1,5}\\)?[-.\\s]?)          # Area code\n",
    "        (\\d{2,4}[-.\\s]?){2,5}           # 2 to 5 groups of 2–4 digits\n",
    "    )\n",
    "''', re.VERBOSE)\n",
    "\n",
    "# Find all matches\n",
    "matches = phone_regex.findall(text1)\n",
    "\n",
    "# Extract just the full matched phone number string (first item in each tuple)\n",
    "raw_phone_numbers = [match[0] for match in matches]\n",
    "\n",
    "# Strip non-digit characters\n",
    "digit_only_numbers = [re.sub(r'\\D', '', number) for number in raw_phone_numbers]\n",
    "\n",
    "# Output results\n",
    "print(\"Raw Matches:\")\n",
    "for number in raw_phone_numbers:\n",
    "    print(f\"- {number}\")\n",
    "\n",
    "print(\"\\nDigit-Only Matches:\")\n",
    "for number in digit_only_numbers:\n",
    "    print(f\"- {number}\")"
   ]
  },
  {
   "cell_type": "code",
   "execution_count": 8,
   "id": "081eae91-f149-4250-af9e-fe6360951c17",
   "metadata": {},
   "outputs": [
    {
     "name": "stdout",
     "output_type": "stream",
     "text": [
      "\n",
      "Example 1:Call me at +1 (415) 555-2671\n",
      "Raw Matches:\n",
      "- +1 (415) 555-2671\n",
      "Digit-Only Matches:\n",
      "- 14155552671\n",
      "\n",
      "Example 2:Office: 020 7946 0958\n",
      "Raw Matches:\n",
      "- 020 7946 0958\n",
      "Digit-Only Matches:\n",
      "- 02079460958\n",
      "\n",
      "Example 3:My old number was +91-22-1234-5678\n",
      "Raw Matches:\n",
      "- +91-22-1234-5678\n",
      "Digit-Only Matches:\n",
      "- 912212345678\n",
      "\n",
      "Example 4:Reach me at 0033 1 45 67 89 10\n",
      "Raw Matches:\n",
      "- 0033 1 45 67 89 10\n",
      "Digit-Only Matches:\n",
      "- 0033145678910\n",
      "\n",
      "Example 5:Support: (800)555.1234 or (800) 555 5678\n",
      "Raw Matches:\n",
      "- (800)555.1234 \n",
      "- (800) 555 5678\n",
      "Digit-Only Matches:\n",
      "- 8005551234\n",
      "- 8005555678\n"
     ]
    }
   ],
   "source": [
    "import re\n",
    "\n",
    "# List of 5 example strings with phone numbers in different formats\n",
    "texts = [\n",
    "    \"Call me at +1 (415) 555-2671\",\n",
    "    \"Office: 020 7946 0958\",\n",
    "    \"My old number was +91-22-1234-5678\",\n",
    "    \"Reach me at 0033 1 45 67 89 10\",\n",
    "    \"Support: (800)555.1234 or (800) 555 5678\"\n",
    "]\n",
    "\n",
    "# Regex pattern for flexible international phone number formats\n",
    "phone_regex = re.compile(r'''\n",
    "    (\n",
    "        (\\+?\\d{1,4}[-.\\s]?)?   # Optional country code\n",
    "        (\\(?\\d{1,5}\\)?[-.\\s]?) # Area code with optional parenthesis\n",
    "        (\\d{2,4}[-.\\s]?){2,5}  # 2 to 5 groups of 2-4 digits\n",
    "    )\n",
    "''', re.VERBOSE)\n",
    "\n",
    "# Process each example string\n",
    "for i, text in enumerate(texts, start = 1):\n",
    "    matches = phone_regex.findall(text)\n",
    "    raw_phone_numbers = [match[0] for match in matches]\n",
    "    digit_only_numbers = [re.sub(r'\\D', '', number) for number in raw_phone_numbers]\n",
    "\n",
    "    print(f\"\\nExample {i}:{text}\")\n",
    "    print(\"Raw Matches:\")\n",
    "    for number in raw_phone_numbers:\n",
    "        print(f\"- {number}\")\n",
    "    print(\"Digit-Only Matches:\")\n",
    "    for number in digit_only_numbers:\n",
    "        print(f\"- {number}\")"
   ]
  },
  {
   "cell_type": "code",
   "execution_count": 11,
   "id": "2df29a43-5c24-4bb8-b8e0-cf7d1f2c4bae",
   "metadata": {},
   "outputs": [
    {
     "name": "stdout",
     "output_type": "stream",
     "text": [
      "\n",
      "Example 1:Emergency hotline: +61 3 9123 4567\n",
      "Raw matches:\n",
      "- +61 3 9123 4567\n",
      "Digit-Only Matches:\n",
      "- 61391234567\n",
      "\n",
      "Example 2:Client number: 0044 20 7946 1234\n",
      "Raw matches:\n",
      "- 0044 20 7946 1234\n",
      "Digit-Only Matches:\n",
      "- 00442079461234\n",
      "\n",
      "Example 3:Text me at 555-678-9012 (US)\n",
      "Raw matches:\n",
      "- 555-678-9012 \n",
      "Digit-Only Matches:\n",
      "- 5556789012\n",
      "\n",
      "Example 4:Main line: (02) 9876 5432\n",
      "Raw matches:\n",
      "- (02) 9876 5432\n",
      "Digit-Only Matches:\n",
      "- 0298765432\n",
      "\n",
      "Example 5:International: +81-3-1234-5678 ext. 99\n",
      "Raw matches:\n",
      "- +81-3-1234-5678 \n",
      "Digit-Only Matches:\n",
      "- 81312345678\n"
     ]
    }
   ],
   "source": [
    "import re\n",
    "\n",
    "texts = [\n",
    "    \"Emergency hotline: +61 3 9123 4567\",\n",
    "    \"Client number: 0044 20 7946 1234\",\n",
    "    \"Text me at 555-678-9012 (US)\",\n",
    "    \"Main line: (02) 9876 5432\",\n",
    "    \"International: +81-3-1234-5678 ext. 99\"\n",
    "]\n",
    "\n",
    "phone_regex = re.compile(r'''\n",
    "    (\n",
    "    (\\+?\\d{1,4}[-.\\s]?)?    # Optional country code\n",
    "    (\\(?\\d{1,5}\\)?[-.\\s]?)  # Area code\n",
    "    (\\d{2,4}[-.\\s]?){2,5}   # 2 to 5 groups of 2–4 digits\n",
    "    )\n",
    "''', re.VERBOSE)\n",
    "\n",
    "for i, text in enumerate(texts, start = 1):\n",
    "    matches = phone_regex.findall(text)\n",
    "    raw_phone_numbers = [match[0] for match in matches]\n",
    "    digit_only_numbers = [re.sub(r'\\D','', number) for number in raw_phone_numbers]\n",
    "\n",
    "    print(f\"\\nExample {i}:{text}\")\n",
    "    print(\"Raw matches:\")\n",
    "    for number in raw_phone_numbers:\n",
    "        print(f\"- {number}\")\n",
    "    print(\"Digit-Only Matches:\")\n",
    "    for number in digit_only_numbers:\n",
    "        print(f\"- {number}\")\n",
    "        "
   ]
  },
  {
   "cell_type": "code",
   "execution_count": 13,
   "id": "bf0a9732-a307-43e7-94a5-985e43561f6a",
   "metadata": {},
   "outputs": [
    {
     "name": "stdout",
     "output_type": "stream",
     "text": [
      "\n",
      "Example 1: Call center (India): +91-22-1234-5678\n",
      "Raw Matches:\n",
      "- +91-22-1234-5678\n",
      "Digit-Only Matches:\n",
      "- 912212345678\n",
      "\n",
      "Example 2: Helpdesk: (021) 555 1234 ext. 204\n",
      "Raw Matches:\n",
      "- (021) 555 1234 \n",
      "Digit-Only Matches:\n",
      "- 0215551234\n",
      "\n",
      "Example 3: Office line: +1 (415) 555.2671 x99\n",
      "Raw Matches:\n",
      "- +1 (415) 555.2671 \n",
      "Digit-Only Matches:\n",
      "- 14155552671\n"
     ]
    }
   ],
   "source": [
    "texts = [\n",
    "    \"Call center (India): +91-22-1234-5678\",\n",
    "    \"Helpdesk: (021) 555 1234 ext. 204\",\n",
    "    \"Office line: +1 (415) 555.2671 x99\"\n",
    "]\n",
    "\n",
    "phone_regex = re.compile(r'''\n",
    "    (\n",
    "        (\\+?\\d{1,4}[-.\\s]?)?    # (1) Optional country code, e.g. +91\n",
    "        (\\(?\\d{1,5}\\)?[-.\\s]?)  # (2) Area code, e.g. (415)\n",
    "        (\\d{2,4}[-.\\s]?){2,5}   # (3) 2-5 digit groups, e.g. 1234-5678\n",
    "    )\n",
    "''', re.VERBOSE)\n",
    "\n",
    "for i, text in enumerate(texts, start=1):\n",
    "    matches = phone_regex.findall(text)\n",
    "    raw_phone_numbers = [match[0] for match in matches]\n",
    "    digit_only_numbers = [re.sub(r'\\D', '', number) for number in raw_phone_numbers]\n",
    "\n",
    "    print(f\"\\nExample {i}: {text}\")\n",
    "    print(\"Raw Matches:\")\n",
    "    for number in raw_phone_numbers:\n",
    "        print(f\"- {number}\")\n",
    "    print(\"Digit-Only Matches:\")\n",
    "    for number in digit_only_numbers:\n",
    "        print(f\"- {number}\")"
   ]
  },
  {
   "cell_type": "code",
   "execution_count": 38,
   "id": "75b2182b-9d98-4e7d-b272-6f98f657e4ea",
   "metadata": {},
   "outputs": [
    {
     "name": "stdout",
     "output_type": "stream",
     "text": [
      "Phone number found: 415-555-4242\n"
     ]
    }
   ],
   "source": [
    "phoneNumRegex = re.compile(r'\\d\\d\\d-\\d\\d\\d-\\d\\d\\d\\d')\n",
    "mo = phoneNumRegex.search('My number is 415-555-4242.')\n",
    "print('Phone number found: ' + mo.group())"
   ]
  },
  {
   "cell_type": "code",
   "execution_count": 40,
   "id": "6c6fd7b8-2b99-4007-8372-533e60ec2500",
   "metadata": {},
   "outputs": [
    {
     "name": "stdout",
     "output_type": "stream",
     "text": [
      "415-555-4242\n"
     ]
    }
   ],
   "source": [
    "import re\n",
    "\n",
    "# Step 1: create Regex object\n",
    "phone_regex = re.compile(r'\\d{3}-\\d{3}-\\d{4}') # Matches 123-456-7890\n",
    "\n",
    "# Step 2: Search a string\n",
    "text = \"Call me at 415-555-4242 or 212-999-8888.\"\n",
    "match = phone_regex.search(text) # Returns first match\n",
    "\n",
    "# Step 3: Extract matched text\n",
    "print(match.group())"
   ]
  },
  {
   "cell_type": "code",
   "execution_count": 41,
   "id": "a5b3b474-5cc6-4090-ab03-434a00bda8f1",
   "metadata": {},
   "outputs": [
    {
     "name": "stdout",
     "output_type": "stream",
     "text": [
      "user@example.com\n"
     ]
    }
   ],
   "source": [
    "import re\n",
    "\n",
    "# Step 1: Regex for emails\n",
    "email_regex = re.compile(r'\\b[A-Za-z0-9._%+-]+@[A-Za-z0-9.-]+\\.[A-Z|a-z]{2,}\\b')\n",
    "\n",
    "# Step 2: Search a string\n",
    "text = \"Contact: user@example.com or support@company.co.uk\"\n",
    "match = email_regex.search(text)\n",
    "\n",
    "# Step 3: Get the match\n",
    "print(match.group())"
   ]
  },
  {
   "cell_type": "code",
   "execution_count": 14,
   "id": "6ebb8055-8dcc-4646-b530-b5c6bca663bf",
   "metadata": {},
   "outputs": [
    {
     "name": "stdout",
     "output_type": "stream",
     "text": [
      "12/25/2023\n"
     ]
    }
   ],
   "source": [
    "import re\n",
    "\n",
    "# Step 1: FIXED Regex for dates (escaped forward slash)\n",
    "date_regex = re.compile(r'\\b\\d{2}/\\d{2}/\\d{4}\\b')  \n",
    "\n",
    "# Step 2: Search a string\n",
    "text = \"Event on 12/25/2023 and 01/01/2024\"\n",
    "match = date_regex.search(text)\n",
    "\n",
    "# Step 3: Extract the date\n",
    "print(match.group())  # Output: 12/25/2023"
   ]
  },
  {
   "cell_type": "code",
   "execution_count": 16,
   "id": "a04aecb8-a92b-40bb-90c8-3c508e9b5d4a",
   "metadata": {},
   "outputs": [
    {
     "name": "stdout",
     "output_type": "stream",
     "text": [
      "Python\n"
     ]
    }
   ],
   "source": [
    "import re\n",
    "\n",
    "# Step 1: Case-insensitive regex\n",
    "word_regex = re.compile(r'python', re.IGNORECASE)\n",
    "\n",
    "# Step 2: Search a string\n",
    "text = \"Python is great. PYTHON is versatile.\"\n",
    "match = word_regex.search(text)\n",
    "\n",
    "# Step 3: Get the match\n",
    "print(match.group())"
   ]
  },
  {
   "cell_type": "code",
   "execution_count": 17,
   "id": "58775a13-51d7-4919-be63-be46d0b52318",
   "metadata": {},
   "outputs": [
    {
     "name": "stdout",
     "output_type": "stream",
     "text": [
      "['#Python', '#DataScience', '#AI']\n"
     ]
    }
   ],
   "source": [
    "import re\n",
    "\n",
    "# Step 1: Regex for hashtags\n",
    "hashtage_regex = re.compile(r'#\\w+')   # Matches #hashtage\n",
    "\n",
    "# Step 2: Find all matches\n",
    "text = \"Trending: #Python #DataScience #AI\"\n",
    "matches = hashtage_regex.findall(text)\n",
    "\n",
    "# Step 3: Print all\n",
    "print(matches)"
   ]
  },
  {
   "cell_type": "code",
   "execution_count": 19,
   "id": "c69c851d-1aa0-4933-9894-9b9deda9ec65",
   "metadata": {},
   "outputs": [
    {
     "name": "stdout",
     "output_type": "stream",
     "text": [
      "user123@example.com\n"
     ]
    }
   ],
   "source": [
    "text = \"My email is user123@example.com\"\n",
    "match = re.search(r\"\\w+@\\w+\\.\\w+\", text)\n",
    "print(match.group())"
   ]
  },
  {
   "cell_type": "code",
   "execution_count": 20,
   "id": "70f106ec-2b6c-4cf3-9ae8-1e626d500e31",
   "metadata": {},
   "outputs": [
    {
     "name": "stdout",
     "output_type": "stream",
     "text": [
      "['a@a.com', 'b@b.org', 'c@c.net']\n"
     ]
    }
   ],
   "source": [
    "text = \"Emails: a@a.com, b@b.org, c@c.net\"\n",
    "emails = re.findall(r'\\w+@\\w+\\.\\w+', text)\n",
    "print(emails)"
   ]
  },
  {
   "cell_type": "code",
   "execution_count": 22,
   "id": "b766fe1d-ecbc-4511-8b21-c7a67a31195a",
   "metadata": {},
   "outputs": [
    {
     "name": "stdout",
     "output_type": "stream",
     "text": [
      "John Doe\n",
      "32\n"
     ]
    }
   ],
   "source": [
    "text = \"Name: John Doe, Age: 32\"\n",
    "match = re.search(r'Name: (\\w+ \\w+), Age: (\\d+)', text)\n",
    "print(match.group(1))\n",
    "print(match.group(2))"
   ]
  },
  {
   "cell_type": "code",
   "execution_count": 23,
   "id": "35972b76-599f-4a90-9cf2-c0147dff505a",
   "metadata": {},
   "outputs": [
    {
     "name": "stdout",
     "output_type": "stream",
     "text": [
      "('2025', '05', '01')\n"
     ]
    }
   ],
   "source": [
    "text = \"The event is on 2025-05-01\"\n",
    "match = re.search(r\"(\\d{4})-(\\d{2})-(\\d{2})\", text)\n",
    "print(match.groups())"
   ]
  },
  {
   "cell_type": "code",
   "execution_count": 26,
   "id": "3d78c516-c7a4-478b-9d83-eac24006d83f",
   "metadata": {},
   "outputs": [
    {
     "name": "stdout",
     "output_type": "stream",
     "text": [
      "['5.50', '10.00', '3.25']\n"
     ]
    }
   ],
   "source": [
    "text = \"Prices: $5.50, $10.00, $3.25\"\n",
    "prices = re.findall(r'\\$(\\d+\\.\\d{2})', text)\n",
    "print(prices)"
   ]
  },
  {
   "cell_type": "code",
   "execution_count": 27,
   "id": "60941438-7535-4c71-b52e-00231b90bfa1",
   "metadata": {},
   "outputs": [
    {
     "name": "stdout",
     "output_type": "stream",
     "text": [
      "['cat', 'bat', 'rat']\n"
     ]
    }
   ],
   "source": [
    "text = \"cat bat rat\"\n",
    "words = re.findall(r\"(?:c|b|r)at\", text)\n",
    "print(words)"
   ]
  },
  {
   "cell_type": "code",
   "execution_count": 32,
   "id": "02ca038a-a034-46b0-8197-f0421b3f98a4",
   "metadata": {},
   "outputs": [
    {
     "name": "stdout",
     "output_type": "stream",
     "text": [
      "('123', '456', '7890')\n"
     ]
    }
   ],
   "source": [
    "text = \"Call me at (123) 456-7890\"\n",
    "match = re.search(r\"\\((\\d{3})\\) (\\d{3})-(\\d{4})\", text)\n",
    "print(match.groups())"
   ]
  },
  {
   "cell_type": "code",
   "execution_count": 30,
   "id": "a4eedfd0-19d9-46fc-9d4c-2a5904e5a855",
   "metadata": {},
   "outputs": [
    {
     "name": "stdout",
     "output_type": "stream",
     "text": [
      "['Color', 'Colour']\n"
     ]
    }
   ],
   "source": [
    "text = \"Color or Colour\"\n",
    "match = re.findall(r\"Colou?r\", text)\n",
    "print(match)"
   ]
  },
  {
   "cell_type": "code",
   "execution_count": 61,
   "id": "e7ffdd97-9faf-412b-9360-b63110a06952",
   "metadata": {},
   "outputs": [
    {
     "name": "stdout",
     "output_type": "stream",
     "text": [
      "22\n",
      "C\n"
     ]
    }
   ],
   "source": [
    "text = \"Temp: 22C\"\n",
    "match = re.search(r\"Temp: (?P<value>\\d+)(?P<unit>[CF])\", text)\n",
    "print(match.group(\"value\"))\n",
    "print(match.group(\"unit\"))"
   ]
  },
  {
   "cell_type": "code",
   "execution_count": 33,
   "id": "58eb14a4-4491-413f-91cf-11b95c662615",
   "metadata": {},
   "outputs": [
    {
     "name": "stdout",
     "output_type": "stream",
     "text": [
      "Temperature: 22°C\n",
      "Temperature: 18°C\n",
      "Temperature: 72°F\n",
      "Temperature: 25°C\n"
     ]
    }
   ],
   "source": [
    "import re\n",
    "\n",
    "text = \"Today's highs: Paris 22C, London 18C, New York 72F, Tokyo 25C\"\n",
    "\n",
    "# Pattern with named groups for value and unit\n",
    "temp_regex = re.compile(r\"(?P<value>\\d+)(?P<unit>[CF])\")\n",
    "\n",
    "# Use finditer() to get all matches as Match objects\n",
    "matches = temp_regex.finditer(text)\n",
    "\n",
    "# Print each temperature and unit\n",
    "for match in matches:\n",
    "    value = match.group(\"value\")\n",
    "    unit = match.group(\"unit\")\n",
    "    print(f\"Temperature: {value}°{unit}\")\n"
   ]
  },
  {
   "cell_type": "code",
   "execution_count": 35,
   "id": "4a6f963d-4091-49c2-aa61-89d5ca10fa5d",
   "metadata": {},
   "outputs": [
    {
     "name": "stdout",
     "output_type": "stream",
     "text": [
      "Paris: 22°C\n",
      "London: 18°C\n",
      "New York: 72°F\n",
      "Tokyo: 25°C\n"
     ]
    }
   ],
   "source": [
    "import re\n",
    "\n",
    "text = \"Today's highs: Paris 22C, London 18C, New York 72F, Tokyo 25C\"\n",
    "\n",
    "# Regex to capture city and temperature (value + unit)\n",
    "temp_city_regex = re.compile(r\"(?P<city>[A-Za-z ]+?)\\s+(?P<value>\\d+)(?P<unit>[CF])\")\n",
    "\n",
    "# Use finditer to extract structured data\n",
    "matches = temp_city_regex.finditer(text)\n",
    "\n",
    "# Print results\n",
    "for match in matches:\n",
    "    city = match.group(\"city\").strip()\n",
    "    value = match.group(\"value\")\n",
    "    unit = match.group(\"unit\")\n",
    "    print(f\"{city}: {value}°{unit}\")\n"
   ]
  },
  {
   "cell_type": "code",
   "execution_count": 41,
   "id": "f6b1ccb4-be3c-46b7-92ec-509698f7e50b",
   "metadata": {},
   "outputs": [
    {
     "name": "stdout",
     "output_type": "stream",
     "text": [
      "Alice is 23 years old\n",
      "Bob is 31 years old\n",
      "Charlie is 28 years old\n",
      "Dana is 35 years old\n"
     ]
    }
   ],
   "source": [
    "import re\n",
    "\n",
    "text = \"Participants: Alice (23), Bob (31), Charlie (28), Dana (35)\"\n",
    "\n",
    "# Regex to match a name followed by an age in parentheses\n",
    "name_age_regex = re.compile(r\"(?P<name>[A-Za-z]+)\\s*\\((?P<age>\\d+)\\)\")\n",
    "\n",
    "\n",
    "# Find all matches using finditer\n",
    "matches = name_age_regex.finditer(text)\n",
    "\n",
    "# Print result\n",
    "for match in matches:\n",
    "    name = match.group(\"name\")\n",
    "    age = match.group(\"age\")\n",
    "    print(f\"{name} is {age} years old\")\n",
    "\n"
   ]
  },
  {
   "cell_type": "code",
   "execution_count": 42,
   "id": "2901d529-7fc1-4708-96ac-15c881a45c18",
   "metadata": {},
   "outputs": [
    {
     "name": "stdout",
     "output_type": "stream",
     "text": [
      "100\n"
     ]
    }
   ],
   "source": [
    "import re\n",
    "pattern = re.compile(r'\\d+') # Matches one or more digits\n",
    "match = pattern.search('The price is 100 dollars')\n",
    "print(match.group())"
   ]
  },
  {
   "cell_type": "code",
   "execution_count": 43,
   "id": "5413c52e-8bca-42a3-bf7c-1b97d8442ca6",
   "metadata": {},
   "outputs": [
    {
     "name": "stdout",
     "output_type": "stream",
     "text": [
      "cat\n"
     ]
    }
   ],
   "source": [
    "# Match a word\n",
    "pattern = re.compile(r'cat')\n",
    "match = pattern.search('The cat sat on the mat')\n",
    "print(match.group())"
   ]
  },
  {
   "cell_type": "code",
   "execution_count": 44,
   "id": "8aff4c96-ec37-4677-aabf-3f4bf60c04a7",
   "metadata": {},
   "outputs": [
    {
     "name": "stdout",
     "output_type": "stream",
     "text": [
      "2025\n"
     ]
    }
   ],
   "source": [
    "# Digits only\n",
    "pattern = re.compile(r'\\d{4}')\n",
    "match = pattern.search('Year: 2025')\n",
    "print(match.group())                     "
   ]
  },
  {
   "cell_type": "code",
   "execution_count": 45,
   "id": "a1fc3c57-8432-4e4e-9563-4cc492883672",
   "metadata": {},
   "outputs": [
    {
     "name": "stdout",
     "output_type": "stream",
     "text": [
      "user@example.com\n"
     ]
    }
   ],
   "source": [
    "# Extract email\n",
    "pattern = re.compile(r'\\w+@\\w+\\.\\w+')\n",
    "match = pattern.search('My email is user@example.com')\n",
    "print(match.group())"
   ]
  },
  {
   "cell_type": "code",
   "execution_count": 47,
   "id": "14bcda18-114e-475a-b70f-98aa96c3bf38",
   "metadata": {},
   "outputs": [
    {
     "name": "stdout",
     "output_type": "stream",
     "text": [
      "123-456-7890\n"
     ]
    }
   ],
   "source": [
    "# Phone Number Format\n",
    "pattern = re.compile(r'\\d{3}-\\d{3}-\\d{4}')\n",
    "match = pattern.search('Call me at 123-456-7890')\n",
    "print(match.group())"
   ]
  },
  {
   "cell_type": "code",
   "execution_count": 51,
   "id": "265358b9-93e3-4352-825d-214cc258bd25",
   "metadata": {},
   "outputs": [
    {
     "name": "stdout",
     "output_type": "stream",
     "text": [
      "cat\n"
     ]
    }
   ],
   "source": [
    "# Use of Dot (any character)\n",
    "pattern = re.compile(r'c.t')\n",
    "match = pattern.search('My cat cut is cute')\n",
    "print(match.group())"
   ]
  },
  {
   "cell_type": "code",
   "execution_count": 55,
   "id": "42e41c79-2aca-497f-acf1-acce4a77a022",
   "metadata": {},
   "outputs": [
    {
     "name": "stdout",
     "output_type": "stream",
     "text": [
      "Full match: cat, Middle letter: a\n",
      "Full match: cut, Middle letter: u\n",
      "Full match: cut, Middle letter: u\n"
     ]
    }
   ],
   "source": [
    "# Add capturing groups (if you need them)\n",
    "import re\n",
    "\n",
    "pattern = re.compile(r'c(.?)t')\n",
    "matches = pattern.finditer('My cat cut is cute')\n",
    "\n",
    "for match in matches:\n",
    "    print(f\"Full match: {match.group(0)}, Middle letter: {match.group(1)}\")\n"
   ]
  },
  {
   "cell_type": "code",
   "execution_count": 56,
   "id": "cf58d9bd-2173-4c59-ad1c-350226cf7521",
   "metadata": {},
   "outputs": [
    {
     "name": "stdout",
     "output_type": "stream",
     "text": [
      "Words starting with 'c' and ending with 't':\n",
      "- cat\n",
      "- cut\n",
      "- coat\n",
      "- circuit\n",
      "- comet\n",
      "- court\n",
      "- chart\n",
      "- cheat\n"
     ]
    }
   ],
   "source": [
    "import re\n",
    "\n",
    "text = \"cat cut coat cute circuit comet court chart cheat\"\n",
    "\n",
    "pattern = re.compile(r'\\bc\\w*t\\b')\n",
    "\n",
    "matches = pattern.findall(text)\n",
    "\n",
    "print(\"Words starting with 'c' and ending with 't':\")\n",
    "for word in matches:\n",
    "    print(\"-\", word)"
   ]
  },
  {
   "cell_type": "code",
   "execution_count": 57,
   "id": "33375d3c-a6ad-42f2-a059-c078eb2aa634",
   "metadata": {},
   "outputs": [
    {
     "name": "stdout",
     "output_type": "stream",
     "text": [
      "456\n"
     ]
    }
   ],
   "source": [
    "# Using groups\n",
    "pattern = re.compile(r'(\\d+)-(\\d+)-(\\d+)')\n",
    "match = pattern.search('123-456-7890')\n",
    "print(match.group(2))"
   ]
  },
  {
   "cell_type": "code",
   "execution_count": 58,
   "id": "08145a76-b77f-4e99-8463-ed4444c6f821",
   "metadata": {},
   "outputs": [
    {
     "name": "stdout",
     "output_type": "stream",
     "text": [
      "color\n"
     ]
    }
   ],
   "source": [
    "# Optional Character\n",
    "pattern = re.compile(r'colou?r')\n",
    "match = pattern.search('color or colour?')\n",
    "print(match.group())\n",
    "# The u? means the \"u\" is optional.\n"
   ]
  },
  {
   "cell_type": "code",
   "execution_count": 71,
   "id": "b3a0cf19-994d-4b01-8e5f-47074b395b8f",
   "metadata": {},
   "outputs": [
    {
     "name": "stdout",
     "output_type": "stream",
     "text": [
      "Hello\n"
     ]
    }
   ],
   "source": [
    "# Match start of string\n",
    "pattern = re.compile(r'^Hello')\n",
    "match = pattern.search('Hello world')\n",
    "print(match.group())"
   ]
  },
  {
   "cell_type": "code",
   "execution_count": 59,
   "id": "6cd7318d-6a14-42db-bf18-f8b7da3ff6a5",
   "metadata": {},
   "outputs": [
    {
     "ename": "AttributeError",
     "evalue": "'NoneType' object has no attribute 'group'",
     "output_type": "error",
     "traceback": [
      "\u001b[0;31m---------------------------------------------------------------------------\u001b[0m",
      "\u001b[0;31mAttributeError\u001b[0m                            Traceback (most recent call last)",
      "Cell \u001b[0;32mIn[59], line 4\u001b[0m\n\u001b[1;32m      2\u001b[0m pattern \u001b[38;5;241m=\u001b[39m re\u001b[38;5;241m.\u001b[39mcompile(\u001b[38;5;124mr\u001b[39m\u001b[38;5;124m'\u001b[39m\u001b[38;5;124m^Hello\u001b[39m\u001b[38;5;124m'\u001b[39m)\n\u001b[1;32m      3\u001b[0m match \u001b[38;5;241m=\u001b[39m pattern\u001b[38;5;241m.\u001b[39msearch(\u001b[38;5;124m'\u001b[39m\u001b[38;5;124mWell, Hello world\u001b[39m\u001b[38;5;124m'\u001b[39m)\n\u001b[0;32m----> 4\u001b[0m \u001b[38;5;28mprint\u001b[39m(match\u001b[38;5;241m.\u001b[39mgroup())\n",
      "\u001b[0;31mAttributeError\u001b[0m: 'NoneType' object has no attribute 'group'"
     ]
    }
   ],
   "source": [
    "# Match start of string\n",
    "pattern = re.compile(r'^Hello')\n",
    "match = pattern.search('Well, Hello world')\n",
    "print(match.group())"
   ]
  },
  {
   "cell_type": "code",
   "execution_count": 60,
   "id": "6f30cbbe-5df7-4dac-b694-1aefeb32bdfd",
   "metadata": {},
   "outputs": [
    {
     "name": "stdout",
     "output_type": "stream",
     "text": [
      "end\n"
     ]
    }
   ],
   "source": [
    "# Match End of String\n",
    "pattern = re.compile(r'end$')\n",
    "match = pattern.search('This is the end')\n",
    "print(match.group())"
   ]
  },
  {
   "cell_type": "code",
   "execution_count": 75,
   "id": "5ff391f6-9fd5-498e-8a75-599d959b7efc",
   "metadata": {},
   "outputs": [
    {
     "name": "stdout",
     "output_type": "stream",
     "text": [
      "cat\n"
     ]
    }
   ],
   "source": [
    "# Match Word Boundary\n",
    "pattern = re.compile(r'\\bcat\\b')\n",
    "match = pattern.search('a catfish is not a cat')\n",
    "print(match.group())\n",
    "# \\b ensures \"cat\" is a separate word."
   ]
  },
  {
   "cell_type": "code",
   "execution_count": 63,
   "id": "4825a452-8e08-47c9-9b65-0e8f91d01630",
   "metadata": {},
   "outputs": [
    {
     "name": "stdout",
     "output_type": "stream",
     "text": [
      "Jane Doe\n"
     ]
    }
   ],
   "source": [
    "# Extract First Name and Last Name\n",
    "pattern = re.compile(r'(\\w+) (\\w+)')\n",
    "match = pattern.search('Jane Doe')\n",
    "print(match.group(1), match.group(2))"
   ]
  },
  {
   "cell_type": "code",
   "execution_count": 79,
   "id": "c46251aa-a118-4f10-b9cf-48da2e875341",
   "metadata": {},
   "outputs": [
    {
     "name": "stdout",
     "output_type": "stream",
     "text": [
      "is is\n"
     ]
    }
   ],
   "source": [
    "# Match Repeated Words\n",
    "pattern = re.compile(r'\\b(\\w+)\\s+\\1\\b')\n",
    "match = pattern.search('This is is a test')\n",
    "print(match.group())\n",
    "# Captures and matches repeated words."
   ]
  },
  {
   "cell_type": "code",
   "execution_count": 64,
   "id": "05e22ccc-4614-48b1-b5e3-b3e5f7939600",
   "metadata": {},
   "outputs": [
    {
     "name": "stdout",
     "output_type": "stream",
     "text": [
      "3.14\n"
     ]
    }
   ],
   "source": [
    "# Match Decimal numbers\n",
    "pattern = re.compile(r'\\d+\\.\\d+')\n",
    "match = pattern.search('The value is 3.14')\n",
    "print(match.group())"
   ]
  },
  {
   "cell_type": "code",
   "execution_count": 65,
   "id": "3bd1fcb1-e080-48fe-a117-2b297d1e5d12",
   "metadata": {},
   "outputs": [
    {
     "name": "stdout",
     "output_type": "stream",
     "text": [
      "03/05/2025\n"
     ]
    }
   ],
   "source": [
    "# Match a date\n",
    "pattern = re.compile(r'\\d{2}/\\d{2}/\\d{4}')\n",
    "match = pattern.search('Today is 03/05/2025')\n",
    "print(match.group())"
   ]
  },
  {
   "cell_type": "code",
   "execution_count": 83,
   "id": "df17e2a9-57ad-4fc0-ae87-1040cb957984",
   "metadata": {},
   "outputs": [
    {
     "name": "stdout",
     "output_type": "stream",
     "text": [
      "USA\n"
     ]
    }
   ],
   "source": [
    "# Match Uppercase words\n",
    "pattern = re.compile(r'\\b[A-Z]{2,}\\b')\n",
    "match = pattern.search('I love the USA and NASA')\n",
    "print(match.group())"
   ]
  },
  {
   "cell_type": "code",
   "execution_count": 85,
   "id": "0754b773-6e50-4735-a0b3-879fe511eae5",
   "metadata": {},
   "outputs": [
    {
     "name": "stdout",
     "output_type": "stream",
     "text": [
      "<b>Bold Text</b>\n"
     ]
    }
   ],
   "source": [
    "# Match HTML tags\n",
    "pattern = re.compile(r'<(\\w+)>.*?</\\1>')\n",
    "match = pattern.search('<b>Bold Text</b>')\n",
    "print(match.group())"
   ]
  },
  {
   "cell_type": "code",
   "execution_count": 69,
   "id": "12839396-3a17-487e-b1a4-e6c882678d5f",
   "metadata": {},
   "outputs": [
    {
     "name": "stdout",
     "output_type": "stream",
     "text": [
      "<h2>Super Blender 3000</h2>\n",
      "<h2>Eco Water Bottle</h2>\n"
     ]
    }
   ],
   "source": [
    "import re\n",
    "\n",
    "html = \"\"\"\n",
    "<div class=\"product\">\n",
    "    <h2>Super Blender 3000</h2>\n",
    "    <p>High-powered kitchen blender.</p>\n",
    "</div>\n",
    "<div class=\"product\">\n",
    "    <h2>Eco Water Bottle</h2>\n",
    "    <p>BPR-free and sustainable.</p>\n",
    "</div>\n",
    "\"\"\"\n",
    "\n",
    "# Pattern to match the content inside <h2> tags\n",
    "pattern = re.compile(r'<(h2)>.*?</\\1>')\n",
    "\n",
    "matches = pattern.findall(html)\n",
    "matches_full = pattern.finditer(html)\n",
    "\n",
    "for match in matches_full:\n",
    "    print(match.group())"
   ]
  },
  {
   "cell_type": "code",
   "execution_count": 70,
   "id": "e68e9055-2c68-4a96-a0e1-100768f746d2",
   "metadata": {},
   "outputs": [
    {
     "name": "stdout",
     "output_type": "stream",
     "text": [
      "<i>Italic Text</i>\n"
     ]
    }
   ],
   "source": [
    "pattern = re.compile(r'<(\\w+)>.*?</\\1>')\n",
    "text = '<i>Italic Text</i>'\n",
    "match = pattern.search(text)\n",
    "\n",
    "print(match.group())"
   ]
  },
  {
   "cell_type": "code",
   "execution_count": 71,
   "id": "3f597377-5ee5-4918-802e-f900fcc47776",
   "metadata": {},
   "outputs": [
    {
     "name": "stdout",
     "output_type": "stream",
     "text": [
      "<div>Content inside div</div>\n"
     ]
    }
   ],
   "source": [
    "pattern = re.compile(r'<(\\w+)>.*?</\\1>')\n",
    "text = '<div>Content inside div</div>'\n",
    "match = pattern.search(text)\n",
    "print(match.group())"
   ]
  },
  {
   "cell_type": "code",
   "execution_count": 68,
   "id": "daf2650f-b799-4189-999a-23c4db801db2",
   "metadata": {},
   "outputs": [
    {
     "name": "stdout",
     "output_type": "stream",
     "text": [
      "<span>Hello world</span>\n"
     ]
    }
   ],
   "source": [
    "pattern = re.compile(r'<(\\w+)>.*?</\\1>')\n",
    "text = '<span>Hello world</span>'\n",
    "match = pattern.search(text)\n",
    "print(match.group())"
   ]
  },
  {
   "cell_type": "code",
   "execution_count": 72,
   "id": "a2dce737-d3a9-4a9d-a52e-062d58e454ae",
   "metadata": {},
   "outputs": [
    {
     "name": "stdout",
     "output_type": "stream",
     "text": [
      "alice@example.com\n"
     ]
    }
   ],
   "source": [
    "# re.search() — Find First Email Address\n",
    "text = \"Contact me at alice@example.com for more info.\"\n",
    "match = re.search(r'\\w+@\\w+\\.\\w+', text)\n",
    "print(match.group())"
   ]
  },
  {
   "cell_type": "code",
   "execution_count": 74,
   "id": "7064466c-c442-4086-80a0-d55f74dbfe46",
   "metadata": {},
   "outputs": [
    {
     "name": "stdout",
     "output_type": "stream",
     "text": [
      "['john@abc.com', 'jane@xyz.org', 'foo@bar.net']\n"
     ]
    }
   ],
   "source": [
    "# re.findall() — Extract All Emails\n",
    "text = \"Send to john@abc.com, jane@xyz.org and foo@bar.net\"\n",
    "emails = re.findall(r'\\w+@\\w+\\.\\w+', text)\n",
    "print(emails)"
   ]
  },
  {
   "cell_type": "code",
   "execution_count": 75,
   "id": "1f94eeed-9ef4-4e3f-9988-5a2a051b2cb3",
   "metadata": {},
   "outputs": [
    {
     "name": "stdout",
     "output_type": "stream",
     "text": [
      "('123', '456', '7890')\n"
     ]
    }
   ],
   "source": [
    "# re.search() — Grouping Phone Parts\n",
    "text = \"Phone: (123) 456-7890\"\n",
    "match = re.search(r'\\((\\d{3})\\)\\s*(\\d{3})-(\\d{4})', text)\n",
    "print(match.groups())"
   ]
  },
  {
   "cell_type": "code",
   "execution_count": 76,
   "id": "570cd56d-0723-40c7-968b-b8c478eefb71",
   "metadata": {},
   "outputs": [
    {
     "name": "stdout",
     "output_type": "stream",
     "text": [
      "['Alice', 'Bob', 'London', 'Paris']\n"
     ]
    }
   ],
   "source": [
    "# re.findall() — All Words Starting with Capital\n",
    "text = \"Alice and Bob went to London and Paris\"\n",
    "caps = re.findall(r'\\b[A-Z][a-z]*\\b', text)\n",
    "print(caps)"
   ]
  },
  {
   "cell_type": "code",
   "execution_count": 78,
   "id": "2cc56516-11bf-4796-b4bf-a7d2b24135fb",
   "metadata": {},
   "outputs": [
    {
     "name": "stdout",
     "output_type": "stream",
     "text": [
      "05\n"
     ]
    }
   ],
   "source": [
    "# re.search() — Match a Date (Group Day, Month, Year)\n",
    "text = \"Date of birth: 12-05-2000\"\n",
    "match = re.search(r'(\\d{2})-(\\d{2})-(\\d{4})', text)\n",
    "print(match.group(2))"
   ]
  },
  {
   "cell_type": "code",
   "execution_count": 79,
   "id": "00fbcc63-7a15-4aa7-bf68-f3c1eff34b7b",
   "metadata": {},
   "outputs": [
    {
     "name": "stdout",
     "output_type": "stream",
     "text": [
      "['3.14', '0.99', '-12.5']\n"
     ]
    }
   ],
   "source": [
    "# re.findall() — All Floating Point Numbers\n",
    "text = \"Values: 3.14, 0.99, and -12.5\"\n",
    "numbers = re.findall(r'-?\\d+\\.\\d+', text)\n",
    "print(numbers)"
   ]
  },
  {
   "cell_type": "code",
   "execution_count": 80,
   "id": "c489231c-aa26-48a2-82de-7d97fac43338",
   "metadata": {},
   "outputs": [
    {
     "name": "stdout",
     "output_type": "stream",
     "text": [
      "user123\n"
     ]
    }
   ],
   "source": [
    "# re.search() — Username from Email\n",
    "text = \"Contact: user123@example.com\"\n",
    "match = re.search(r'(\\w+)@\\w+\\.\\w+', text)\n",
    "print(match.group(1))"
   ]
  },
  {
   "cell_type": "code",
   "execution_count": 81,
   "id": "3ebc2fa3-b660-4217-8cb1-83aeeec0fb9d",
   "metadata": {},
   "outputs": [
    {
     "name": "stdout",
     "output_type": "stream",
     "text": [
      "['#fun', '#sun', '#PythonRocks']\n"
     ]
    }
   ],
   "source": [
    "# re.findall() — Hashtags\n",
    "text = \"#fun #sun #PythonRocks\"\n",
    "tags = re.findall(r'#\\w+', text)\n",
    "print(tags)"
   ]
  },
  {
   "cell_type": "code",
   "execution_count": 82,
   "id": "1dec4d4d-2155-45cf-86b2-ea67d467678c",
   "metadata": {},
   "outputs": [
    {
     "name": "stdout",
     "output_type": "stream",
     "text": [
      "['<h1>', '</h1>', '<p>', '</p>']\n"
     ]
    }
   ],
   "source": [
    "# re.findall() — All HTML Tags\n",
    "html = \"<h1>Title</h1><p>Text</p>\"\n",
    "tags = re.findall(r'<[^>]+>', html)\n",
    "print(tags)"
   ]
  },
  {
   "cell_type": "code",
   "execution_count": 83,
   "id": "d3c02229-2aaa-469a-8846-2868a88dbca2",
   "metadata": {},
   "outputs": [
    {
     "name": "stdout",
     "output_type": "stream",
     "text": [
      "192.168.1.1\n"
     ]
    }
   ],
   "source": [
    "# re.search() — IP Address\n",
    "text = \"Ping 192.168.1.1\"\n",
    "match = re.search(r'(\\d{1,3}\\.){3}\\d{1,3}', text)\n",
    "print(match.group())\n"
   ]
  },
  {
   "cell_type": "code",
   "execution_count": 84,
   "id": "3314ac0a-2e44-44b0-bc45-4e0dce73e1dc",
   "metadata": {},
   "outputs": [
    {
     "name": "stdout",
     "output_type": "stream",
     "text": [
      "['running', 'jumping', 'swimming', 'coding']\n"
     ]
    }
   ],
   "source": [
    "# re.findall() — Words Ending in ‘ing’\n",
    "text = \"running jumping swimming coding\"\n",
    "ings = re.findall(r'\\b\\w+ing\\b', text)\n",
    "print(ings)"
   ]
  },
  {
   "cell_type": "code",
   "execution_count": 100,
   "id": "8ec36d65-9b76-4ba9-aa46-852f4cc94313",
   "metadata": {},
   "outputs": [
    {
     "name": "stdout",
     "output_type": "stream",
     "text": [
      "Hello\n"
     ]
    }
   ],
   "source": [
    "# re.search() — Extract First Word\n",
    "text = \"Hello there!\"\n",
    "match = re.search(r'^\\w+', text)\n",
    "print(match.group())  # Hello\n"
   ]
  },
  {
   "cell_type": "code",
   "execution_count": 101,
   "id": "0338b1b2-f967-4957-a829-f7893f26af68",
   "metadata": {},
   "outputs": [
    {
     "name": "stdout",
     "output_type": "stream",
     "text": [
      "['hello', 'hi']\n"
     ]
    }
   ],
   "source": [
    "# re.findall() — Match All Quoted Strings\n",
    "text = 'He said \"hello\" and she replied \"hi\"'\n",
    "quotes = re.findall(r'\"(.*?)\"', text)\n",
    "print(quotes)"
   ]
  },
  {
   "cell_type": "code",
   "execution_count": 85,
   "id": "3e07e7b4-6f2e-4813-95f0-e31339c778ed",
   "metadata": {},
   "outputs": [
    {
     "name": "stdout",
     "output_type": "stream",
     "text": [
      "['example.com', 'openai.com', 'blog.example.com']\n"
     ]
    }
   ],
   "source": [
    "# re.findall() — Extract Domains from URLs\n",
    "text = \"Visit http://example.com and https://openai.com and http://blog.example.com\"\n",
    "domains = re.findall(r'https?://([\\w\\.]+)', text)\n",
    "print(domains)"
   ]
  },
  {
   "cell_type": "code",
   "execution_count": 86,
   "id": "84c36955-5ddb-49a8-8c0b-8b05896b46af",
   "metadata": {},
   "outputs": [
    {
     "name": "stdout",
     "output_type": "stream",
     "text": [
      "('14', '30')\n"
     ]
    }
   ],
   "source": [
    "# re.search() — Extract Time (HH:MM)\n",
    "text = \"Meeting at 14:30\"\n",
    "match = re.search(r'(\\d{2}):(\\d{2})', text)\n",
    "print(match.groups())"
   ]
  },
  {
   "cell_type": "code",
   "execution_count": 87,
   "id": "7a073061-7968-4396-9f33-638d404328c8",
   "metadata": {},
   "outputs": [
    {
     "name": "stdout",
     "output_type": "stream",
     "text": [
      "['-3', '7', '-42', '0']\n"
     ]
    }
   ],
   "source": [
    "# re.findall() — All Negative or Positive Integers\n",
    "text = \"-3 +7 -42 0\"\n",
    "numbers = re.findall(r'-?\\d+', text)\n",
    "print(numbers)"
   ]
  },
  {
   "cell_type": "code",
   "execution_count": 89,
   "id": "46ab4b90-4ff5-4255-bc86-3eabe88714fa",
   "metadata": {},
   "outputs": [
    {
     "name": "stdout",
     "output_type": "stream",
     "text": [
      "[('oo', 'o'), ('eeee', 'e')]\n"
     ]
    }
   ],
   "source": [
    "# re.findall() — Repeated Letters\n",
    "text = \"Look at that treeee\"\n",
    "#repeats = re.findall(r'(.)\\1+', text)\n",
    "repeats = re.findall(r'((.)\\2+)', text)\n",
    "\n",
    "print(repeats)"
   ]
  },
  {
   "cell_type": "code",
   "execution_count": 170,
   "id": "66459001-841c-4b1c-9a7d-eb129cd66a6b",
   "metadata": {},
   "outputs": [
    {
     "name": "stdout",
     "output_type": "stream",
     "text": [
      "['is', 'The', 'match']\n"
     ]
    }
   ],
   "source": [
    "import re\n",
    "\n",
    "text = \"This is is a test. The the result should match match repeated words.\"\n",
    "\n",
    "# Regex pattern to match repeated words (case-insensitive)\n",
    "pattern = r'\\b(\\w+)\\s+\\1\\b'\n",
    "\n",
    "# Use re.findall with re.IGNORECASE\n",
    "repeats = re.findall(pattern, text, re.IGNORECASE)\n",
    "\n",
    "print(repeats)\n"
   ]
  },
  {
   "cell_type": "code",
   "execution_count": 171,
   "id": "f7d17c78-6d20-420e-9ca0-f4e6bca48667",
   "metadata": {},
   "outputs": [
    {
     "name": "stdout",
     "output_type": "stream",
     "text": [
      "['.pdf', '.csv', '.jpeg']\n"
     ]
    }
   ],
   "source": [
    "# re.findall() — File Extensions\n",
    "text = \"Files: report.pdf, data.csv, image.jpeg\"\n",
    "exts = re.findall(r'\\.\\w+', text)\n",
    "print(exts)"
   ]
  },
  {
   "cell_type": "code",
   "execution_count": 172,
   "id": "590c0d01-e493-468d-811c-f33e81f8d59c",
   "metadata": {},
   "outputs": [
    {
     "name": "stdout",
     "output_type": "stream",
     "text": [
      "openai\n"
     ]
    }
   ],
   "source": [
    "text = \"Follow me @openai\"\n",
    "match = re.search(r'@(\\w+)', text)\n",
    "print(match.group(1))  # openai"
   ]
  },
  {
   "cell_type": "code",
   "execution_count": 173,
   "id": "fda19ba2-8eaf-4812-8a8c-4de5d9c1fa2c",
   "metadata": {},
   "outputs": [
    {
     "name": "stdout",
     "output_type": "stream",
     "text": [
      "['Data', 'science', 'is', 'awesome']\n"
     ]
    }
   ],
   "source": [
    "text = \"Data science is awesome!\"\n",
    "\n",
    "words = re.findall(r'\\b\\w+\\b', text)\n",
    "print(words)  # ['Data', 'science', 'is', 'awesome']\n"
   ]
  },
  {
   "cell_type": "code",
   "execution_count": 174,
   "id": "fa61b17e-cfb8-4f74-94e3-6fe957e1dc86",
   "metadata": {},
   "outputs": [
    {
     "name": "stdout",
     "output_type": "stream",
     "text": [
      "['3', '4', '12']\n"
     ]
    }
   ],
   "source": [
    "# Match All Numbers in Text\n",
    "text = \"There are 3 cats, 4 dogs, and 12 birds.\"\n",
    "numbers = re.findall(r'\\d+', text)\n",
    "print(numbers)"
   ]
  },
  {
   "cell_type": "code",
   "execution_count": 175,
   "id": "e20cb1db-96b2-4771-9373-afff51e458d1",
   "metadata": {},
   "outputs": [
    {
     "name": "stdout",
     "output_type": "stream",
     "text": [
      "['Alice', 'New', 'York', 'April']\n"
     ]
    }
   ],
   "source": [
    "# Find All Capitalized Words\n",
    "text = \"Alice went to New York in April.\"\n",
    "caps = re.findall(r'\\b[A-Z][a-z]*\\b', text)\n",
    "print(caps)"
   ]
  },
  {
   "cell_type": "code",
   "execution_count": 176,
   "id": "0bffc608-19eb-4418-a7d2-6d0ad6077a13",
   "metadata": {},
   "outputs": [
    {
     "name": "stdout",
     "output_type": "stream",
     "text": [
      "['help@example.com', 'admin@site.org']\n"
     ]
    }
   ],
   "source": [
    "# Match All Email Addresses\n",
    "text = \"Contact us at help@example.com or admin@site.org\"\n",
    "emails = re.findall(r'\\b[\\w.-]+@[\\w.-]+\\.\\w+\\b', text)\n",
    "emails = re.findall(r'\\b[\\w.-]+@[\\w.-]+\\.\\w+\\b', text)\n",
    "print(emails)"
   ]
  },
  {
   "cell_type": "code",
   "execution_count": 178,
   "id": "d9142899-d23a-4aec-a6c3-044f8f64fed2",
   "metadata": {},
   "outputs": [
    {
     "name": "stdout",
     "output_type": "stream",
     "text": [
      "['#ff0000', '#00ff00', '#0000ff']\n"
     ]
    }
   ],
   "source": [
    "# Extract Hex Color Codes\n",
    "text = \"Colors: #ff0000, #00ff00, #0000ff\"\n",
    "colors = re.findall(r'#[0-9a-fA-F]{6}', text)\n",
    "print(colors)"
   ]
  },
  {
   "cell_type": "code",
   "execution_count": 179,
   "id": "68b1e283-5f51-4e3f-a986-a2b04e5c6d25",
   "metadata": {},
   "outputs": [
    {
     "name": "stdout",
     "output_type": "stream",
     "text": [
      "['science', 'fascinating', 'powerful']\n"
     ]
    }
   ],
   "source": [
    "# Find All Words Longer Than 5 Letters\n",
    "text = \"Data science is fascinating and powerful\"\n",
    "long_words = re.findall(r'\\b\\w{6,}\\b', text)\n",
    "print(long_words)"
   ]
  },
  {
   "cell_type": "code",
   "execution_count": 180,
   "id": "f4b10dd0-6d0f-4367-b69e-171b8179d460",
   "metadata": {},
   "outputs": [
    {
     "name": "stdout",
     "output_type": "stream",
     "text": [
      "['#Python', '#MachineLearning']\n"
     ]
    }
   ],
   "source": [
    "# Extract All Hashtags\n",
    "text = \"I love #Python and #MachineLearning!\"\n",
    "hashtags = re.findall(r'#\\w+', text)\n",
    "print(hashtags)"
   ]
  },
  {
   "cell_type": "code",
   "execution_count": 183,
   "id": "c72345e5-969a-4391-b79b-74631d31a5b9",
   "metadata": {},
   "outputs": [
    {
     "name": "stdout",
     "output_type": "stream",
     "text": [
      "['is', 'test', 'repeated']\n"
     ]
    }
   ],
   "source": [
    "# Find Repeated Words\n",
    "text = \"This is is a test test of repeated repeated words.\"\n",
    "repeats = re.findall(r'\\b(\\w+)\\s+\\1\\b', text)\n",
    "print(repeats)"
   ]
  },
  {
   "cell_type": "code",
   "execution_count": 184,
   "id": "f4aa5e5e-8334-4b75-a144-d2d8f1e6383f",
   "metadata": {},
   "outputs": [
    {
     "name": "stdout",
     "output_type": "stream",
     "text": [
      "['12:30', '14:00']\n"
     ]
    }
   ],
   "source": [
    "# Extract Time Strings (e.g., 12:30)\n",
    "text = \"The meeting is at 12:30 and lunch is at 14:00.\"\n",
    "times = re.findall(r'\\b\\d{1,2}:\\d{2}\\b', text)\n",
    "times = re.findall(r'\\b\\d{1,2}:\\d{2}\\b', text)\n",
    "print(times)"
   ]
  },
  {
   "cell_type": "code",
   "execution_count": 185,
   "id": "3b875c0f-b5e2-4046-bb09-a35fd068f44b",
   "metadata": {},
   "outputs": [
    {
     "name": "stdout",
     "output_type": "stream",
     "text": [
      "['yes', 'no']\n"
     ]
    }
   ],
   "source": [
    "# Get All Words in Quotation Marks\n",
    "text = 'He said \"yes\", then she said \"no\".'\n",
    "quoted = re.findall(r'\"(.*?)\"', text)\n",
    "print(quoted)"
   ]
  },
  {
   "cell_type": "code",
   "execution_count": 188,
   "id": "b0560d64-c467-468b-833c-c88dd6795c05",
   "metadata": {},
   "outputs": [
    {
     "name": "stdout",
     "output_type": "stream",
     "text": [
      "['127.0.0.1', '192.168.1.1']\n"
     ]
    }
   ],
   "source": [
    "# Match IPv4 Addresses\n",
    "text = \"Localhost IP is 127.0.0.1 and router is 192.168.1.1\"\n",
    "#ips = re.findall(r'\\b(?:\\d{1,3}\\.){3}\\d{1,3}\\b', text)\n",
    "ips = re.findall(r'\\b(?:\\d{1,3}\\.){3}\\d{1,3}\\b', text)\n",
    "print(ips)"
   ]
  },
  {
   "cell_type": "code",
   "execution_count": 190,
   "id": "81fcfc93-f8a3-4dac-afb4-5de15adc4a81",
   "metadata": {},
   "outputs": [
    {
     "name": "stdout",
     "output_type": "stream",
     "text": [
      "127.0.0.1\n",
      "192.168.1.1\n"
     ]
    }
   ],
   "source": [
    "import re\n",
    "text = \"Localhost IP is 127.0.0.1 and router is 192.168.1.1\"\n",
    "ips = re.findall(r'\\b(\\d{1,3})\\.(\\d{1,3})\\.(\\d{1,3})\\.(\\d{1,3})\\b', text)\n",
    "\n",
    "for ip in ips:\n",
    "    print(\".\".join(ip))\n"
   ]
  },
  {
   "cell_type": "code",
   "execution_count": 193,
   "id": "b485059d-b65e-4e0b-838e-faed0763fc58",
   "metadata": {},
   "outputs": [
    {
     "name": "stdout",
     "output_type": "stream",
     "text": [
      "['192.168.1.1']\n"
     ]
    }
   ],
   "source": [
    "# Strict IPv4 Validation\n",
    "import re\n",
    "text = \"Valid: 192.168.1.1, Invalid: 256.512.999.0\"\n",
    "ips = re.findall(\n",
    "    r'\\b(?:(?:25[0-5]|2[0-4]\\d|1\\d{2}|[1-9]?\\d)\\.){3}'\n",
    "    r'(?:25[0-5]|2[0-4]\\d|1\\d{2}|[1-9]?\\d)\\b', \n",
    "    text)\n",
    "print(ips)"
   ]
  },
  {
   "cell_type": "code",
   "execution_count": 195,
   "id": "a0c24bd1-5db0-4c98-b66b-2974debdf9c0",
   "metadata": {},
   "outputs": [
    {
     "name": "stdout",
     "output_type": "stream",
     "text": [
      "['192.168.1.1']\n"
     ]
    }
   ],
   "source": [
    "import re\n",
    "import ipaddress\n",
    "\n",
    "text = \"Valid: 192.168.1.1, Invalid: 256.512.999.0\"\n",
    "\n",
    "# Step 1: Extract full IPs using strict IPv4 pattern\n",
    "potential_ips = re.findall(\n",
    "    r'\\b(?:25[0-5]|2[0-4]\\d|1\\d{2}|[1-9]?\\d)'\n",
    "    r'(?:\\.(?:25[0-5]|2[0-4]\\d|1\\d{2}|[1-9]?\\d)){3}\\b',\n",
    "    text\n",
    ")\n",
    "\n",
    "# Step 2: Filter only valid IPs using ipaddress\n",
    "valid_ips = [\n",
    "    ip for ip in potential_ips\n",
    "    if ipaddress.ip_address(ip)\n",
    "]\n",
    "\n",
    "print(valid_ips)  # ['192.168.1.1']\n"
   ]
  },
  {
   "cell_type": "code",
   "execution_count": 197,
   "id": "bfd68333-d875-43a2-8419-c5b85ee064b5",
   "metadata": {},
   "outputs": [
    {
     "name": "stdout",
     "output_type": "stream",
     "text": [
      "['user@example.com', 'support@company.co.uk']\n"
     ]
    }
   ],
   "source": [
    "# Email Address Extraction\n",
    "text = \"Contact: user@example.com, invalid@.com, support@company.co.uk\"\n",
    "emails = re.findall(r'\\b[A-Za-z0-9._%+-]+@[A-za-z0-9.-]+\\.[A-Za-z]{2,}\\b', text)\n",
    "print(emails)"
   ]
  },
  {
   "cell_type": "code",
   "execution_count": 198,
   "id": "a6a82409-aa21-42d8-a202-a1619204195c",
   "metadata": {},
   "outputs": [
    {
     "name": "stdout",
     "output_type": "stream",
     "text": [
      "Cards: ****-****-****-****, ****-****-****-****\n"
     ]
    }
   ],
   "source": [
    "# Credit Card Number Masking\n",
    "text = \"Cards: 4111-1111-1111-1111, 5500 0000 0000 0004\"\n",
    "masked = re.sub(r'\\b(?:\\d{4}[- ]?){3}\\d{4}\\b', '****-****-****-****', text)\n",
    "print(masked)\n",
    "                "
   ]
  },
  {
   "cell_type": "code",
   "execution_count": 199,
   "id": "a45e8363-8a2f-426c-9d78-c9e6601ef715",
   "metadata": {},
   "outputs": [
    {
     "name": "stdout",
     "output_type": "stream",
     "text": [
      "['https://example.com/path', 'http://test.site']\n"
     ]
    }
   ],
   "source": [
    "# URL extraction\n",
    "text = \"Visit https://example.com/path or http://test.site\"\n",
    "urls = re.findall(r'https?://[^\\s]+', text)\n",
    "print(urls)  # Output: ['https://example.com/path', 'http://test.site']"
   ]
  },
  {
   "cell_type": "code",
   "execution_count": 202,
   "id": "ee2140f9-9138-475c-8414-4dfd08128c4e",
   "metadata": {},
   "outputs": [
    {
     "name": "stdout",
     "output_type": "stream",
     "text": [
      "Strong password\n"
     ]
    }
   ],
   "source": [
    "# Password Strength Checker\n",
    "password = \"SecureP@ss123\"\n",
    "if re.fullmatch(r'(?=.*[A-Z])(?=.*[a-z])(?=.*\\d)(?=.*[@$!%*?&])[A-Za-z\\d@$!%*?&]{8,}$', password):\n",
    "    print(\"Strong password\")"
   ]
  },
  {
   "cell_type": "code",
   "execution_count": 203,
   "id": "fd2f2ec5-6021-410c-89d9-be5dcf1d3538",
   "metadata": {},
   "outputs": [
    {
     "name": "stdout",
     "output_type": "stream",
     "text": [
      "['http://localhost:8080', 'postgres://db1:5432']\n"
     ]
    }
   ],
   "source": [
    "# Matching URLs with Port Numbers\n",
    "text = \"Server: http://localhost:8080, DB: postgres://db1:5432\"\n",
    "urls = re.findall(r'\\b\\w+://[^\\s/:?#]+(?:\\:\\d+)?(?:/[^\\s]*)?', text)\n",
    "\n",
    "print(urls)\n"
   ]
  },
  {
   "cell_type": "code",
   "execution_count": 204,
   "id": "bff8eebe-974e-4806-a118-a21f83e86abd",
   "metadata": {},
   "outputs": [
    {
     "name": "stdout",
     "output_type": "stream",
     "text": [
      "['Python', 'regex_team', '100DaysOfCode']\n"
     ]
    }
   ],
   "source": [
    "# Extracting Hashtags and Mentions\n",
    "text = \"Trending: #Python @regex_team #100DaysOfCode\"\n",
    "tags = re.findall(r'(?:#|@)(\\w+)', text)\n",
    "print(tags)"
   ]
  },
  {
   "cell_type": "code",
   "execution_count": 205,
   "id": "c34f1fdb-b24f-4346-ba87-f09ffee4deaa",
   "metadata": {},
   "outputs": [
    {
     "name": "stdout",
     "output_type": "stream",
     "text": [
      "['#Python', '@regex_team', '#100DaysOfCode']\n"
     ]
    }
   ],
   "source": [
    "text = \"Trending: #Python @regex_team #100DaysOfCode\"\n",
    "tags = re.findall(r'(?:#|@)\\w+', text)\n",
    "print(tags)"
   ]
  },
  {
   "cell_type": "code",
   "execution_count": 208,
   "id": "7b9c02f4-daa2-4f36-801a-11b445999d97",
   "metadata": {},
   "outputs": [
    {
     "name": "stdout",
     "output_type": "stream",
     "text": [
      "['$19.99', '€30', '¥5000']\n"
     ]
    }
   ],
   "source": [
    "# Finding Currency Values\n",
    "text = \"Price: $19.99, €30, ¥5000\"\n",
    "currencies = re.findall(r'[$€¥]\\d+(?:\\.\\d{2})?', text, re.UNICODE)\n",
    "print(currencies)"
   ]
  },
  {
   "cell_type": "code",
   "execution_count": 119,
   "id": "06abcc0a-cdf2-4ef8-9256-0754eb58695b",
   "metadata": {},
   "outputs": [
    {
     "name": "stdout",
     "output_type": "stream",
     "text": [
      "camel Case Example XMLHttp Request\n"
     ]
    }
   ],
   "source": [
    "# Splitting CamelCase Words\n",
    "text = \"camelCaseExample XMLHttpRequest\"\n",
    "words = re.sub(r'([a-z])([A-Z])', r'\\1 \\2', text)\n",
    "print(words)"
   ]
  },
  {
   "cell_type": "code",
   "execution_count": 127,
   "id": "d669da49-1cc9-4390-bfb9-2608e7f1e5ea",
   "metadata": {},
   "outputs": [
    {
     "name": "stdout",
     "output_type": "stream",
     "text": [
      "['978-3-16-148410-0', '0-306-40615-2']\n"
     ]
    }
   ],
   "source": [
    "# Validating ISBNs (10 or 13-digit)\n",
    "import re\n",
    "\n",
    "text = \"ISBNs: 978-3-16-148410-0, 0-306-40615-2\"\n",
    "\n",
    "pattern = r'''\n",
    "    \\b\n",
    "    (?: \n",
    "        \\d{3}[- ]?\\d{1,5}[- ]?\\d{1,7}[- ]?\\d{1,7}[- ]?\\d      # ISBN-13\n",
    "        |\n",
    "        \\d{1,5}[- ]?\\d{1,7}[- ]?\\d{1,7}[- ]?[\\dX]             # ISBN-10\n",
    "    )\n",
    "    \\b\n",
    "'''\n",
    "\n",
    "matches = re.finditer(pattern, text, re.VERBOSE)\n",
    "isbns = [match.group(0) for match in matches]\n",
    "print(isbns)\n",
    "\n"
   ]
  },
  {
   "cell_type": "code",
   "execution_count": 129,
   "id": "c455cee6-a2bb-4893-a74f-bf111fbe9bd0",
   "metadata": {},
   "outputs": [
    {
     "name": "stdout",
     "output_type": "stream",
     "text": [
      "['978-3-16-148410-0', '0-306-40615-2']\n"
     ]
    }
   ],
   "source": [
    "import re\n",
    "\n",
    "text = \"ISBNs: 978-3-16-148410-0, 0-306-40615-2\"\n",
    "\n",
    "def validate_isbn(text):\n",
    "    pattern = r'\\b(?:(?:\\d[- ]?){12}\\d|(?:\\d[- ]?){9}[\\dX])\\b'\n",
    "    matches = re.finditer(pattern, text)\n",
    "    valid_isbns = []\n",
    "    \n",
    "    for match in matches:\n",
    "        isbn = match.group(0)\n",
    "        cleaned = isbn.replace(\"-\", \"\").replace(\" \", \"\")\n",
    "        if len(cleaned) == 13 and is_valid_isbn13(cleaned):\n",
    "            valid_isbns.append(isbn)\n",
    "        elif len(cleaned) == 10 and is_valid_isbn10(cleaned):\n",
    "            valid_isbns.append(isbn)\n",
    "    \n",
    "    return valid_isbns\n",
    "\n",
    "def is_valid_isbn13(isbn):\n",
    "    total = sum((int(d) if i % 2 == 0 else int(d)*3) for i, d in enumerate(isbn[:-1]))\n",
    "    check = (10 - total % 10) % 10\n",
    "    return check == int(isbn[-1])\n",
    "\n",
    "def is_valid_isbn10(isbn):\n",
    "    total = sum((i + 1) * (10 if d == 'X' else int(d)) for i, d in enumerate(isbn))\n",
    "    return total % 11 == 0\n",
    "\n",
    "print(validate_isbn(text))\n"
   ]
  },
  {
   "cell_type": "code",
   "execution_count": 209,
   "id": "f4ba43ed-47e2-41e0-b3cc-18086ee31841",
   "metadata": {},
   "outputs": [
    {
     "name": "stdout",
     "output_type": "stream",
     "text": [
      "415\n",
      "555-4242\n",
      "415-555-4242\n",
      "415-555-4242\n",
      "('415', '555-4242')\n",
      "415\n",
      "555-4242\n"
     ]
    }
   ],
   "source": [
    "phoneNumRegex = re.compile(r'(\\d\\d\\d)-(\\d\\d\\d-\\d\\d\\d\\d)')\n",
    "mo = phoneNumRegex.search('My number is 415-555-4242.')\n",
    "print(mo.group(1))\n",
    "print(mo.group(2))\n",
    "print(mo.group(0))\n",
    "print(mo.group())\n",
    "print(mo.groups())\n",
    "areaCode, mainNumber = mo.groups()\n",
    "print(areaCode)\n",
    "print(mainNumber)"
   ]
  },
  {
   "cell_type": "code",
   "execution_count": 210,
   "id": "91a2428a-b18a-49d7-8509-50c36362d8a1",
   "metadata": {},
   "outputs": [
    {
     "name": "stdout",
     "output_type": "stream",
     "text": [
      "(415)\n",
      "555-4242\n"
     ]
    }
   ],
   "source": [
    "phoneNumRegex = re.compile(r'(\\(\\d\\d\\d\\)) (\\d\\d\\d-\\d\\d\\d\\d)')\n",
    "mo = phoneNumRegex.search('My phone number is (415) 555-4242.')\n",
    "print(mo.group(1))\n",
    "print(mo.group(2))"
   ]
  },
  {
   "cell_type": "code",
   "execution_count": 212,
   "id": "941672b4-7083-4900-a758-c523d87555ce",
   "metadata": {},
   "outputs": [
    {
     "name": "stdout",
     "output_type": "stream",
     "text": [
      "Batman\n",
      "Tina Fey\n"
     ]
    }
   ],
   "source": [
    "heroRegex = re.compile (r'Batman|Tina Fey')\n",
    "mo1 = heroRegex.search('Batman and Tina Fey')\n",
    "print(mo1.group())\n",
    "mo2 = heroRegex.search('Tina Fey and Batman')\n",
    "print(mo2.group())"
   ]
  },
  {
   "cell_type": "code",
   "execution_count": 213,
   "id": "99db68d2-90b0-45d9-8c48-a3cee7b740a3",
   "metadata": {},
   "outputs": [
    {
     "name": "stdout",
     "output_type": "stream",
     "text": [
      "Batmobile\n",
      "mobile\n"
     ]
    }
   ],
   "source": [
    "batRegex = re.compile(r'Bat(man|mobile|copter|bat)')\n",
    "mo = batRegex.search('Batmobile lost a wheel')\n",
    "print(mo.group())\n",
    "print(mo.group(1))"
   ]
  },
  {
   "cell_type": "code",
   "execution_count": 214,
   "id": "45f1ce98-c01b-46d7-b3b5-b4e0b13518fc",
   "metadata": {},
   "outputs": [],
   "source": [
    "# re.compile Compiles a regular expression string into a Regex object.\n",
    "# can reuse this object to run multiple matches (like search(), findall(), or finditer()).\n",
    "\n",
    "phone_pattern = re.compile(r'\\d{3}-\\d{4}')\n",
    "match = phone_pattern.search(\"Call 555-1234\")  # like re.search\n"
   ]
  },
  {
   "cell_type": "code",
   "execution_count": 215,
   "id": "b397f573-9e72-478b-9921-7ccac7716820",
   "metadata": {},
   "outputs": [
    {
     "name": "stdout",
     "output_type": "stream",
     "text": [
      "555-1234\n"
     ]
    }
   ],
   "source": [
    "# re.search(pattern, text) or compiled.search(text)\n",
    "# Searches the entire string for the first match only.\n",
    "# Returns a match object or None.\n",
    "\n",
    "import re\n",
    "match = re.search(r'\\d{3}-\\d{4}', \"Call 555-1234\")\n",
    "print(match.group())  # → '555-1234'\n"
   ]
  },
  {
   "cell_type": "code",
   "execution_count": 216,
   "id": "e0e76b7f-c68d-4263-ba54-315d70306d59",
   "metadata": {},
   "outputs": [
    {
     "name": "stdout",
     "output_type": "stream",
     "text": [
      "18\n",
      "205\n"
     ]
    }
   ],
   "source": [
    "# re.finditer(pattern, text) or compiled.finditer(text)\n",
    "# Returns an iterator over all non-overlapping matches in the string.\n",
    "\n",
    "import re\n",
    "for match in re.finditer(r'\\d+', \"Age: 18, Room: 205\"):\n",
    "    print(match.group())  # prints '18' then '205'\n"
   ]
  },
  {
   "cell_type": "code",
   "execution_count": 217,
   "id": "e2ea653a-e7b6-47ec-81ce-24cf8d333f79",
   "metadata": {},
   "outputs": [
    {
     "name": "stdout",
     "output_type": "stream",
     "text": [
      "415-555-4242\n",
      "415\n",
      "555-4242\n"
     ]
    }
   ],
   "source": [
    "# Example 1: Phone Number Variations\n",
    "phoneRegex = re.compile(r'(\\d{3})-(\\d{3}-\\d{4})')\n",
    "mo = phoneRegex.search('My number is 415-555-4242')\n",
    "print(mo.group())\n",
    "print(mo.group(1))\n",
    "print(mo.group(2))"
   ]
  },
  {
   "cell_type": "code",
   "execution_count": 218,
   "id": "8c58a2ed-016e-405a-b6e6-b92e3f8c3808",
   "metadata": {},
   "outputs": [
    {
     "name": "stdout",
     "output_type": "stream",
     "text": [
      "Mrs. Robinson\n",
      "Mrs.\n",
      "Robinson\n"
     ]
    }
   ],
   "source": [
    "# Example 2: Optional Title Prefix\n",
    "nameRegex = re.compile(r'(Mr\\.|Mrs\\.|Ms\\.)\\s+(\\w+)')\n",
    "mo = nameRegex.search('Mrs. Robinson')\n",
    "print(mo.group())\n",
    "print(mo.group(1))\n",
    "print(mo.group(2))"
   ]
  },
  {
   "cell_type": "code",
   "execution_count": 219,
   "id": "43ec184c-b719-4510-9b1e-24f4bd37c2f8",
   "metadata": {},
   "outputs": [
    {
     "name": "stdout",
     "output_type": "stream",
     "text": [
      "('12', '31', '2023')\n",
      "2023\n"
     ]
    }
   ],
   "source": [
    "# Example 3: Date Components\n",
    "dateRegex = re.compile(r'(\\d{2})/(\\d{2})/(\\d{4})')\n",
    "mo = dateRegex.search('12/31/2023')\n",
    "print(mo.groups())\n",
    "print(mo.group(3))"
   ]
  },
  {
   "cell_type": "code",
   "execution_count": 220,
   "id": "005eb80a-5247-4f5b-a741-7c88d6484340",
   "metadata": {},
   "outputs": [
    {
     "name": "stdout",
     "output_type": "stream",
     "text": [
      "jumped\n"
     ]
    }
   ],
   "source": [
    "# Example 4: Non-Capturing Group\n",
    "verbRegex = re.compile(r'(?:walk|run|jump)ed')\n",
    "mo = verbRegex.search('He jumped over')\n",
    "print(mo.group())"
   ]
  },
  {
   "cell_type": "code",
   "execution_count": 221,
   "id": "6a6bf10f-2fe3-4f9f-82e6-a43b5cec5312",
   "metadata": {},
   "outputs": [
    {
     "name": "stdout",
     "output_type": "stream",
     "text": [
      "('user@example.com', 'user', 'example.com')\n",
      "user@example.com\n",
      "user@example.com\n",
      "user\n",
      "example.com\n"
     ]
    }
   ],
   "source": [
    "# Example 5: Nested Groups\n",
    "emailRegex = re.compile(r'((\\w+)@(\\w+\\.\\w+))')\n",
    "mo = emailRegex.search('user@example.com')\n",
    "print(mo.groups())\n",
    "print(mo.group(0))\n",
    "print(mo.group(1))\n",
    "print(mo.group(2))\n",
    "print(mo.group(3))"
   ]
  },
  {
   "cell_type": "code",
   "execution_count": 222,
   "id": "a18e7880-af62-40d3-81f0-20ffc72367a0",
   "metadata": {},
   "outputs": [
    {
     "name": "stdout",
     "output_type": "stream",
     "text": [
      "True\n"
     ]
    }
   ],
   "source": [
    "# Example 6: Password Strength Validation\n",
    "pass_regex = re.compile(r'^(?=.*[A-Z])(?=.*\\d)(?=.*[!@#$%^&*]).{8,}$')\n",
    "mo = pass_regex.search('SecureP@ss1')\n",
    "print(bool(mo))"
   ]
  },
  {
   "cell_type": "code",
   "execution_count": 223,
   "id": "ce71b4d1-ec33-4c70-8341-6b00349b9656",
   "metadata": {},
   "outputs": [
    {
     "name": "stdout",
     "output_type": "stream",
     "text": [
      "div\n",
      "Hello\n"
     ]
    }
   ],
   "source": [
    "# Example 7: HTML Tag extraction\n",
    "html_regex = re.compile(r'<([a-z]+)[^>]*>(.*?)<\\/\\1>')\n",
    "mo = html_regex.search('<div class=\"header\">Hello</div>')\n",
    "print(mo.group(1))\n",
    "print(mo.group(2))"
   ]
  },
  {
   "cell_type": "code",
   "execution_count": 224,
   "id": "14113e3b-4cdc-44c5-ab60-8e35684737ce",
   "metadata": {},
   "outputs": [
    {
     "name": "stdout",
     "output_type": "stream",
     "text": [
      "div\n",
      "Hello World\n"
     ]
    }
   ],
   "source": [
    "import re\n",
    "\n",
    "html = '<div class=\"main\">Hello World</div>'\n",
    "pattern = re.compile(r'<([a-z]+)[^>]*>(.*?)</\\1>')\n",
    "match = pattern.search(html)\n",
    "\n",
    "print(match.group(1))  # div\n",
    "print(match.group(2))  # Hello World\n"
   ]
  },
  {
   "cell_type": "code",
   "execution_count": 230,
   "id": "86ab6e5e-ae93-4b08-83c2-8e37bb01e677",
   "metadata": {},
   "outputs": [
    {
     "name": "stdout",
     "output_type": "stream",
     "text": [
      "('2023-12-25', '08:30:45', 'ERROR', 'File not found')\n"
     ]
    }
   ],
   "source": [
    "# Example 8: Log File Parsing\n",
    "log_regex = re.compile(r'(\\d{4}-\\d{2}-\\d{2}) (\\d{2}:\\d{2}:\\d{2}) - (\\w+): (.*)')\n",
    "mo = log_regex.search('2023-12-25 08:30:45 - ERROR: File not found')\n",
    "print(mo.groups())\n"
   ]
  },
  {
   "cell_type": "code",
   "execution_count": 231,
   "id": "4d98cc1d-9fe7-476a-ac1e-e07a986b2f2e",
   "metadata": {},
   "outputs": [
    {
     "name": "stdout",
     "output_type": "stream",
     "text": [
      "('2', '18', '5', 'beta')\n"
     ]
    }
   ],
   "source": [
    "# Example 9: Version Number Comparison\n",
    "ver_regex = re.compile(r'v?(\\d+)\\.(\\d+)\\.(\\d+)(?:-(\\w+))?')\n",
    "mo = ver_regex.search('v2.18.5-beta')\n",
    "print(mo.groups())"
   ]
  },
  {
   "cell_type": "code",
   "execution_count": 232,
   "id": "573cc404-22e0-42b5-af79-8c7225b5f8cf",
   "metadata": {},
   "outputs": [
    {
     "name": "stdout",
     "output_type": "stream",
     "text": [
      "['Hello!', 'How are you?', 'I am fine.']\n"
     ]
    }
   ],
   "source": [
    "# Example 10: Sentence Tokenization\n",
    "sent_regex = re.compile(r'([A-Z][^.!?]*[.!?])')\n",
    "mo = sent_regex.findall('Hello! How are you? I am fine.')\n",
    "print(mo)"
   ]
  },
  {
   "cell_type": "code",
   "execution_count": 233,
   "id": "3c5321e4-d863-46fd-ba2c-2e0f569cd1ba",
   "metadata": {},
   "outputs": [
    {
     "name": "stdout",
     "output_type": "stream",
     "text": [
      "img\n",
      "src\n",
      "cat.jpg\n"
     ]
    }
   ],
   "source": [
    "# Example 11: XML/HTML Attribute Extraction\n",
    "import re\n",
    "\n",
    "#attr_regex = re.compile(r'<(\\w+)\\s+([a-z-]+)=\"([^\"]+)\"')\n",
    "attr_regex = re.compile(r'<(\\w+)\\s+(\\w+)=\"([^\"]+)\"')\n",
    "mo = attr_regex.search('<img src=\"cat.jpg\" alt=\"A cat\">')\n",
    "\n",
    "print(mo.group(1))  # 'img' (tag name)\n",
    "print(mo.group(2))  # 'src' (1st attribute name)\n",
    "print(mo.group(3))  # 'cat.jpg' (1st attribute value)\n"
   ]
  },
  {
   "cell_type": "code",
   "execution_count": 234,
   "id": "4ec94413-747e-439d-a217-ad9bba2dfc56",
   "metadata": {},
   "outputs": [
    {
     "name": "stdout",
     "output_type": "stream",
     "text": [
      "Tag name: img\n",
      "Attributes: [('src', 'cat.jpg'), ('alt', 'A cat')]\n"
     ]
    }
   ],
   "source": [
    "import re\n",
    "\n",
    "html = '<img src=\"cat.jpg\" alt=\"A cat\">'\n",
    "tag_name = re.search(r'<(\\w+)', html).group(1)\n",
    "attrs = re.findall(r'(\\w+)=\"([^\"]+)\"', html)\n",
    "\n",
    "print(\"Tag name:\", tag_name)\n",
    "print(\"Attributes:\", attrs)\n"
   ]
  },
  {
   "cell_type": "code",
   "execution_count": 237,
   "id": "17a419d2-5e17-46cf-a104-60dd43f86794",
   "metadata": {},
   "outputs": [
    {
     "name": "stdout",
     "output_type": "stream",
     "text": [
      "['support@example.com']\n",
      "['admin@domain.org', 'hello@world.net']\n",
      "[]\n"
     ]
    }
   ],
   "source": [
    "import re\n",
    "\n",
    "lines = [\n",
    "    \"Contact us at support@example.com.\",\n",
    "    \"Send it to admin@domain.org or hello@world.net.\",\n",
    "    \"Invalid email here: test@.com\"\n",
    "]\n",
    "\n",
    "email_pattern = re.compile(r'[\\w\\.-]+@[\\w\\.-]+\\.\\w+')\n",
    "\n",
    "for line in lines:\n",
    "    matches = email_pattern.findall(line)\n",
    "    print(matches)"
   ]
  },
  {
   "cell_type": "code",
   "execution_count": 238,
   "id": "bc989c37-148b-4765-9b4f-a5059d3f9128",
   "metadata": {},
   "outputs": [
    {
     "name": "stdout",
     "output_type": "stream",
     "text": [
      "Valid: 415-555-1234\n",
      "Valid: 1234567890\n",
      "Valid: (212) 555-6789\n",
      "Invalid: invalid number\n"
     ]
    }
   ],
   "source": [
    "import re\n",
    "\n",
    "numbers = [\n",
    "    \"415-555-1234\",\n",
    "    \"1234567890\",\n",
    "    \"(212) 555-6789\",\n",
    "    \"invalid number\"\n",
    "]\n",
    "\n",
    "phone_pattern = re.compile(r'(\\(?\\d{3}\\)?[-.\\s]?)?\\d{3}[-.\\s]?\\d{4}')\n",
    "\n",
    "for number in numbers:\n",
    "    if phone_pattern.fullmatch(number):\n",
    "        print(f\"Valid: {number}\")\n",
    "    else:\n",
    "        print(f\"Invalid: {number}\")"
   ]
  },
  {
   "cell_type": "code",
   "execution_count": 239,
   "id": "64262e9f-c6a8-4f29-812d-fc1e5d93851f",
   "metadata": {},
   "outputs": [
    {
     "name": "stdout",
     "output_type": "stream",
     "text": [
      "Hello World\n",
      "Reminder\n",
      "Click here\n"
     ]
    }
   ],
   "source": [
    "import re\n",
    "\n",
    "html_lines = [\n",
    "    \"<p>Hello <strong>World</strong></p>\",\n",
    "    \"<div class='note'>Reminder</div>\",\n",
    "    \"<a href='#'>Click here</a>\"\n",
    "]\n",
    "\n",
    "tag_pattern = re.compile(r'<[^>]+>')\n",
    "\n",
    "for line in html_lines:\n",
    "    cleaned = tag_pattern.sub('', line)\n",
    "    print(cleaned)"
   ]
  },
  {
   "cell_type": "code",
   "execution_count": 159,
   "id": "4679c54e-8a12-4d3a-8690-fa8eb8a3b047",
   "metadata": {},
   "outputs": [
    {
     "name": "stdout",
     "output_type": "stream",
     "text": [
      "123\n",
      "['info@example.com', 'support@openai.com']\n",
      "2024\n",
      "05\n"
     ]
    }
   ],
   "source": [
    "import re\n",
    "\n",
    "# Basic use\n",
    "mo = re.search(r'\\d+', \"User123\")\n",
    "print(mo.group())  # '123'\n",
    "\n",
    "# Find all matches (needs defined text!)\n",
    "text = \"Contact us at info@example.com and support@openai.com\"\n",
    "emails = re.findall(r'[\\w\\.-]+@[\\w\\.-]+', text)\n",
    "\n",
    "print(emails)  # ['info@example.com', 'support@openai.com']\n",
    "\n",
    "# Extract groups\n",
    "m = re.search(r'(\\d+)-(\\d+)', \"2024-05\")\n",
    "print(m.group(1))  # '2024'\n",
    "print(m.group(2))  # '05'\n"
   ]
  },
  {
   "cell_type": "code",
   "execution_count": 240,
   "id": "775d8624-cb9e-4909-ad08-d948b3c38ba0",
   "metadata": {},
   "outputs": [
    {
     "name": "stdout",
     "output_type": "stream",
     "text": [
      "Coordinates found: ['25.038, 121.564', '24.986, 121.548']\n"
     ]
    }
   ],
   "source": [
    "text = \"Location: 25.038, 121.564; Backup: 24.986, 121.548\"\n",
    "\n",
    "pattern = re.compile(r'-?\\d{1,3}\\.\\d+,\\s*-?\\d{1,3}\\.\\d+')\n",
    "\n",
    "coords = pattern.findall(text)\n",
    "print(\"Coordinates found:\", coords)"
   ]
  },
  {
   "cell_type": "code",
   "execution_count": 242,
   "id": "fa1e2ffc-42f6-45de-a661-a196eb5413c0",
   "metadata": {},
   "outputs": [
    {
     "name": "stdout",
     "output_type": "stream",
     "text": [
      "Dates found: ['2023-11-04', '2024-01-12']\n"
     ]
    }
   ],
   "source": [
    "text = \"Damage assessed on 2023-11-04. Follow-up on 2024-01-12.\"\n",
    "\n",
    "pattern = re.compile(r'\\b\\d{4}-\\d{2}-\\d{2}\\b')\n",
    "\n",
    "dates = pattern.findall(text)\n",
    "print(\"Dates found:\", dates)"
   ]
  },
  {
   "cell_type": "code",
   "execution_count": 244,
   "id": "90200f45-f42b-479b-8bf4-48a73c687af6",
   "metadata": {},
   "outputs": [
    {
     "name": "stdout",
     "output_type": "stream",
     "text": [
      "Losses: ['$120M', '$2.5B']\n"
     ]
    }
   ],
   "source": [
    "text = \"Estimated losses: $120M. Secondary losses: $2.5B.\"\n",
    "\n",
    "pattern = re.compile(r'\\$\\d+(?:\\.\\d+)?[MB]?')\n",
    "\n",
    "losses = pattern.findall(text)\n",
    "print(\"Losses:\", losses)"
   ]
  },
  {
   "cell_type": "code",
   "execution_count": 246,
   "id": "fc001b37-9c8b-4869-ad79-42f91dc32990",
   "metadata": {},
   "outputs": [
    {
     "name": "stdout",
     "output_type": "stream",
     "text": [
      "Zone IDs found: ['FL-12A', 'TX-05C', 'CA-07']\n"
     ]
    }
   ],
   "source": [
    "text = \"Zone: FL-12A. Backup Zone: TX-05C. Nearby Zone: CA-07.\"\n",
    "\n",
    "pattern = re.compile(r'\\b[A-Z]{2}-\\d{2}[A-Z]?\\b')\n",
    "\n",
    "zones = pattern.findall(text)\n",
    "print(\"Zone IDs found:\", zones)"
   ]
  },
  {
   "cell_type": "code",
   "execution_count": 248,
   "id": "ea3726e3-4662-40cf-b722-b6ace57226ce",
   "metadata": {},
   "outputs": [
    {
     "name": "stdout",
     "output_type": "stream",
     "text": [
      "Alert levels found: ['HIGH', 'RED', 'MODERATE']\n"
     ]
    }
   ],
   "source": [
    "text = \"ALERT: Flood level HIGH. Code: RED. Next alert: MODERATE.\"\n",
    "\n",
    "pattern = re.compile(r'\\b(HIGH|MODERATE|SEVERE|LOW|RED|YELLOW)\\b')\n",
    "\n",
    "alerts = pattern.findall(text)\n",
    "print(\"Alert levels found:\", alerts)"
   ]
  },
  {
   "cell_type": "code",
   "execution_count": 249,
   "id": "301a2392-c303-4486-a9e6-bf1416ff11ec",
   "metadata": {},
   "outputs": [
    {
     "name": "stdout",
     "output_type": "stream",
     "text": [
      " int x = 5;\n"
     ]
    }
   ],
   "source": [
    "# Example 12: Multi-line Comment Stripper\n",
    "\n",
    "code = '''/* This is a \n",
    "multi-line comment */ int x = 5;'''\n",
    "comment_regex = re.compile(r'/\\*(.*?)\\*/', re.DOTALL)\n",
    "print(comment_regex.sub('', code))  # ' int x = 5;'"
   ]
  },
  {
   "cell_type": "code",
   "execution_count": 250,
   "id": "c01a0114-a1ed-41c2-8f50-00ed317f1159",
   "metadata": {},
   "outputs": [
    {
     "name": "stdout",
     "output_type": "stream",
     "text": [
      "{'page': '2', 'size': '10', 'sort': 'desc'}\n"
     ]
    }
   ],
   "source": [
    "# Example 13: URL Query Parameter Parser\n",
    "url_regex = re.compile(r'(\\w+)=([^&]+)')\n",
    "params = dict(url_regex.findall('page=2&size=10&sort=desc'))\n",
    "print(params)"
   ]
  },
  {
   "cell_type": "code",
   "execution_count": 251,
   "id": "063b291b-3b3a-4a0f-8d48-5a3cf01b1f5b",
   "metadata": {},
   "outputs": [
    {
     "name": "stdout",
     "output_type": "stream",
     "text": [
      "2 + (5-1)\n"
     ]
    }
   ],
   "source": [
    "# Example 14: Nested Parentheses Matcher\n",
    "paren_regex = re.compile(r'\\(([^()]*(?:\\([^()]*\\)[^()]*)*)\\)')\n",
    "mo = paren_regex.search('3 * (2 + (5-1))')\n",
    "print(mo.group(1))  # Output: '2 + (5-1)'"
   ]
  },
  {
   "cell_type": "code",
   "execution_count": 252,
   "id": "36a01537-eece-4fe7-b471-4ca53b2f218f",
   "metadata": {},
   "outputs": [
    {
     "name": "stdout",
     "output_type": "stream",
     "text": [
      "['(1 + 2)', '(5 - (1 + 2))', '(2 + (5 - (1 + 2)))']\n"
     ]
    }
   ],
   "source": [
    "def extract_all_parentheses(text):\n",
    "    stack = []\n",
    "    result = []\n",
    "\n",
    "    for i, char in enumerate(text):\n",
    "        if char == '(':\n",
    "            stack.append(i)  # Push position of '(' onto the stack\n",
    "        elif char == ')':\n",
    "            if stack:\n",
    "                start = stack.pop()\n",
    "                result.append(text[start:i+1])  # Capture from '(' to ')'\n",
    "\n",
    "    # Optional: return innermost to outermost\n",
    "    return sorted(result, key=lambda x: text.index(x), reverse=True)\n",
    "\n",
    "expr = '3 * (2 + (5 - (1 + 2)))'\n",
    "matches = extract_all_parentheses(expr)\n",
    "print(matches)\n"
   ]
  },
  {
   "cell_type": "code",
   "execution_count": 253,
   "id": "81c63043-c7e8-405d-9326-e6f4adec608d",
   "metadata": {},
   "outputs": [
    {
     "name": "stdout",
     "output_type": "stream",
     "text": [
      "[('From', 'user@domain.com'), ('Subject', 'Hello\\n   This spans\\n   multiple lines')]\n"
     ]
    }
   ],
   "source": [
    "# Example 15: Email Header Parser\n",
    "header_regex = re.compile(\n",
    "    r'^(From|To|Subject):\\s*(.+(?:\\n\\s+.+)*)',\n",
    "    re.MULTILINE\n",
    ")\n",
    "text = '''From: user@domain.com\n",
    "Subject: Hello\n",
    "   This spans\n",
    "   multiple lines'''\n",
    "print(header_regex.findall(text))\n"
   ]
  },
  {
   "cell_type": "code",
   "execution_count": 254,
   "id": "49b16564-bd15-43c9-a55d-08e3dc4c3a7e",
   "metadata": {},
   "outputs": [
    {
     "name": "stdout",
     "output_type": "stream",
     "text": [
      "[('Name', 'Flood Model v2'), ('Description', 'This model simulates\\n   regional flood risk using\\n   rainfall and terrain data'), ('Version', '1.3')]\n"
     ]
    }
   ],
   "source": [
    "import re\n",
    "\n",
    "config_regex = re.compile(\n",
    "    r'^(Name|Description|Version):\\s*(.+(?:\\n\\s+.+)*)',\n",
    "    re.MULTILINE\n",
    ")\n",
    "\n",
    "text = '''Name: Flood Model v2\n",
    "Description: This model simulates\n",
    "   regional flood risk using\n",
    "   rainfall and terrain data\n",
    "Version: 1.3'''\n",
    "\n",
    "print(config_regex.findall(text))\n"
   ]
  },
  {
   "cell_type": "code",
   "execution_count": 255,
   "id": "8a19e6de-356f-4e07-8f5c-8d3508a61918",
   "metadata": {},
   "outputs": [
    {
     "name": "stdout",
     "output_type": "stream",
     "text": [
      "[('Author', 'Smith, J.'), ('Title', 'Climate Risk and Adaptation\\n   A Review of Global Models'), ('Year', '2022')]\n"
     ]
    }
   ],
   "source": [
    "bib_regex = re.compile(\n",
    "    r'^(Author|Title|Year):\\s*(.+(?:\\n\\s+.+)*)',\n",
    "    re.MULTILINE\n",
    ")\n",
    "\n",
    "text = '''Author: Smith, J.\n",
    "Title: Climate Risk and Adaptation\n",
    "   A Review of Global Models\n",
    "Year: 2022'''\n",
    "\n",
    "print(bib_regex.findall(text))\n"
   ]
  },
  {
   "cell_type": "code",
   "execution_count": 257,
   "id": "ce2411fe-581e-4c7f-b617-86e0eff500ae",
   "metadata": {},
   "outputs": [
    {
     "name": "stdout",
     "output_type": "stream",
     "text": [
      "[('Timestamp', '2024-11-20 10:30'), ('Message', 'Severe flooding reported\\n   across multiple zones.\\n   Response team dispatched.'), ('Level', 'CRITICAL')]\n"
     ]
    }
   ],
   "source": [
    "log_regex = re.compile(\n",
    "    r'^(Timestamp|Message|Level):\\s*(.+(?:\\n\\s+.+)*)',\n",
    "    re.MULTILINE\n",
    ")\n",
    "\n",
    "text = '''Timestamp: 2024-11-20 10:30\n",
    "Message: Severe flooding reported\n",
    "   across multiple zones.\n",
    "   Response team dispatched.\n",
    "Level: CRITICAL'''\n",
    "\n",
    "print(log_regex.findall(text))"
   ]
  },
  {
   "cell_type": "code",
   "execution_count": 258,
   "id": "76859383-c4b6-464f-8af9-6e4b33b9ab55",
   "metadata": {},
   "outputs": [
    {
     "data": {
      "text/plain": [
       "['415-555-1234', '212-555-5678']"
      ]
     },
     "execution_count": 258,
     "metadata": {},
     "output_type": "execute_result"
    }
   ],
   "source": [
    "# Example 16: Extract Phone Numbers\n",
    "re.findall(r'\\d{3}-\\d{3}-\\d{4}', 'Call 415-555-1234 or 212-555-5678')  \n",
    "# Output: ['415-555-1234', '212-555-5678']  "
   ]
  },
  {
   "cell_type": "code",
   "execution_count": 259,
   "id": "052ee8a1-b35c-4a2d-a57b-b49d87f0063b",
   "metadata": {},
   "outputs": [
    {
     "data": {
      "text/plain": [
       "True"
      ]
     },
     "execution_count": 259,
     "metadata": {},
     "output_type": "execute_result"
    }
   ],
   "source": [
    "# Example 17: Simple Email Validation\n",
    "bool(re.match(r'\\b\\w+@\\w+\\.\\w{2,}\\b', 'test@example.com'))  # True  "
   ]
  },
  {
   "cell_type": "code",
   "execution_count": 260,
   "id": "a14879ae-f28f-4f2f-9460-b944cb9dd547",
   "metadata": {},
   "outputs": [
    {
     "data": {
      "text/plain": [
       "'Hello World'"
      ]
     },
     "execution_count": 260,
     "metadata": {},
     "output_type": "execute_result"
    }
   ],
   "source": [
    "# Example 18: Remove HTML Tags\n",
    "re.sub(r'<[^>]+>', '', '<p>Hello <b>World</b></p>')  # 'Hello World'  "
   ]
  },
  {
   "cell_type": "code",
   "execution_count": 261,
   "id": "c429fa87-7345-490c-826a-176648a6e1d1",
   "metadata": {},
   "outputs": [
    {
     "data": {
      "text/plain": [
       "['12/25/2023', '01/01/2024']"
      ]
     },
     "execution_count": 261,
     "metadata": {},
     "output_type": "execute_result"
    }
   ],
   "source": [
    "# Example 19: Extract Dates (MM/DD/YYYY)\n",
    "re.findall(r'\\b\\d{2}/\\d{2}/\\d{4}\\b', 'Dates: 12/25/2023, 01/01/2024')"
   ]
  },
  {
   "cell_type": "code",
   "execution_count": 262,
   "id": "854547ed-1924-4edf-bb67-b850b38fc793",
   "metadata": {},
   "outputs": [
    {
     "data": {
      "text/plain": [
       "['apple', 'banana', 'cherry']"
      ]
     },
     "execution_count": 262,
     "metadata": {},
     "output_type": "execute_result"
    }
   ],
   "source": [
    "# Example 20: Split on Multiple Delimiters\n",
    "re.split(r'[,;]\\s*','apple,banana; cherry')"
   ]
  },
  {
   "cell_type": "code",
   "execution_count": 263,
   "id": "e203d794-9759-4ca8-a3f9-3a6e173aa004",
   "metadata": {},
   "outputs": [
    {
     "data": {
      "text/plain": [
       "['New', 'York', 'London']"
      ]
     },
     "execution_count": 263,
     "metadata": {},
     "output_type": "execute_result"
    }
   ],
   "source": [
    "# Example 21: Find Capitalized Words\n",
    "re.findall(r'\\b[A-Z][a-z]+\\b', 'New York and London')"
   ]
  },
  {
   "cell_type": "code",
   "execution_count": 264,
   "id": "fec3edf7-51a8-4595-a747-305669931654",
   "metadata": {},
   "outputs": [
    {
     "data": {
      "text/plain": [
       "['#Python', '#DataScience']"
      ]
     },
     "execution_count": 264,
     "metadata": {},
     "output_type": "execute_result"
    }
   ],
   "source": [
    "# Example 22: Extract Hashtags\n",
    "re.findall(r'#\\w+', 'Trending: #Python #DataScience')"
   ]
  },
  {
   "cell_type": "code",
   "execution_count": 265,
   "id": "312d952d-ec68-48f7-899e-2c7162fb9914",
   "metadata": {},
   "outputs": [
    {
     "data": {
      "text/plain": [
       "'Too many spaces'"
      ]
     },
     "execution_count": 265,
     "metadata": {},
     "output_type": "execute_result"
    }
   ],
   "source": [
    "# Example 23: Remove Extra Whitespace\n",
    "re.sub(r'\\s+', ' ', 'Too   many   spaces')"
   ]
  },
  {
   "cell_type": "code",
   "execution_count": 267,
   "id": "2afbecab-e9e5-4053-82fe-1b5adb7dda01",
   "metadata": {},
   "outputs": [
    {
     "data": {
      "text/plain": [
       "['https://example.com']"
      ]
     },
     "execution_count": 267,
     "metadata": {},
     "output_type": "execute_result"
    }
   ],
   "source": [
    "# Example 24: Match URLs\n",
    "re.findall(r'https?://\\S+', 'Visit https://example.com')"
   ]
  },
  {
   "cell_type": "code",
   "execution_count": 268,
   "id": "396ba2fc-5154-49c4-a9c2-20b0626846c1",
   "metadata": {},
   "outputs": [
    {
     "data": {
      "text/plain": [
       "True"
      ]
     },
     "execution_count": 268,
     "metadata": {},
     "output_type": "execute_result"
    }
   ],
   "source": [
    "# Example 25: Validate Passwords\n",
    "bool(re.match(r'^(?=.*[A-Z])(?=.*\\d).{8,}$', 'Secure123'))"
   ]
  },
  {
   "cell_type": "code",
   "execution_count": 269,
   "id": "23350307-8855-4d4b-b969-3e8f3f9bec83",
   "metadata": {},
   "outputs": [
    {
     "data": {
      "text/plain": [
       "['$19.99', '$5.50']"
      ]
     },
     "execution_count": 269,
     "metadata": {},
     "output_type": "execute_result"
    }
   ],
   "source": [
    "# Example 26: Extract prices\n",
    "re.findall(r'\\$\\d+\\.\\d{2}', 'Cost: $19.99, $5.50')"
   ]
  },
  {
   "cell_type": "code",
   "execution_count": 270,
   "id": "7852f5c0-c320-490f-af80-c63adb31401c",
   "metadata": {},
   "outputs": [
    {
     "data": {
      "text/plain": [
       "['the']"
      ]
     },
     "execution_count": 270,
     "metadata": {},
     "output_type": "execute_result"
    }
   ],
   "source": [
    "# Example 27: Find repeated words\n",
    "re.findall(r'\\b(\\w+)\\s+\\1\\b', 'the the quick brown fox')"
   ]
  },
  {
   "cell_type": "code",
   "execution_count": 271,
   "id": "85660b75-0a87-4a86-95cf-359d2c58dbd8",
   "metadata": {},
   "outputs": [
    {
     "data": {
      "text/plain": [
       "['FF5733', 'abc']"
      ]
     },
     "execution_count": 271,
     "metadata": {},
     "output_type": "execute_result"
    }
   ],
   "source": [
    "# Example 28: Match Hex Color Codes\n",
    "re.findall(r'#([A-Fa-f0-9]{6}|[A-Fa-f0-9]{3})', '#FF5733 #abc')  # ['FF5733', 'abc']  "
   ]
  },
  {
   "cell_type": "code",
   "execution_count": 272,
   "id": "ebee5658-9ee4-43c6-8f8e-e0a045cd3813",
   "metadata": {},
   "outputs": [
    {
     "data": {
      "text/plain": [
       "['@user1', '@user2']"
      ]
     },
     "execution_count": 272,
     "metadata": {},
     "output_type": "execute_result"
    }
   ],
   "source": [
    "# Example 29: Extract twitter handles\n",
    "re.findall(r'@\\w+', 'Follow @user1 and @user2')  # ['@user1', '@user2']  "
   ]
  },
  {
   "cell_type": "code",
   "execution_count": 273,
   "id": "7c6249c4-4bf1-4e7b-aa8e-1e0326f8da27",
   "metadata": {},
   "outputs": [
    {
     "data": {
      "text/plain": [
       "['ERROR']"
      ]
     },
     "execution_count": 273,
     "metadata": {},
     "output_type": "execute_result"
    }
   ],
   "source": [
    "# Example 30: Parse Log Levels\n",
    "re.findall(r'(INFO|WARN|ERROR)','ERROR: File not found')"
   ]
  },
  {
   "cell_type": "code",
   "execution_count": 274,
   "id": "58fdd376-ef5a-4030-90e2-3fbdaedfe1bc",
   "metadata": {},
   "outputs": [
    {
     "data": {
      "text/plain": [
       "['192.168.1.1']"
      ]
     },
     "execution_count": 274,
     "metadata": {},
     "output_type": "execute_result"
    }
   ],
   "source": [
    "# Example 31: Match IP Addresses\n",
    "re.findall(r'\\b\\d{1,3}\\.\\d{1,3}\\.\\d{1,3}\\.\\d{1,3}\\b','IP: 192.168.1.1')"
   ]
  },
  {
   "cell_type": "code",
   "execution_count": 275,
   "id": "19e3e45e-6275-4a1a-8109-1836ceb701de",
   "metadata": {},
   "outputs": [
    {
     "data": {
      "text/plain": [
       "'pdf'"
      ]
     },
     "execution_count": 275,
     "metadata": {},
     "output_type": "execute_result"
    }
   ],
   "source": [
    "# Example 32: Extract File Extensions\n",
    "re.search(r'\\.(\\w+)$', 'document.pdf').group(1)  # 'pdf'  "
   ]
  },
  {
   "cell_type": "code",
   "execution_count": 276,
   "id": "1bd6574c-86d4-4040-98f4-756899e026fd",
   "metadata": {},
   "outputs": [
    {
     "data": {
      "text/plain": [
       "'Hello world'"
      ]
     },
     "execution_count": 276,
     "metadata": {},
     "output_type": "execute_result"
    }
   ],
   "source": [
    "# Example 33: Remove Punctuation\n",
    "re.sub(r'[^\\w\\s]','','Hello, world!')"
   ]
  },
  {
   "cell_type": "code",
   "execution_count": 277,
   "id": "7c86a42b-4fd9-4d90-b8c2-a4bcdfd9ddd8",
   "metadata": {},
   "outputs": [
    {
     "data": {
      "text/plain": [
       "['2023-12-25', '2024-01-01']"
      ]
     },
     "execution_count": 277,
     "metadata": {},
     "output_type": "execute_result"
    }
   ],
   "source": [
    "# Example 34: Match Simple Dates (YYYY-MM-DD)\n",
    "re.findall(r'\\d{4}-\\d{2}-\\d{2}','2023-12-25, 2024-01-01')"
   ]
  },
  {
   "cell_type": "code",
   "execution_count": 231,
   "id": "dd05ddea-70f8-4339-951a-f97f7217bf21",
   "metadata": {},
   "outputs": [
    {
     "data": {
      "text/plain": [
       "True"
      ]
     },
     "execution_count": 231,
     "metadata": {},
     "output_type": "execute_result"
    }
   ],
   "source": [
    "# Example 35: Validate usernames\n",
    "bool(re.match(r'^[a-zA-Z0-9_]{3,16}$','user_123'))"
   ]
  },
  {
   "cell_type": "code",
   "execution_count": 282,
   "id": "db16217e-8c77-4158-a30d-983803579595",
   "metadata": {},
   "outputs": [
    {
     "name": "stdout",
     "output_type": "stream",
     "text": [
      "Batmobile\n",
      "mobile\n"
     ]
    }
   ],
   "source": [
    "batRegex = re.compile(r'Bat(man|mobile|copter|bat)')\n",
    "mo = batRegex.search('Batmobile lost a wheel')\n",
    "print(mo.group())\n",
    "print(mo.group(1))"
   ]
  },
  {
   "cell_type": "code",
   "execution_count": 284,
   "id": "4b13e9c8-bcd8-4c7d-b4ce-eb402c82700f",
   "metadata": {},
   "outputs": [
    {
     "name": "stdout",
     "output_type": "stream",
     "text": [
      "Batman\n",
      "Batwoman\n"
     ]
    }
   ],
   "source": [
    "batRegex = re.compile(r'Bat(wo)?man')\n",
    "\n",
    "mo1 = batRegex.search('The adventures of Batman')\n",
    "print(mo1.group())\n",
    "\n",
    "mo2 = batRegex.search('The adventures of Batwoman')\n",
    "print(mo2.group())"
   ]
  },
  {
   "cell_type": "code",
   "execution_count": 286,
   "id": "fb4dcd0c-7603-42d4-ad46-1e93f0cd8d6d",
   "metadata": {},
   "outputs": [
    {
     "name": "stdout",
     "output_type": "stream",
     "text": [
      "415-555-4242\n",
      "555-4242\n"
     ]
    }
   ],
   "source": [
    "phoneRegex = re.compile(r'(\\d\\d\\d-)?\\d\\d\\d-\\d\\d\\d\\d')\n",
    "mo1 = phoneRegex.search('My number is 415-555-4242')\n",
    "print(mo1.group())\n",
    "\n",
    "mo2 = phoneRegex.search('mt number is 555-4242')\n",
    "print(mo2.group())"
   ]
  },
  {
   "cell_type": "code",
   "execution_count": 289,
   "id": "6e8aa06a-90f3-489c-a0a7-3f42b5f2151e",
   "metadata": {},
   "outputs": [
    {
     "name": "stdout",
     "output_type": "stream",
     "text": [
      "Batman\n",
      "Batwoman\n",
      "Batwowowowoman\n"
     ]
    }
   ],
   "source": [
    "batRegex = re.compile(r'Bat(wo)*man')\n",
    "mo1 = batRegex.search('The adventure of Batman')\n",
    "print(mo1.group())\n",
    "\n",
    "mo2 = batRegex.search('The adventures of Batwoman')\n",
    "print(mo2.group())\n",
    "\n",
    "mo3 = batRegex.search('The adventures of Batwowowowoman')\n",
    "print(mo3.group())"
   ]
  },
  {
   "cell_type": "code",
   "execution_count": 291,
   "id": "611df8fa-d046-45b8-b0f2-a27a3ced9e92",
   "metadata": {},
   "outputs": [
    {
     "name": "stdout",
     "output_type": "stream",
     "text": [
      "Batwoman\n",
      "Batwowowowoman\n",
      "True\n"
     ]
    }
   ],
   "source": [
    "batRegex = re.compile(r'Bat(wo)+man')\n",
    "mo1 = batRegex.search('The Adventures of Batwoman')\n",
    "print(mo1.group())\n",
    "\n",
    "\n",
    "mo2 = batRegex.search('The Adventures of Batwowowowoman')\n",
    "print(mo2.group())\n",
    "\n",
    "\n",
    "mo3 = batRegex.search('The Adventures of Batman')\n",
    "print(mo3 == None)"
   ]
  },
  {
   "cell_type": "code",
   "execution_count": 297,
   "id": "8cab588c-69a4-403c-b8ce-91a229f05982",
   "metadata": {},
   "outputs": [
    {
     "name": "stdout",
     "output_type": "stream",
     "text": [
      "Hahaha\n",
      "True\n"
     ]
    }
   ],
   "source": [
    "import re\n",
    "\n",
    "haRegex = re.compile(r'(Ha){3}', re.IGNORECASE)\n",
    "mo1 = haRegex.search('Hahaha')\n",
    "if mo1:\n",
    "    print(mo1.group())  # Output: Hahaha\n",
    "else:\n",
    "    print('No match')\n",
    "\n",
    "mo2 = haRegex.search('Ha')\n",
    "print(mo2 == None)"
   ]
  },
  {
   "cell_type": "code",
   "execution_count": 298,
   "id": "4ba21ae8-023e-47e9-bd5d-37393df76942",
   "metadata": {},
   "outputs": [
    {
     "name": "stdout",
     "output_type": "stream",
     "text": [
      "HaHaHaHaHa\n",
      "HaHaHa\n"
     ]
    }
   ],
   "source": [
    "greedyHaRegex = re.compile(r'(Ha){3,5}')\n",
    "mo1 = greedyHaRegex.search('HaHaHaHaHa')\n",
    "print(mo1.group())\n",
    "\n",
    "nongreedyHaRegex = re.compile(r'(Ha){3,5}?')\n",
    "mo2 = nongreedyHaRegex.search('HaHaHaHa')\n",
    "print(mo2.group())"
   ]
  },
  {
   "cell_type": "code",
   "execution_count": 299,
   "id": "1e641f01-4d82-46ee-bf2c-9470a2e0dadd",
   "metadata": {},
   "outputs": [
    {
     "data": {
      "text/plain": [
       "'415-555-9999'"
      ]
     },
     "execution_count": 299,
     "metadata": {},
     "output_type": "execute_result"
    }
   ],
   "source": [
    "phoneNumRegex = re.compile(r'\\d\\d\\d-\\d\\d\\d-\\d\\d\\d\\d')\n",
    "mo = phoneNumRegex.search('Cell: 415-555-9999 Work: 212-555-0000')\n",
    "mo.group()"
   ]
  },
  {
   "cell_type": "code",
   "execution_count": 302,
   "id": "d6f0f1f5-c4c2-4854-9032-7337e4e4f071",
   "metadata": {},
   "outputs": [
    {
     "data": {
      "text/plain": [
       "['415-555-9999', '212-555-0000']"
      ]
     },
     "execution_count": 302,
     "metadata": {},
     "output_type": "execute_result"
    }
   ],
   "source": [
    "phoneNumRegex = re.compile(r'\\d\\d\\d-\\d\\d\\d-\\d\\d\\d\\d')\n",
    "phoneNumRegex.findall('Cell: 415-555-9999 Work: 212-555-0000')\n"
   ]
  },
  {
   "cell_type": "code",
   "execution_count": 304,
   "id": "6d830033-9221-4abf-a896-7ba61517566d",
   "metadata": {},
   "outputs": [
    {
     "data": {
      "text/plain": [
       "[('415', '555', '9999'), ('212', '555', '0000')]"
      ]
     },
     "execution_count": 304,
     "metadata": {},
     "output_type": "execute_result"
    }
   ],
   "source": [
    "phoneNumRegex = re.compile(r'(\\d\\d\\d)-(\\d\\d\\d)-(\\d\\d\\d\\d)')\n",
    "phoneNumRegex.findall('Cell: 415-555-9999 Work: 212-555-0000')"
   ]
  },
  {
   "cell_type": "code",
   "execution_count": 305,
   "id": "ccf71f51-0a57-47f3-8546-cadafdc634f8",
   "metadata": {},
   "outputs": [
    {
     "data": {
      "text/plain": [
       "['12 drummers',\n",
       " '11 pipers',\n",
       " '10 lords',\n",
       " '9 ladies',\n",
       " '8 maids',\n",
       " '7 swans',\n",
       " '6 geese',\n",
       " '5 rings',\n",
       " '4 birds',\n",
       " '3 hens',\n",
       " '2 doves',\n",
       " '1 partridge']"
      ]
     },
     "execution_count": 305,
     "metadata": {},
     "output_type": "execute_result"
    }
   ],
   "source": [
    "xmasRegex = re.compile(r'\\d+\\s\\w+')\n",
    "xmasRegex.findall('12 drummers, 11 pipers, 10 lords, 9 ladies, 8 maids, 7 swans, 6 geese, 5 rings, 4 birds, 3 hens, 2 doves, 1 partridge')"
   ]
  },
  {
   "cell_type": "code",
   "execution_count": 306,
   "id": "95d5e740-19ad-486a-a620-7d78a0a84da5",
   "metadata": {},
   "outputs": [
    {
     "data": {
      "text/plain": [
       "['o', 'o', 'o', 'e', 'a', 'a', 'o', 'o', 'A', 'O', 'O']"
      ]
     },
     "execution_count": 306,
     "metadata": {},
     "output_type": "execute_result"
    }
   ],
   "source": [
    "vowelRegex = re.compile(r'[aeiouAEIOU]')\n",
    "vowelRegex.findall('RoboCop eats babt food. BABY FOOD')"
   ]
  },
  {
   "cell_type": "code",
   "execution_count": 307,
   "id": "1a2ee0fc-6bc1-4b2e-9cdd-e63ef755593d",
   "metadata": {},
   "outputs": [
    {
     "data": {
      "text/plain": [
       "['R',\n",
       " 'b',\n",
       " 'C',\n",
       " 'p',\n",
       " ' ',\n",
       " 't',\n",
       " 's',\n",
       " ' ',\n",
       " 'b',\n",
       " 'b',\n",
       " 't',\n",
       " ' ',\n",
       " 'f',\n",
       " 'd',\n",
       " '.',\n",
       " ' ',\n",
       " 'B',\n",
       " 'B',\n",
       " 'Y',\n",
       " ' ',\n",
       " 'F',\n",
       " 'D']"
      ]
     },
     "execution_count": 307,
     "metadata": {},
     "output_type": "execute_result"
    }
   ],
   "source": [
    "consonantsRegex = re.compile(r'[^aeiouAEIOU]')\n",
    "consonantsRegex.findall('RoboCop eats babt food. BABY FOOD')"
   ]
  },
  {
   "cell_type": "code",
   "execution_count": 3,
   "id": "7cca8b72-b5ba-4472-bcf4-12e7bff183c2",
   "metadata": {},
   "outputs": [
    {
     "name": "stdout",
     "output_type": "stream",
     "text": [
      "Match found: phone\n",
      "Phone number found: 123-456-7890\n",
      "Starts at: 19, Ends at: 31\n",
      "Span: (19, 31)\n",
      "Pattern '.at' found: cat\n"
     ]
    }
   ],
   "source": [
    "import re\n",
    "\n",
    "text = \"My phone number is 123-456-7890.\"\n",
    "\n",
    "# Example 1: Finding a literal string\n",
    "match1 = re.search('phone', text)\n",
    "if match1:\n",
    "    print(f\"Match found: {match1.group()}\")\n",
    "\n",
    "# Example 2: Using \\d to find digits\n",
    "match2 = re.search(r'\\d\\d\\d-\\d\\d\\d-\\d\\d\\d\\d', text) # r' raw string for backslashes\n",
    "if match2:\n",
    "    print(f\"Phone number found: {match2.group()}\")\n",
    "    print(f\"Starts at: {match2.start()}, Ends at: {match2.end()}\")\n",
    "    print(f\"Span: {match2.span()}\")\n",
    "\n",
    "# Example 3: Using . wildcard (briefly illustrate limitation if not careful)\n",
    "text2 = \"cat bat hat\"\n",
    "match3 = re.search(r'.at', text2)\n",
    "if match3:\n",
    "    print(f\"Pattern '.at' found: {match3.group()}\")"
   ]
  },
  {
   "cell_type": "code",
   "execution_count": 4,
   "id": "02b185ff-1a8a-4670-bd49-c019b5be203e",
   "metadata": {},
   "outputs": [
    {
     "name": "stdout",
     "output_type": "stream",
     "text": [
      "Pattern '\\s' found: ' '\n",
      "Starts at: 3, Ends at: 4\n",
      "Span: (3, 4)\n"
     ]
    }
   ],
   "source": [
    "text2 = \"cat bat hat\" \n",
    "\n",
    "# Using \\s to find whitespace\n",
    "match_space = re.search(r'\\s', text2)\n",
    "if match_space:\n",
    "    print(f\"Pattern '\\\\s' found: '{match_space.group()}'\")\n",
    "    print(f\"Starts at: {match_space.start()}, Ends at: {match_space.end()}\")\n",
    "    print(f\"Span: {match_space.span()}\")"
   ]
  },
  {
   "cell_type": "code",
   "execution_count": 5,
   "id": "9207e0d1-eaf3-4548-bcad-4c6265a767e8",
   "metadata": {},
   "outputs": [
    {
     "name": "stdout",
     "output_type": "stream",
     "text": [
      "Individual digits: ['1', '0', '2', '5', '3', '0', '0', '5']\n",
      "All numbers: ['10', '25', '300', '5']\n",
      "All words: ['The', 'numbers', 'are', '10', '25', 'and', '300', 'Also', '5']\n",
      "Three-letter words ending in 's': ['ats', 'ogs', 'rds', 'ogs']\n"
     ]
    }
   ],
   "source": [
    "import re\n",
    "\n",
    "text = \"The numbers are 10, 25, and 300. Also, 5.\"\n",
    "\n",
    "# Example 1: Find all digits\n",
    "numbers1 = re.findall(r'\\d', text) # Finds individual digits\n",
    "print(f\"Individual digits: {numbers1}\")\n",
    "\n",
    "# Example 2: Find all sequences of one or more digits (using +)\n",
    "numbers2 = re.findall(r'\\d+', text)\n",
    "print(f\"All numbers: {numbers2}\")\n",
    "\n",
    "# Example 3: Finding all words (using \\w+)\n",
    "words = re.findall(r'\\w+', text)\n",
    "print(f\"All words: {words}\")\n",
    "\n",
    "# Example 4: Using . to find patterns (e.g., three-letter words ending with 's')\n",
    "text2 = \"cats dogs birds frogs\"\n",
    "threes_s = re.findall(r'\\w\\ws', text2)\n",
    "print(f\"Three-letter words ending in 's': {threes_s}\")"
   ]
  },
  {
   "cell_type": "code",
   "execution_count": 7,
   "id": "3840ffe6-e388-4129-9338-e525bc170283",
   "metadata": {},
   "outputs": [
    {
     "name": "stdout",
     "output_type": "stream",
     "text": [
      "Found Emails: ['info@example.com', 'support@company.org', 'smith@mail.net']\n",
      "Fixed Found Emails: ['info@example.com', 'support@company.org', 'alice.smith@mail.net']\n"
     ]
    }
   ],
   "source": [
    "sample_text = \"Contact us at info@example.com or support@company.org. You can also reach out to alice.smith@mail.net for more details.\"\n",
    "\n",
    "# Task 1: Find all email addresses (simplified pattern)\n",
    "# Pattern explanation:\n",
    "# \\w+    : One or more word characters (for username part)\n",
    "# @      : Literal '@' symbol\n",
    "# \\w+    : One or more word characters (for domain name)\n",
    "# \\.     : Literal '.' (escaped because '.' is a special regex character)\n",
    "# \\w{2,3}: Two or three word characters (for top-level domain like com, org, net)\n",
    "email_pattern = r'\\w+@\\w+\\.\\w{2,3}'\n",
    "found_emails = re.findall(email_pattern, sample_text)\n",
    "print(f\"Found Emails: {found_emails}\")\n",
    "\n",
    "# Fix: Include '.' in the character class for the username part\n",
    "# [\\w.]+ means match one or more word characters OR literal dots\n",
    "email_pattern_fixed = r'[\\w.]+@\\w+\\.\\w{2,3}' # Changed \\w+ to [\\w.]+\n",
    "found_emails_fixed = re.findall(email_pattern_fixed, sample_text)\n",
    "print(f\"Fixed Found Emails: {found_emails_fixed}\")"
   ]
  },
  {
   "cell_type": "code",
   "execution_count": 8,
   "id": "bbdc48a8-5489-4f45-a6d1-000d5956dd21",
   "metadata": {},
   "outputs": [
    {
     "name": "stdout",
     "output_type": "stream",
     "text": [
      "01/25/2023\n"
     ]
    }
   ],
   "source": [
    "# Write a regular expression that matches a string representing a simple date in the format MM/DD/YYYY.\n",
    "# Example: \"01/25/2023\"\n",
    "\n",
    "import re\n",
    "date_regex = re.compile(r'\\d\\d/\\d\\d/\\d\\d\\d\\d')\n",
    "mo = date_regex.search('Today is 01/25/2023 and it\\'s a good day.')\n",
    "print(mo.group() if mo else \"No match\")\n",
    "# Expected Output: 01/25/2023"
   ]
  },
  {
   "cell_type": "code",
   "execution_count": 10,
   "id": "f962cbc8-e7b3-4a3a-8cef-2e39acf8ce6b",
   "metadata": {},
   "outputs": [
    {
     "name": "stdout",
     "output_type": "stream",
     "text": [
      "['3', '12', '200']\n"
     ]
    }
   ],
   "source": [
    "# Using re.findall(), extract all the numbers (sequences of one or more digits) from the following string:\n",
    "# \"I have 3 apples, 12 oranges, and 200 grapes.\"\n",
    "\n",
    "import re\n",
    "text = \"I have 3 apples, 12 oranges, and 200 grapes.\"\n",
    "numbers = re.findall(r'\\d+', text)\n",
    "print(numbers)\n",
    "# Expected Output: ['3', '12', '200']"
   ]
  },
  {
   "cell_type": "code",
   "execution_count": 11,
   "id": "19396881-0364-4dcb-9699-96ec352f7e01",
   "metadata": {},
   "outputs": [
    {
     "name": "stdout",
     "output_type": "stream",
     "text": [
      "555-123-4567\n",
      "(123) 456-7890\n"
     ]
    }
   ],
   "source": [
    "# Write a regex that matches phone numbers in the format XXX-XXX-XXXX or (XXX) XXX-XXXX. Assume X is a digit.\n",
    "\n",
    "import re\n",
    "phone_regex = re.compile(r'(\\d{3}-\\d{3}-\\d{4})|(\\(\\d{3}\\) \\d{3}-\\d{4})')\n",
    "text1 = \"My number is 555-123-4567.\"\n",
    "text2 = \"Call me at (123) 456-7890 please.\"\n",
    "mo1 = phone_regex.search(text1)\n",
    "mo2 = phone_regex.search(text2)\n",
    "print(mo1.group() if mo1 else \"No match 1\")\n",
    "print(mo2.group() if mo2 else \"No match 2\")"
   ]
  },
  {
   "cell_type": "code",
   "execution_count": 12,
   "id": "ea0405c8-d017-4b6b-a6f7-7e0fc385fb37",
   "metadata": {},
   "outputs": [
    {
     "name": "stdout",
     "output_type": "stream",
     "text": [
      "<re.Match object; span=(6, 11), match='world'>\n",
      "None\n"
     ]
    }
   ],
   "source": [
    "# Explain the difference between re.search() and re.match().\n",
    "\n",
    "import re\n",
    "text = \"hello world\"\n",
    "print(re.search('world', text)) # <re.Match object; span=(6, 11), match='world'>\n",
    "print(re.match('world', text))  # None (because 'world' is not at the beginning)"
   ]
  },
  {
   "cell_type": "code",
   "execution_count": 13,
   "id": "0ad4ddbc-d04a-44e8-8bcf-1adc9fc60a23",
   "metadata": {},
   "outputs": [
    {
     "name": "stdout",
     "output_type": "stream",
     "text": [
      "['boats', 'bats', 'bikes', 'busses']\n"
     ]
    }
   ],
   "source": [
    "# Write a regex to find words that start with \"b\" and end with \"s\".\n",
    "# Example string: \"boats bats bikes busses\"\n",
    "\n",
    "import re\n",
    "text = \"boats bats bikes busses\"\n",
    "pattern = re.compile(r'b\\w*s') # \\w* matches zero or more word characters\n",
    "matches = pattern.findall(text)\n",
    "print(matches)"
   ]
  },
  {
   "cell_type": "code",
   "execution_count": 14,
   "id": "a10fc3f9-8c66-4cdf-a61e-82deff121b90",
   "metadata": {},
   "outputs": [
    {
     "name": "stdout",
     "output_type": "stream",
     "text": [
      "World\n"
     ]
    }
   ],
   "source": [
    "# How do you make a regex case-insensitive in Python?\n",
    "import re\n",
    "text = \"Hello World\"\n",
    "mo = re.search(r'world', text, re.IGNORECASE)\n",
    "print(mo.group() if mo else \"No match\")\n",
    "# Expected Output: World"
   ]
  },
  {
   "cell_type": "code",
   "execution_count": 15,
   "id": "a5a3f0cd-1063-406b-b612-743eaaa0f0fa",
   "metadata": {},
   "outputs": [
    {
     "name": "stdout",
     "output_type": "stream",
     "text": [
      "Greedy: <h1>Title 1</h1> <h1>Title 2</h1>\n",
      "Lazy: <h1>Title 1</h1>\n"
     ]
    }
   ],
   "source": [
    "# What does .* mean in a regular expression? What about .*??\n",
    "\n",
    "# .*: Matches any character (except newline) zero or more times. This is a \"greedy\" match, meaning it will try to match as much text as possible.\n",
    "\n",
    "# .*?: Matches any character (except newline) zero or more times in a \"non-greedy\" (or \"lazy\") way. It will try to match as little text as possible.\n",
    "\n",
    "import re\n",
    "text = \"<h1>Title 1</h1> <h1>Title 2</h1>\"\n",
    "# Greedy:\n",
    "greedy_match = re.search(r'<h1>.*</h1>', text)\n",
    "print(f\"Greedy: {greedy_match.group()}\")\n",
    "# Non-greedy:\n",
    "lazy_match = re.search(r'<h1>.*?</h1>', text)\n",
    "print(f\"Lazy: {lazy_match.group()}\")\n",
    "# Expected Output:\n",
    "# Greedy: <h1>Title 1</h1> <h1>Title 2</h1>\n",
    "# Lazy: <h1>Title 1</h1>"
   ]
  },
  {
   "cell_type": "code",
   "execution_count": 16,
   "id": "c53f43d9-e05e-4051-8278-cefb92a11e40",
   "metadata": {},
   "outputs": [
    {
     "name": "stdout",
     "output_type": "stream",
     "text": [
      "<re.Match object; span=(0, 5), match='hello'>\n",
      "None\n",
      "None\n",
      "None\n"
     ]
    }
   ],
   "source": [
    "# Write a regular expression to match strings that are exactly 5 characters long, consisting only of letters (uppercase or lowercase).\n",
    "\n",
    "import re\n",
    "# ^ matches start of string, $ matches end of string\n",
    "# [a-zA-Z] matches any letter, {5} matches exactly 5 times\n",
    "pattern = re.compile(r'^[a-zA-Z]{5}$')\n",
    "print(pattern.search(\"hello\"))   # <re.Match object...>\n",
    "print(pattern.search(\"world!\"))  # None\n",
    "print(pattern.search(\"four\"))    # None\n",
    "print(pattern.search(\"12345\"))   # None"
   ]
  },
  {
   "cell_type": "code",
   "execution_count": 17,
   "id": "db1a0bc7-5279-48b2-91d3-2d0345db5ee8",
   "metadata": {},
   "outputs": [
    {
     "name": "stdout",
     "output_type": "stream",
     "text": [
      "['https://example.com', 'https://another.org/path']\n"
     ]
    }
   ],
   "source": [
    "# How would you extract all the URLs starting with https:// from a given text? (Simplify the URL pattern to just https:// followed by non-whitespace characters).\n",
    "\n",
    "import re\n",
    "text = \"Visit https://example.com or https://another.org/path and also http://insecure.net.\"\n",
    "urls = re.findall(r'https://\\S+', text) # \\S+ matches one or more non-whitespace characters\n",
    "print(urls)\n",
    "# Expected Output: ['https://example.com', 'https://another.org/path']"
   ]
  },
  {
   "cell_type": "code",
   "execution_count": 18,
   "id": "d1398ed5-6fa7-443b-87de-ead7d60792a0",
   "metadata": {},
   "outputs": [
    {
     "name": "stdout",
     "output_type": "stream",
     "text": [
      "Word 'cat': ['cat']\n",
      "Any 'cat': ['cat', 'cat', 'cat']\n"
     ]
    }
   ],
   "source": [
    "# What does \\b represent in a regular expression? Provide a simple example.\n",
    "\n",
    "import re\n",
    "text = \"cat catcher concatenate\"\n",
    "# Find 'cat' as a whole word\n",
    "matches_word = re.findall(r'\\bcat\\b', text)\n",
    "print(f\"Word 'cat': {matches_word}\")\n",
    "\n",
    "# Find 'cat' anywhere\n",
    "matches_any = re.findall(r'cat', text)\n",
    "print(f\"Any 'cat': {matches_any}\")\n",
    "# Expected Output:\n",
    "# Word 'cat': ['cat']\n",
    "# Any 'cat': ['cat', 'cat', 'cat']"
   ]
  },
  {
   "cell_type": "code",
   "execution_count": 19,
   "id": "da47ac44-bcbc-4327-9ef2-fc5e96bce6f6",
   "metadata": {},
   "outputs": [
    {
     "name": "stdout",
     "output_type": "stream",
     "text": [
      "Full match: 555-123-4567\n",
      "Area Code: 555\n",
      "Main Number: 123-4567\n"
     ]
    }
   ],
   "source": [
    "# Extracting Area Code and Number:\n",
    "\n",
    "import re\n",
    "phone_regex = re.compile(r'(\\d{3})-(\\d{3}-\\d{4})')\n",
    "mo = phone_regex.search('My number is 555-123-4567.')\n",
    "if mo:\n",
    "    print(f\"Full match: {mo.group(0)}\") # or just mo.group()\n",
    "    print(f\"Area Code: {mo.group(1)}\")\n",
    "    print(f\"Main Number: {mo.group(2)}\")\n",
    "# Output:\n",
    "# Full match: 555-123-4567\n",
    "# Area Code: 555\n",
    "# Main Number: 123-4567"
   ]
  },
  {
   "cell_type": "code",
   "execution_count": 20,
   "id": "fe882736-c9ed-428b-91f7-34e8d84e1388",
   "metadata": {},
   "outputs": [
    {
     "name": "stdout",
     "output_type": "stream",
     "text": [
      "[('support', 'example.com'), ('admin', 'test.org')]\n"
     ]
    }
   ],
   "source": [
    "# Using findall() with Groups:\n",
    "\n",
    "import re\n",
    "email_regex = re.compile(r'(\\w+)@(\\w+\\.\\w+)') # (username)@(domain)\n",
    "text = \"Contact support@example.com or admin@test.org\"\n",
    "matches = email_regex.findall(text)\n",
    "print(matches)\n",
    "# Output: [('support', 'example.com'), ('admin', 'test.org')]"
   ]
  },
  {
   "cell_type": "code",
   "execution_count": 21,
   "id": "73e9be46-a59e-4c90-a24d-a147496ecb4f",
   "metadata": {},
   "outputs": [
    {
     "name": "stdout",
     "output_type": "stream",
     "text": [
      "hahaha\n"
     ]
    },
    {
     "ename": "AttributeError",
     "evalue": "'NoneType' object has no attribute 'group'",
     "output_type": "error",
     "traceback": [
      "\u001b[0;31m---------------------------------------------------------------------------\u001b[0m",
      "\u001b[0;31mAttributeError\u001b[0m                            Traceback (most recent call last)",
      "Cell \u001b[0;32mIn[21], line 7\u001b[0m\n\u001b[1;32m      5\u001b[0m ha_regex \u001b[38;5;241m=\u001b[39m re\u001b[38;5;241m.\u001b[39mcompile(\u001b[38;5;124mr\u001b[39m\u001b[38;5;124m'\u001b[39m\u001b[38;5;124m(ha)\u001b[39m\u001b[38;5;124m{\u001b[39m\u001b[38;5;124m2,3}\u001b[39m\u001b[38;5;124m'\u001b[39m)\n\u001b[1;32m      6\u001b[0m \u001b[38;5;28mprint\u001b[39m(ha_regex\u001b[38;5;241m.\u001b[39msearch(\u001b[38;5;124m'\u001b[39m\u001b[38;5;124mhahaha!\u001b[39m\u001b[38;5;124m'\u001b[39m)\u001b[38;5;241m.\u001b[39mgroup())\n\u001b[0;32m----> 7\u001b[0m \u001b[38;5;28mprint\u001b[39m(ha_regex\u001b[38;5;241m.\u001b[39msearch(\u001b[38;5;124m'\u001b[39m\u001b[38;5;124mhah!\u001b[39m\u001b[38;5;124m'\u001b[39m)\u001b[38;5;241m.\u001b[39mgroup())\n\u001b[1;32m      8\u001b[0m \u001b[38;5;28mprint\u001b[39m(ha_regex\u001b[38;5;241m.\u001b[39msearch(\u001b[38;5;124m'\u001b[39m\u001b[38;5;124mha!\u001b[39m\u001b[38;5;124m'\u001b[39m))\n",
      "\u001b[0;31mAttributeError\u001b[0m: 'NoneType' object has no attribute 'group'"
     ]
    }
   ],
   "source": [
    "# Applying Quantifiers to Groups:\n",
    "\n",
    "import re\n",
    "# Matches 'ha' repeated 2 to 3 times, followed by '!'\n",
    "ha_regex = re.compile(r'(ha){2,3}')\n",
    "print(ha_regex.search('hahaha!').group())\n",
    "print(ha_regex.search('hah!').group())\n",
    "print(ha_regex.search('ha!')) # None\n",
    "# Output:\n",
    "# hahaha\n",
    "# haha\n",
    "# None"
   ]
  },
  {
   "cell_type": "code",
   "execution_count": 22,
   "id": "4aecdd7a-7d6b-40c3-88ae-c2d4b6f9cce1",
   "metadata": {},
   "outputs": [
    {
     "name": "stdout",
     "output_type": "stream",
     "text": [
      "hahaha\n",
      "No match found for 'hah!'\n",
      "No match found for 'ha!'\n"
     ]
    }
   ],
   "source": [
    "import re\n",
    "\n",
    "ha_regex = re.compile(r'(ha){2,3}')\n",
    "\n",
    "# Test case 1: 'hahaha!'\n",
    "match1 = ha_regex.search('hahaha!')\n",
    "if match1:\n",
    "    print(match1.group())\n",
    "else:\n",
    "    print(\"No match found for 'hahaha!'\")\n",
    "\n",
    "# Test case 2: 'hah!'\n",
    "match2 = ha_regex.search('hah!')\n",
    "if match2: # This condition will be False because match2 is None\n",
    "    print(match2.group())\n",
    "else:\n",
    "    print(\"No match found for 'hah!'\") # This will be printed\n",
    "\n",
    "# Test case 3: 'ha!'\n",
    "match3 = ha_regex.search('ha!')\n",
    "if match3: # This condition will be False because match3 is None\n",
    "    print(match3.group())\n",
    "else:\n",
    "    print(\"No match found for 'ha!'\") # This will be printed"
   ]
  },
  {
   "cell_type": "code",
   "execution_count": 23,
   "id": "986823d8-f619-4727-abd5-6e1fb0b99974",
   "metadata": {},
   "outputs": [
    {
     "name": "stdout",
     "output_type": "stream",
     "text": [
      "Area Code: 987\n",
      "Prefix: 654\n",
      "Line Number: 3210\n"
     ]
    }
   ],
   "source": [
    "# Named Groups (for clarity):\n",
    "# You can name your groups using (?P<name>...) for easier access by name.\n",
    "\n",
    "import re\n",
    "phone_regex_named = re.compile(r'(?P<area_code>\\d{3})-(?P<prefix>\\d{3})-(?P<line_number>\\d{4})')\n",
    "mo = phone_regex_named.search('Call me at 987-654-3210.')\n",
    "if mo:\n",
    "    print(f\"Area Code: {mo.group('area_code')}\")\n",
    "    print(f\"Prefix: {mo.group('prefix')}\")\n",
    "    print(f\"Line Number: {mo.group('line_number')}\")\n",
    "# Output:\n",
    "# Area Code: 987\n",
    "# Prefix: 654\n",
    "# Line Number: 3210"
   ]
  },
  {
   "cell_type": "code",
   "execution_count": 24,
   "id": "d2d1e72d-76e4-480d-b92c-4e9213fcfdbb",
   "metadata": {},
   "outputs": [
    {
     "name": "stdout",
     "output_type": "stream",
     "text": [
      "['bat', 'cat']\n",
      "['b', 'c']\n"
     ]
    }
   ],
   "source": [
    "# Non-Capturing Groups (?:...):\n",
    "# Sometimes you need a group for applying a quantifier or alternation, but you don't want to capture its content. Use (?:...).\n",
    "\n",
    "import re\n",
    "# Matches 'bat' or 'cat' but doesn't capture 'b' or 'c' separately\n",
    "animal_regex = re.compile(r'(?:b|c)at')\n",
    "print(animal_regex.findall(\"I saw a bat and a cat.\"))\n",
    "# Compared to (b|c)at which would give [('b',), ('c',)]\n",
    "print(re.findall(r'(b|c)at', \"I saw a bat and a cat.\"))\n",
    "# Output:\n",
    "# ['bat', 'cat']\n",
    "# ['b', 'c']"
   ]
  },
  {
   "cell_type": "code",
   "execution_count": 25,
   "id": "4586ab91-c77b-40b4-a714-4f9d0e22c9cb",
   "metadata": {},
   "outputs": [
    {
     "name": "stdout",
     "output_type": "stream",
     "text": [
      "The price is $XXX.XX and the quantity is X.\n"
     ]
    }
   ],
   "source": [
    "# re.sub() (Substitute)\n",
    "# The re.sub() function allows you to find all occurrences of a pattern in a string and \n",
    "# replace them with a different string.\n",
    "# Syntax: re.sub(pattern, replacement, string, count=0, flags=0)\n",
    "\n",
    "text = \"The price is $123.45 and the quantity is 7.\"\n",
    "new_text = re.sub(r'\\d', 'X', text)\n",
    "print(new_text)"
   ]
  },
  {
   "cell_type": "code",
   "execution_count": 26,
   "id": "e6808f43-09ad-49b4-848b-b75bc4527447",
   "metadata": {},
   "outputs": [
    {
     "name": "stdout",
     "output_type": "stream",
     "text": [
      "I like bananas and oranges. Apples are great.\n"
     ]
    }
   ],
   "source": [
    "# Replacing specific words:\n",
    "\n",
    "import re\n",
    "text = \"I like apples and oranges. Apples are great.\"\n",
    "new_text = re.sub(r'apples', 'bananas', text, re.IGNORECASE) # Case-insensitive replacement\n",
    "print(new_text)"
   ]
  },
  {
   "cell_type": "code",
   "execution_count": 27,
   "id": "3affe23e-5d9a-484c-ba17-12a90029bb9e",
   "metadata": {},
   "outputs": [
    {
     "name": "stdout",
     "output_type": "stream",
     "text": [
      "John Doe\n"
     ]
    }
   ],
   "source": [
    "# Using groups in replacement (backreferences):\n",
    "# You can refer to captured groups in your replacement string using \\1, \\2, etc., or \n",
    "# \\g<name> for named groups.\n",
    "\n",
    "import re\n",
    "# Swap first and last names (LastName, FirstName -> FirstName LastName)\n",
    "name_format = re.compile(r'(\\w+), (\\w+)')\n",
    "text = \"Doe, John\"\n",
    "new_name = name_format.sub(r'\\2 \\1', text)\n",
    "print(new_name)\n",
    "# Output: John Doe"
   ]
  },
  {
   "cell_type": "code",
   "execution_count": 28,
   "id": "492d5d7b-d8a2-40f6-b35d-c0564696fd0e",
   "metadata": {},
   "outputs": [
    {
     "name": "stdout",
     "output_type": "stream",
     "text": [
      "This has too many spaces.\n"
     ]
    }
   ],
   "source": [
    "# Replacing multiple spaces with a single space:\n",
    "\n",
    "import re\n",
    "text = \"This   has   too  many   spaces.\"\n",
    "cleaned_text = re.sub(r'\\s+', ' ', text)\n",
    "print(cleaned_text)\n",
    "# Output: This has too many spaces."
   ]
  },
  {
   "cell_type": "code",
   "execution_count": 29,
   "id": "91a60c41-0222-4270-87d7-2cbc5f3f1a62",
   "metadata": {},
   "outputs": [
    {
     "name": "stdout",
     "output_type": "stream",
     "text": [
      "My secret code is *****, not ***.\n"
     ]
    }
   ],
   "source": [
    "# Replacing with a function (more advanced):\n",
    "# The replacement argument can also be a function that takes a Match object and \n",
    "# returns the replacement string.\n",
    "\n",
    "import re\n",
    "def censor_number(match_obj):\n",
    "    number = match_obj.group(0)\n",
    "    return '*' * len(number) # Replace number with asterisks of same length\n",
    "\n",
    "text = \"My secret code is 12345, not 678.\"\n",
    "censored_text = re.sub(r'\\d+', censor_number, text)\n",
    "print(censored_text)\n",
    "# Output: My secret code is *****, not ***."
   ]
  },
  {
   "cell_type": "code",
   "execution_count": 30,
   "id": "ecb99f9a-826f-4048-a28c-cd4d9fcf745f",
   "metadata": {},
   "outputs": [
    {
     "name": "stdout",
     "output_type": "stream",
     "text": [
      "['123-456-7890', '987-654-3210']\n"
     ]
    }
   ],
   "source": [
    "# Basic compilation and usage:\n",
    "phone_pattern = re.compile(r'\\d{3}-\\d{3}-\\d{4}')\n",
    "text = \"Call 123-456-7890 or 987-654-3210.\"\n",
    "print(phone_pattern.findall(text))"
   ]
  },
  {
   "cell_type": "code",
   "execution_count": 31,
   "id": "cb41b39f-eb91-4aea-9c81-45c9e0014bd0",
   "metadata": {},
   "outputs": [
    {
     "name": "stdout",
     "output_type": "stream",
     "text": [
      "['Python', 'python']\n"
     ]
    }
   ],
   "source": [
    "# Using flags with re.compile():\n",
    "word_pattern = re.compile(r'python', re.IGNORECASE)\n",
    "text = \"Python is great. I love python.\"\n",
    "print(word_pattern.findall(text))"
   ]
  },
  {
   "cell_type": "code",
   "execution_count": 32,
   "id": "29926e6b-4435-4fd2-972f-9e992370faf1",
   "metadata": {},
   "outputs": [
    {
     "name": "stdout",
     "output_type": "stream",
     "text": [
      "Date found: 10/26/2023\n",
      "Date found: 11/01/2023\n"
     ]
    }
   ],
   "source": [
    "# Compiling a complex pattern once:\n",
    "import re\n",
    "# Compile a pattern for extracting dates in MM/DD/YYYY format\n",
    "date_pattern = re.compile(r'(\\d{2})/(\\d{2})/(\\d{4})')\n",
    "log_data = [\n",
    "    \"Event 1 on 10/26/2023 at 14:00\",\n",
    "    \"Event 2 on 11/01/2023 at 10:30\",\n",
    "    \"No date here\"\n",
    "]\n",
    "for line in log_data:\n",
    "    mo = date_pattern.search(line)\n",
    "    if mo:\n",
    "        print(f\"Date found: {mo.group()}\")"
   ]
  },
  {
   "cell_type": "code",
   "execution_count": 33,
   "id": "473e4c63-7a0e-4c67-a4a5-ee77d98e916c",
   "metadata": {},
   "outputs": [
    {
     "name": "stdout",
     "output_type": "stream",
     "text": [
      "Username: my.email\n",
      "Domain: example.com\n"
     ]
    }
   ],
   "source": [
    "# Using re.VERBOSE flag with re.compile():\n",
    "import re\n",
    "\n",
    "# Regex for a simple email: user@domain.tld\n",
    "email_pattern_verbose = re.compile(r'''\n",
    "    ([a-zA-Z0-9._%+-]+)    # username\n",
    "    @                      # @ symbol\n",
    "    ([a-zA-Z0-9.-]+)       # domain name\n",
    "    (\\.[a-zA-Z]{2,4})      # dot-something (e.g., .com, .org)\n",
    "''', re.VERBOSE)\n",
    "\n",
    "mo = email_pattern_verbose.search('my.email@example.com')\n",
    "if mo:\n",
    "    print(f\"Username: {mo.group(1)}\")\n",
    "    print(f\"Domain: {mo.group(2)}{mo.group(3)}\")"
   ]
  },
  {
   "cell_type": "code",
   "execution_count": 34,
   "id": "018ed419-7697-46ce-a6b6-39b5bfa5475a",
   "metadata": {},
   "outputs": [
    {
     "name": "stdout",
     "output_type": "stream",
     "text": [
      "Using re.compile() is generally better for repeated use of the same pattern.\n"
     ]
    }
   ],
   "source": [
    "# Comparing performance (conceptual):\n",
    "import re\n",
    "# Less efficient for many iterations:\n",
    "# for i in range(10000):\n",
    "#     re.search(r'abc', 'abcdef')\n",
    "\n",
    "# More efficient for many iterations:\n",
    "compiled_pattern = re.compile(r'abc')\n",
    "# for i in range(10000):\n",
    "#     compiled_pattern.search('abcdef')\n",
    "print(\"Using re.compile() is generally better for repeated use of the same pattern.\")"
   ]
  },
  {
   "cell_type": "code",
   "execution_count": 35,
   "id": "a5a45a76-cbd1-46e4-8f44-58d45852cfbc",
   "metadata": {},
   "outputs": [
    {
     "name": "stdout",
     "output_type": "stream",
     "text": [
      "['e', 'o', 'o']\n"
     ]
    }
   ],
   "source": [
    "# Matching any vowel:\n",
    "import re\n",
    "vowel_regex = re.compile(r'[aeiouAEIOU]')\n",
    "text = \"Hello World\"\n",
    "print(vowel_regex.findall(text))"
   ]
  },
  {
   "cell_type": "code",
   "execution_count": 36,
   "id": "fe32fd7c-55bb-4b49-94bb-e8327968c582",
   "metadata": {},
   "outputs": [
    {
     "name": "stdout",
     "output_type": "stream",
     "text": [
      "['a', 'b', 'c', 'd', 'e', 'f']\n"
     ]
    }
   ],
   "source": [
    "# Matching a range of characters:\n",
    "import re\n",
    "# Match any lowercase letter from 'a' to 'f'\n",
    "af_regex = re.compile(r'[a-f]')\n",
    "text = \"abcdefghijkl\"\n",
    "print(af_regex.findall(text))"
   ]
  },
  {
   "cell_type": "code",
   "execution_count": 37,
   "id": "f266499c-44c8-486d-ad92-58a8e27fc53b",
   "metadata": {},
   "outputs": [
    {
     "name": "stdout",
     "output_type": "stream",
     "text": [
      "['(', '1', '0', '+', '2', '0', ')', '-', '5']\n"
     ]
    }
   ],
   "source": [
    "# Combining ranges and individual characters:\n",
    "\n",
    "# Match digits, plus signs, minus signs, or parentheses\n",
    "math_chars = re.compile(r'[0-9+\\-()]') # - needs to be escaped or at start/end\n",
    "text = \"Calculate (10 + 20) - 5\"\n",
    "print(math_chars.findall(text))\n",
    "# Output: ['(', '1', '0', '+', '2', '0', ')', '-', '5']"
   ]
  },
  {
   "cell_type": "code",
   "execution_count": 39,
   "id": "417e91f4-a115-4dd0-a726-dd79a7ca7244",
   "metadata": {},
   "outputs": [
    {
     "name": "stdout",
     "output_type": "stream",
     "text": [
      "['H', 'l', 'l', 'W', 'r', 'l', 'd']\n"
     ]
    }
   ],
   "source": [
    "# Negative Character Sets ([^...]):\n",
    "import re\n",
    "# Match any character that is NOT a vowel\n",
    "not_vowel_regex = re.compile(r'[^aeiouAEIOU\\s]') # also exclude whitespace\n",
    "text = \"Hello World\"\n",
    "print(not_vowel_regex.findall(text))"
   ]
  },
  {
   "cell_type": "code",
   "execution_count": 40,
   "id": "c2a9fc39-55b3-4a15-9bdb-e4ee52ffcc55",
   "metadata": {},
   "outputs": [
    {
     "name": "stdout",
     "output_type": "stream",
     "text": [
      "['!', ' ', ' ', ' ', '?', ' ', ' ', ',', ' ', '.']\n"
     ]
    }
   ],
   "source": [
    "# Matching specific symbols/punctuation:\n",
    "# Match any of !, ?, ., or ,\n",
    "punctuation_regex = re.compile(r'[!?. ,]') # space is also a character\n",
    "text = \"Hello! How are you? I'm fine, thanks.\"\n",
    "print(punctuation_regex.findall(text))"
   ]
  },
  {
   "cell_type": "code",
   "execution_count": 41,
   "id": "437fa5ea-b995-4301-a25f-c90d376f88fb",
   "metadata": {},
   "outputs": [
    {
     "name": "stdout",
     "output_type": "stream",
     "text": [
      "<re.Match object; span=(0, 5), match='Hello'>\n",
      "None\n"
     ]
    }
   ],
   "source": [
    "# Anchors (^ and $)\n",
    "# String must start with \"Hello\":\n",
    "starts_hello = re.compile(r'^Hello')\n",
    "print(starts_hello.search('Hello World'))\n",
    "print(starts_hello.search('World Hello'))"
   ]
  },
  {
   "cell_type": "code",
   "execution_count": 42,
   "id": "7ec03db0-129b-4270-af77-7d672dcd5c29",
   "metadata": {},
   "outputs": [
    {
     "name": "stdout",
     "output_type": "stream",
     "text": [
      "<re.Match object; span=(6, 11), match='World'>\n",
      "None\n"
     ]
    }
   ],
   "source": [
    "# String must end with \"World\":\n",
    "ends_world = re.compile(r'World$')\n",
    "print(ends_world.search('Hello World'))\n",
    "print(ends_world.search('World Hello'))"
   ]
  },
  {
   "cell_type": "code",
   "execution_count": 43,
   "id": "6c62c1f1-ae2e-4c98-8cb8-f135c4fcc184",
   "metadata": {},
   "outputs": [
    {
     "name": "stdout",
     "output_type": "stream",
     "text": [
      "<re.Match object; span=(0, 5), match='apple'>\n",
      "None\n",
      "None\n"
     ]
    }
   ],
   "source": [
    "# Exact string match (entire string must match the pattern):\n",
    "exact_word = re.compile(r'^apple$')\n",
    "print(exact_word.search('apple'))\n",
    "print(exact_word.search('apple sauce'))\n",
    "print(exact_word.search('red apple'))"
   ]
  },
  {
   "cell_type": "code",
   "execution_count": 44,
   "id": "e1a87895-21ea-4744-bbfc-19b5dabc65b6",
   "metadata": {},
   "outputs": [
    {
     "name": "stdout",
     "output_type": "stream",
     "text": [
      "['2']\n"
     ]
    }
   ],
   "source": [
    "# Matching lines that start with a digit (when using re.MULTILINE):\n",
    "text = \"Line 1\\n2nd Line\\nLine 3\"\n",
    "# Matches lines starting with a digit\n",
    "digit_start_line = re.compile(r'^\\d', re.MULTILINE)\n",
    "print(digit_start_line.findall(text))"
   ]
  },
  {
   "cell_type": "code",
   "execution_count": 45,
   "id": "275c993b-d936-4fb4-b0e6-189e9e350d67",
   "metadata": {},
   "outputs": [
    {
     "name": "stdout",
     "output_type": "stream",
     "text": [
      "['line.']\n"
     ]
    }
   ],
   "source": [
    "# Matching lines that end with a specific word (with re.MULTILINE):\n",
    "text = \"This is the first line.\\nSecond line here.\\nThird line end.\"\n",
    "# Matches lines ending with 'line.'\n",
    "ends_line = re.compile(r'line\\.$', re.MULTILINE)\n",
    "print(ends_line.findall(text))\n",
    "# Output: ['line.', 'line.']"
   ]
  },
  {
   "cell_type": "code",
   "execution_count": null,
   "id": "0be3ee15-0000-4e08-9eba-d46fdf3f7fe1",
   "metadata": {},
   "outputs": [],
   "source": []
  }
 ],
 "metadata": {
  "kernelspec": {
   "display_name": "Python 3 (ipykernel)",
   "language": "python",
   "name": "python3"
  },
  "language_info": {
   "codemirror_mode": {
    "name": "ipython",
    "version": 3
   },
   "file_extension": ".py",
   "mimetype": "text/x-python",
   "name": "python",
   "nbconvert_exporter": "python",
   "pygments_lexer": "ipython3",
   "version": "3.12.7"
  }
 },
 "nbformat": 4,
 "nbformat_minor": 5
}

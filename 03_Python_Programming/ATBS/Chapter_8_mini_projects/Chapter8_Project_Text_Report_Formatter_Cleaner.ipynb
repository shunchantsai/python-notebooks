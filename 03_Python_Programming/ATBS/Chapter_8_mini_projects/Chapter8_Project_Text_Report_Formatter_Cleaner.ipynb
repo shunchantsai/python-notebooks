{
 "cells": [
  {
   "cell_type": "code",
   "execution_count": 1,
   "id": "30b349f5-b3f5-4ab5-84c4-9cb9defb71c3",
   "metadata": {},
   "outputs": [],
   "source": [
    "#🧠 Concept:\n",
    "#Build a script that:\n",
    "\n",
    "#Takes in messy .txt files (e.g. meeting notes, email logs, raw transcripts)\n",
    "#Cleans them up by:\n",
    "    #Stripping extra blank lines\n",
    "    #Removing excess whitespace\n",
    "    #Capitalizing proper sentences\n",
    "#Saves the cleaned version into a new .txt file"
   ]
  },
  {
   "cell_type": "code",
   "execution_count": 2,
   "id": "1d5fdfb2-f5dc-4a6d-9b5e-91c6c852eb27",
   "metadata": {},
   "outputs": [],
   "source": [
    "# Part 1: File Handling in Jupyter\n",
    "def clean_text_file(input_path, output_path):\n",
    "    with open(input_path, 'r') as file:\n",
    "        lines = file.readlines()\n",
    "\n",
    "    cleaned_lines = []\n",
    "    for line in lines:\n",
    "        stripped = line.strip()\n",
    "        if stripped == '':\n",
    "            continue # skip empty lines\n",
    "        cleaned = stripped.capitalize() # or .title()\n",
    "        cleaned_lines.append(cleaned)\n",
    "\n",
    "    with open(output_path, 'w') as file:\n",
    "        for line in cleaned_lines:\n",
    "            file.write(line + '\\n')\n",
    "\n",
    "# Example use:\n",
    "clean_text_file('input.txt', 'cleaned_report.txt')"
   ]
  },
  {
   "cell_type": "code",
   "execution_count": 3,
   "id": "5c98ad89-32e1-45ca-b54b-6aa135bac02a",
   "metadata": {},
   "outputs": [],
   "source": [
    "# 🧼 Part 2: Full Project – Text Report Cleaner + Regex + Logging"
   ]
  },
  {
   "cell_type": "code",
   "execution_count": 4,
   "id": "c883f1b7-96f9-4c2c-8929-61391e9ee8c3",
   "metadata": {},
   "outputs": [],
   "source": [
    "import re\n",
    "import datetime\n",
    "import os"
   ]
  },
  {
   "cell_type": "code",
   "execution_count": 5,
   "id": "b9480342-c11c-4e22-b689-137207639b66",
   "metadata": {},
   "outputs": [],
   "source": [
    "# User Options + Setup\n",
    "\n",
    "# Choose input/output settings\n",
    "input_file = 'input.txt'\n",
    "output_file = 'cleaned_report.txt'\n",
    "log_file = 'cleaned_log.txt'\n",
    "\n",
    "# Options for formatting\n",
    "USE_TITLE_CASE = True  # Change to False for capitalize instead\n",
    "REMOVE_DUPLICATE_LINES = True"
   ]
  },
  {
   "cell_type": "code",
   "execution_count": 6,
   "id": "5dc72b3a-6386-4327-8d5d-44c94a070189",
   "metadata": {},
   "outputs": [],
   "source": [
    "# Main Cleaner Function with Regex and Logging\n",
    "\n",
    "def clean_text_file(input_path, output_path, log_path):\n",
    "    with open(input_path, 'r', encoding='utf-8') as f:\n",
    "        lines = f.readlines()\n",
    "\n",
    "    cleaned_lines = []\n",
    "    seen_lines = set()\n",
    "    log = []\n",
    "\n",
    "    for line in lines:\n",
    "        original = line.rstrip('\\n')\n",
    "\n",
    "        # 1. Strip leading/trailing whitespace\n",
    "        stripped = original.strip()\n",
    "\n",
    "        if stripped == '':\n",
    "            continue  # Skip empty lines\n",
    "\n",
    "        # 2. Optional: Remove duplicate lines\n",
    "        if REMOVE_DUPLICATE_LINES and stripped.lower() in seen_lines:\n",
    "            log.append(f\"[DUPLICATE] Skipped line: {stripped}\")\n",
    "            continue\n",
    "        seen_lines.add(stripped.lower())\n",
    "\n",
    "        # 3. Fix case\n",
    "        cleaned = stripped.title() if USE_TITLE_CASE else stripped.capitalize()\n",
    "\n",
    "        # 4. Regex cleanup\n",
    "        cleaned = re.sub(r'\\s+', ' ', cleaned)  # Replace multiple spaces with single space\n",
    "        cleaned = re.sub(r'\\b(\\d{1,2})[/-](\\d{1,2})[/-](\\d{2,4})\\b', r'\\1/\\2/\\3', cleaned)  # Fix date formats\n",
    "        cleaned = re.sub(r'[ ]{2,}', ' ', cleaned)  # Extra spaces\n",
    "        cleaned = re.sub(r'(?i)\\bemail\\b:?\\s*[\\w\\.-]+@[\\w\\.-]+', '[EMAIL REDACTED]', cleaned)\n",
    "        cleaned = re.sub(r'\\b\\d{3}[-\\s]?\\d{3}[-\\s]?\\d{4}\\b', '[PHONE REDACTED]', cleaned)\n",
    "\n",
    "        cleaned_lines.append(cleaned)\n",
    "        log.append(f\"[OK] {cleaned}\")\n",
    "\n",
    "    # Write cleaned text\n",
    "    with open(output_path, 'w', encoding='utf-8') as f:\n",
    "        for line in cleaned_lines:\n",
    "            f.write(line + '\\n')\n",
    "\n",
    "    # Write log\n",
    "    with open(log_path, 'a', encoding='utf-8') as log_file:\n",
    "        log_file.write(f\"--- Cleaning session at {datetime.datetime.now()} ---\\n\")\n",
    "        for entry in log:\n",
    "            log_file.write(entry + '\\n')\n",
    "        log_file.write('\\n')\n",
    "\n",
    "    print(f\"✅ Done! Cleaned {len(cleaned_lines)} lines. Log saved to {log_path}\")\n"
   ]
  },
  {
   "cell_type": "code",
   "execution_count": 7,
   "id": "9eee6201-4b26-4353-a445-db4dee48c23d",
   "metadata": {},
   "outputs": [
    {
     "name": "stdout",
     "output_type": "stream",
     "text": [
      "✅ Done! Cleaned 4 lines. Log saved to cleaned_log.txt\n"
     ]
    }
   ],
   "source": [
    "clean_text_file(input_file, output_file, log_file)"
   ]
  },
  {
   "cell_type": "code",
   "execution_count": 8,
   "id": "1f0ccb85-3936-48e5-b148-49876baca645",
   "metadata": {},
   "outputs": [],
   "source": [
    "# Example 1: Resume Parser & Formatter\n",
    "\n",
    "# 🔧 Task:\n",
    "# Clean and standardize a batch of raw resumes stored in .txt format by:\n",
    "## Removing extra spacing and blank lines\n",
    "## Extracting and redacting emails and phone numbers\n",
    "## Normalizing case and formatting headers (like \"Education\", \"Skills\", etc.)\n",
    "\n",
    "# 💡 Learn:\n",
    "## Use regex to detect headers like Skills: or EDUCATION\n",
    "## Group multiple regex patterns (emails, phones, LinkedIn URLs)\n",
    "## Apply title case to section headings but sentence case to bullet points"
   ]
  },
  {
   "cell_type": "code",
   "execution_count": 10,
   "id": "c97dc83b-739d-4b55-86c2-d84bb39ae920",
   "metadata": {},
   "outputs": [],
   "source": [
    "# Choose input/output settings\n",
    "input_file = 'input_example1.txt'\n",
    "output_file = 'cleaned_report_example1.txt'\n",
    "log_file = 'cleaned_log_example1.txt'\n",
    "\n",
    "# Options for formatting\n",
    "USE_TITLE_CASE = True  # Change to False for capitalize instead\n",
    "REMOVE_DUPLICATE_LINES = True"
   ]
  },
  {
   "cell_type": "code",
   "execution_count": 14,
   "id": "f3c0e3e8-908a-466d-9484-7de34178958d",
   "metadata": {},
   "outputs": [],
   "source": [
    "import re\n",
    "\n",
    "def clean_resume(input_path, output_path):\n",
    "    with open(input_path, 'r', encoding='utf-8') as f:\n",
    "        lines = f.readlines()\n",
    "\n",
    "    cleaned_lines = []\n",
    "    for line in lines:\n",
    "        stripped = line.strip()\n",
    "        if not stripped:\n",
    "            continue\n",
    "\n",
    "        # Normalize section headers like \"skills:\", \"education:\"\n",
    "        stripped = re.sub(r'^(name|email|phone|education|skills)\\s*:', \n",
    "                          lambda m: m.group(1).capitalize() + ':', \n",
    "                          stripped, flags=re.IGNORECASE) # Q: Ask about the regex here.\n",
    "\n",
    "        # Fix capitalization (title case unless it's an email)\n",
    "        if '@' not in stripped:\n",
    "            stripped = stripped.title()\n",
    "\n",
    "        # Redact emails/phones\n",
    "        stripped = re.sub(r'[\\w\\.-]+@[\\w\\.-]+', '[EMAIL REDACTED]', stripped)\n",
    "        stripped = re.sub(r'\\b\\d{3}[-.\\s]?\\d{3}[-.\\s]?\\d{4}\\b', '[PHONE REDACTED]', stripped)\n",
    "\n",
    "        cleaned_lines.append(stripped)\n",
    "\n",
    "    with open(output_path, 'w', encoding='utf-8') as f:\n",
    "        for line in cleaned_lines:\n",
    "            f.write(line + '\\n')\n",
    "\n",
    "    print(f\"✅ Resume cleaned and saved to {output_path}\")\n"
   ]
  },
  {
   "cell_type": "code",
   "execution_count": 15,
   "id": "52e99abe-3aa6-430a-bbf8-c98c23e76fbe",
   "metadata": {},
   "outputs": [
    {
     "name": "stdout",
     "output_type": "stream",
     "text": [
      "✅ Resume cleaned and saved to cleaned_report_example1.txt\n"
     ]
    }
   ],
   "source": [
    "clean_resume(input_file, output_file)"
   ]
  },
  {
   "cell_type": "code",
   "execution_count": 16,
   "id": "e9002b5a-987a-465c-b4d5-0df473191051",
   "metadata": {},
   "outputs": [],
   "source": [
    "# Example 2: Meeting Transcript Highlighter"
   ]
  },
  {
   "cell_type": "code",
   "execution_count": 17,
   "id": "23f5b832-61ed-4628-9639-d73cdbe03196",
   "metadata": {},
   "outputs": [
    {
     "name": "stdout",
     "output_type": "stream",
     "text": [
      "✅ meeting_example.txt created.\n"
     ]
    }
   ],
   "source": [
    "sample_transcript = \"\"\"\n",
    "alice: um yeah I think we should, you know, postpone the launch.\n",
    "bob: okay, like let's move forward with the new plan then.\n",
    "carol: uh I'm not sure, you know, if that's the best idea.\n",
    "alice: we could also ask [CONFIDENTIAL] for feedback.\n",
    "bob: yeah, email: bob.k@agency.com has more info.\n",
    "carol: call me at 555-123-4567 if needed.\n",
    "\"\"\"\n",
    "\n",
    "# Save to file\n",
    "with open('meeting_example.txt', 'w', encoding='utf-8') as f:\n",
    "    f.write(sample_transcript.strip())\n",
    "\n",
    "print(\"✅ meeting_example.txt created.\")"
   ]
  },
  {
   "cell_type": "code",
   "execution_count": 20,
   "id": "7b47f0ee-cbf4-4e3f-9c37-2a26b8b53164",
   "metadata": {},
   "outputs": [],
   "source": [
    "def clean_transcript(input_path, output_path):\n",
    "    with open(input_path, 'r', encoding = 'utf-8') as f:\n",
    "        lines = f.readlines()\n",
    "\n",
    "    cleaned_lines = []\n",
    "    for line in lines:\n",
    "        stripped = line.strip()\n",
    "        if not stripped: # Q: What does this part do here?\n",
    "            continue\n",
    "\n",
    "        # Remove filler words\n",
    "        stripped = re.sub(r'\\b(um|you know|like|uh)\\b', '', stripped, flags = re.IGNORECASE)\n",
    "\n",
    "        # Bold speaker names\n",
    "        stripped = re.sub(r'^([a-z]+):', lambda m: '**'+ m.group(1).upper() + '**', stripped, flags=re.IGNORECASE)\n",
    "\n",
    "        # Redact confidential blocks\n",
    "        if '[CONFIDENTIAL]' in stripped.upper():\n",
    "            cleaned_lines.append('[REDACTED]')\n",
    "        else:\n",
    "            cleaned_lines.append(stripped)\n",
    "\n",
    "    with open(output_path, 'w', encoding = 'utf-8') as f:\n",
    "        for line in cleaned_lines:\n",
    "            f.write(line + '\\n')\n",
    "\n",
    "    print(f\"✅ Transcript cleaned and saved to {output_path}\")"
   ]
  },
  {
   "cell_type": "code",
   "execution_count": 21,
   "id": "2a91d7a7-d43a-40db-9a64-caf4ee91a74b",
   "metadata": {},
   "outputs": [
    {
     "name": "stdout",
     "output_type": "stream",
     "text": [
      "✅ Transcript cleaned and saved to meeting_cleaned.txt\n"
     ]
    }
   ],
   "source": [
    "clean_transcript('meeting_example.txt', 'meeting_cleaned.txt')"
   ]
  },
  {
   "cell_type": "code",
   "execution_count": 22,
   "id": "d415fe12-35da-4eb3-b49b-2d45d837f54f",
   "metadata": {},
   "outputs": [],
   "source": [
    "# Example 3 CAT model risk note cleaner"
   ]
  },
  {
   "cell_type": "code",
   "execution_count": 23,
   "id": "e2601530-5fa6-43eb-b573-ce5b11220df7",
   "metadata": {},
   "outputs": [
    {
     "name": "stdout",
     "output_type": "stream",
     "text": [
      "✅ cat_report_example.txt created.\n"
     ]
    }
   ],
   "source": [
    "sample_cat_report = \"\"\"\n",
    "--- Page 1 of 3 ---\n",
    "\n",
    "Event: hurricane isabel\n",
    "Location: Outer Banks, NC\n",
    "Date: 9-18-2003\n",
    "Damage Estimate: $3.7B\n",
    "\n",
    "Remarks: widespread flooding. Thousands displaced. Poor drainage worsened flooding.\n",
    "\n",
    "Contact: claims-response@reinsurance.net\n",
    "\n",
    "--- Confidential Notes ---\n",
    "\n",
    "Backup contact: sandra_lee@agency.org\n",
    "storm report received on 09/18/03\n",
    "site visited 09-19-2003\n",
    "manual override: $3,700,000,000\n",
    "page: internal_use_only\n",
    "\n",
    "--- Page 2 of 3 ---\n",
    "\n",
    "Event: tornado outbreak\n",
    "Location: Tuscaloosa, AL\n",
    "Date: 4-27-2011\n",
    "Damage Estimate: $2.2B\n",
    "\n",
    "Eyewitness: “it ripped through the whole town...”\n",
    "Contact: b.tucker@tornadodata.com\n",
    "\n",
    "raw notes: property losses around 650 million.\n",
    "raw notes: fatalities reported ~250.\n",
    "\"\"\"\n",
    "\n",
    "# Save it as a text file\n",
    "with open('cat_report_example.txt', 'w', encoding='utf-8') as f:\n",
    "    f.write(sample_cat_report.strip())\n",
    "\n",
    "print(\"✅ cat_report_example.txt created.\")"
   ]
  },
  {
   "cell_type": "code",
   "execution_count": 25,
   "id": "80d586a5-a1f6-49fc-84c5-e6c13f91afff",
   "metadata": {},
   "outputs": [],
   "source": [
    "import datetime\n",
    "\n",
    "def clean_cat_report(input_path, output_path, log_path):\n",
    "    with open(input_path, 'r', encoding='utf-8') as f:\n",
    "        lines = f.readlines()\n",
    "\n",
    "    cleaned_lines = []\n",
    "    log = []\n",
    "\n",
    "    for line in lines:\n",
    "        original = line.strip()\n",
    "        if not original or '---' in original or 'Page' in original:\n",
    "            continue  # Skip headers and empty lines\n",
    "\n",
    "        cleaned = original\n",
    "\n",
    "        # Fix date format to MM/DD/YYYY\n",
    "        cleaned = re.sub(r'\\b(\\d{1,2})[-/](\\d{1,2})[-/](\\d{2,4})\\b', r'\\1/\\2/\\3', cleaned)\n",
    "\n",
    "        # Capitalize storm names and headings\n",
    "        cleaned = re.sub(r'^(event|location|date|damage estimate|remarks)\\s*:', \n",
    "                         lambda m: m.group(1).capitalize() + ':', \n",
    "                         cleaned, flags=re.IGNORECASE)\n",
    "\n",
    "        # Redact emails\n",
    "        cleaned = re.sub(r'[\\w\\.-]+@[\\w\\.-]+', '[EMAIL REDACTED]', cleaned)\n",
    "\n",
    "        # Add to cleaned lines and log\n",
    "        cleaned_lines.append(cleaned)\n",
    "        log.append(f\"[OK] {cleaned}\")\n",
    "\n",
    "    # Save cleaned report\n",
    "    with open(output_path, 'w', encoding='utf-8') as f:\n",
    "        for line in cleaned_lines:\n",
    "            f.write(line + '\\n')\n",
    "\n",
    "    # Save log\n",
    "    with open(log_path, 'a', encoding='utf-8') as log_file:\n",
    "        log_file.write(f\"--- CAT Cleaning Session {datetime.datetime.now()} ---\\n\")\n",
    "        for entry in log:\n",
    "            log_file.write(entry + '\\n')\n",
    "        log_file.write('\\n')\n",
    "\n",
    "    print(f\"✅ CAT report cleaned and saved to {output_path}. Log saved to {log_path}\")\n"
   ]
  },
  {
   "cell_type": "code",
   "execution_count": 26,
   "id": "91c3dfcc-ebb5-49e4-a910-72c688e7653b",
   "metadata": {},
   "outputs": [
    {
     "name": "stdout",
     "output_type": "stream",
     "text": [
      "✅ CAT report cleaned and saved to cat_report_cleaned.txt. Log saved to cat_report_log.txt\n"
     ]
    }
   ],
   "source": [
    "clean_cat_report('cat_report_example.txt', 'cat_report_cleaned.txt', 'cat_report_log.txt')\n"
   ]
  },
  {
   "cell_type": "code",
   "execution_count": null,
   "id": "de1db683-33fc-47bd-80b9-38dbbc35286b",
   "metadata": {},
   "outputs": [],
   "source": []
  }
 ],
 "metadata": {
  "kernelspec": {
   "display_name": "Python 3 (ipykernel)",
   "language": "python",
   "name": "python3"
  },
  "language_info": {
   "codemirror_mode": {
    "name": "ipython",
    "version": 3
   },
   "file_extension": ".py",
   "mimetype": "text/x-python",
   "name": "python",
   "nbconvert_exporter": "python",
   "pygments_lexer": "ipython3",
   "version": "3.12.7"
  }
 },
 "nbformat": 4,
 "nbformat_minor": 5
}
